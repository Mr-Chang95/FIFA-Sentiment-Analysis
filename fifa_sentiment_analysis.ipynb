{
 "cells": [
  {
   "cell_type": "markdown",
   "metadata": {},
   "source": [
    "# FIFA World Cup 2022 Tweets: Sentiment Analysis\n",
    "\n",
    "The objective of this data science project is to conduct sentiment analysis on tweets related to the FIFA World Cup 2022. By analyzing the sentiment of tweets, the project aims to gain deep and nuanced insights into the public's perception, emotions, and opinions surrounding the highly anticipated global sporting event. This information can be leveraged by various stakeholders, including event organizers, sponsors, and marketing teams, to make informed decisions and enhance user engagement in novel ways that align with the dynamic digital landscape.\n",
    "\n",
    "**Key Stakeholders:**\n",
    "\n",
    "- Event Organizers: The FIFA World Cup organizers can use sentiment analysis to gauge the overall sentiment of fans, identify potential issues, and ensure a positive experience during the event.\n",
    "\n",
    "- Sponsors: Sponsors can monitor sentiment to understand the effectiveness of their campaigns and brand perception among fans.\n",
    "\n",
    "- Marketing Teams: Marketing teams can adjust their strategies in real-time based on the sentiment analysis results to maximize engagement and reach.\n",
    "\n",
    "**Project Steps:**\n",
    "\n",
    "1. Data Preprocessing:\n",
    "\n",
    "    - Each tweet's text will undergo a meticulous preprocessing phase:\n",
    "    - Tokenization: Breaking down text into individual words.\n",
    "    - Cleaning: Removal of stopwords, URLs, mentions, and hashtags.\n",
    "    - Normalization: Applying stemming or lemmatization techniques to standardize words, ensuring consistency in sentiment analysis.\n",
    "\n",
    "2. Data Visualization:\n",
    "\n",
    "    - Harnessing the power of data visualization, the project will render sentiment insights into tangible and easily digestible formats.\n",
    "    - Sentiment distribution plots, word clouds of positive and negative words, and time series sentiment trends during the event will be constructed, enabling stakeholders to glean insights at a glance.\n",
    "\n",
    "3. Sentiment Analysis:\n",
    "\n",
    "    - The project will employ a sophisticated sentiment analysis model, such as the VADER framework, or alternatively, a machine learning model trained on sentiment-labeled datasets.\n",
    "    - By leveraging these models, sentiment scores will be calculated for each tweet, encompassing dimensions of positivity, negativity, neutrality, and an overall sentiment compound score.\n",
    "   \n",
    "4. Insights and Reporting:\n",
    "\n",
    "    - Comprehensive sentiment trend analyses will be performed, unveiling the ebb and flow of public sentiment across the duration of the World Cup.\n",
    "    - By correlating sentiment trends with specific event occurrences such as matches, goals, controversies, and celebratory moments, stakeholders will be equipped with actionable insights."
   ]
  },
  {
   "cell_type": "markdown",
   "metadata": {},
   "source": [
    "## Importing Packages and Dataset"
   ]
  },
  {
   "cell_type": "code",
   "execution_count": 5,
   "metadata": {},
   "outputs": [],
   "source": [
    "import numpy as np\n",
    "import pandas as pd\n",
    "import re\n",
    "import seaborn as sns\n",
    "import matplotlib.pyplot as plt\n",
    "import nltk\n",
    "from nltk import download, word_tokenize\n",
    "from nltk.corpus import stopwords\n",
    "from nltk.sentiment import SentimentIntensityAnalyzer\n",
    "from transformers import AutoTokenizer, AutoModelForSequenceClassification\n",
    "from wordcloud import WordCloud\n",
    "from scipy.special import softmax\n",
    "import warnings\n",
    "import torch\n",
    "from tqdm.notebook import tqdm\n",
    "from PIL import Image\n",
    "\n",
    "\n",
    "warnings.filterwarnings(\"ignore\")"
   ]
  },
  {
   "cell_type": "code",
   "execution_count": 46,
   "metadata": {},
   "outputs": [
    {
     "data": {
      "text/html": [
       "<div>\n",
       "<style scoped>\n",
       "    .dataframe tbody tr th:only-of-type {\n",
       "        vertical-align: middle;\n",
       "    }\n",
       "\n",
       "    .dataframe tbody tr th {\n",
       "        vertical-align: top;\n",
       "    }\n",
       "\n",
       "    .dataframe thead th {\n",
       "        text-align: right;\n",
       "    }\n",
       "</style>\n",
       "<table border=\"1\" class=\"dataframe\">\n",
       "  <thead>\n",
       "    <tr style=\"text-align: right;\">\n",
       "      <th></th>\n",
       "      <th>Unnamed: 0</th>\n",
       "      <th>Date Created</th>\n",
       "      <th>Number of Likes</th>\n",
       "      <th>Source of Tweet</th>\n",
       "      <th>Tweet</th>\n",
       "      <th>Sentiment</th>\n",
       "    </tr>\n",
       "  </thead>\n",
       "  <tbody>\n",
       "    <tr>\n",
       "      <th>0</th>\n",
       "      <td>0</td>\n",
       "      <td>2022-11-20 23:59:21+00:00</td>\n",
       "      <td>4</td>\n",
       "      <td>Twitter Web App</td>\n",
       "      <td>What are we drinking today @TucanTribe \\n@MadB...</td>\n",
       "      <td>neutral</td>\n",
       "    </tr>\n",
       "    <tr>\n",
       "      <th>1</th>\n",
       "      <td>1</td>\n",
       "      <td>2022-11-20 23:59:01+00:00</td>\n",
       "      <td>3</td>\n",
       "      <td>Twitter for iPhone</td>\n",
       "      <td>Amazing @CanadaSoccerEN  #WorldCup2022 launch ...</td>\n",
       "      <td>positive</td>\n",
       "    </tr>\n",
       "    <tr>\n",
       "      <th>2</th>\n",
       "      <td>2</td>\n",
       "      <td>2022-11-20 23:58:41+00:00</td>\n",
       "      <td>1</td>\n",
       "      <td>Twitter for iPhone</td>\n",
       "      <td>Worth reading while watching #WorldCup2022 htt...</td>\n",
       "      <td>positive</td>\n",
       "    </tr>\n",
       "    <tr>\n",
       "      <th>3</th>\n",
       "      <td>3</td>\n",
       "      <td>2022-11-20 23:58:33+00:00</td>\n",
       "      <td>1</td>\n",
       "      <td>Twitter Web App</td>\n",
       "      <td>Golden Maknae shinning bright\\n\\nhttps://t.co/...</td>\n",
       "      <td>positive</td>\n",
       "    </tr>\n",
       "    <tr>\n",
       "      <th>4</th>\n",
       "      <td>4</td>\n",
       "      <td>2022-11-20 23:58:28+00:00</td>\n",
       "      <td>0</td>\n",
       "      <td>Twitter for Android</td>\n",
       "      <td>If the BBC cares so much about human rights, h...</td>\n",
       "      <td>negative</td>\n",
       "    </tr>\n",
       "    <tr>\n",
       "      <th>...</th>\n",
       "      <td>...</td>\n",
       "      <td>...</td>\n",
       "      <td>...</td>\n",
       "      <td>...</td>\n",
       "      <td>...</td>\n",
       "      <td>...</td>\n",
       "    </tr>\n",
       "    <tr>\n",
       "      <th>22519</th>\n",
       "      <td>22519</td>\n",
       "      <td>2022-11-20 00:00:21+00:00</td>\n",
       "      <td>1</td>\n",
       "      <td>Twitter Web App</td>\n",
       "      <td>Here We go World cup 2022 #WorldCup2022</td>\n",
       "      <td>positive</td>\n",
       "    </tr>\n",
       "    <tr>\n",
       "      <th>22520</th>\n",
       "      <td>22520</td>\n",
       "      <td>2022-11-20 00:00:03+00:00</td>\n",
       "      <td>0</td>\n",
       "      <td>DenetPro</td>\n",
       "      <td>Anderlecht confirms former Viborg FF's Jesper ...</td>\n",
       "      <td>neutral</td>\n",
       "    </tr>\n",
       "    <tr>\n",
       "      <th>22521</th>\n",
       "      <td>22521</td>\n",
       "      <td>2022-11-20 00:00:01+00:00</td>\n",
       "      <td>2</td>\n",
       "      <td>Twitter for iPhone</td>\n",
       "      <td>Great thread to read before the start of #Worl...</td>\n",
       "      <td>positive</td>\n",
       "    </tr>\n",
       "    <tr>\n",
       "      <th>22522</th>\n",
       "      <td>22522</td>\n",
       "      <td>2022-11-20 00:00:00+00:00</td>\n",
       "      <td>11</td>\n",
       "      <td>Twitter Web App</td>\n",
       "      <td>Raphinha wants Brazil to be united at the #Wor...</td>\n",
       "      <td>positive</td>\n",
       "    </tr>\n",
       "    <tr>\n",
       "      <th>22523</th>\n",
       "      <td>22523</td>\n",
       "      <td>2022-11-20 00:00:00+00:00</td>\n",
       "      <td>24</td>\n",
       "      <td>Twitter Web App</td>\n",
       "      <td>How to buy $SOT on PinkSale?🤔\\n\\nHave you been...</td>\n",
       "      <td>neutral</td>\n",
       "    </tr>\n",
       "  </tbody>\n",
       "</table>\n",
       "<p>22524 rows × 6 columns</p>\n",
       "</div>"
      ],
      "text/plain": [
       "       Unnamed: 0               Date Created  Number of Likes  \\\n",
       "0               0  2022-11-20 23:59:21+00:00                4   \n",
       "1               1  2022-11-20 23:59:01+00:00                3   \n",
       "2               2  2022-11-20 23:58:41+00:00                1   \n",
       "3               3  2022-11-20 23:58:33+00:00                1   \n",
       "4               4  2022-11-20 23:58:28+00:00                0   \n",
       "...           ...                        ...              ...   \n",
       "22519       22519  2022-11-20 00:00:21+00:00                1   \n",
       "22520       22520  2022-11-20 00:00:03+00:00                0   \n",
       "22521       22521  2022-11-20 00:00:01+00:00                2   \n",
       "22522       22522  2022-11-20 00:00:00+00:00               11   \n",
       "22523       22523  2022-11-20 00:00:00+00:00               24   \n",
       "\n",
       "           Source of Tweet                                              Tweet  \\\n",
       "0          Twitter Web App  What are we drinking today @TucanTribe \\n@MadB...   \n",
       "1       Twitter for iPhone  Amazing @CanadaSoccerEN  #WorldCup2022 launch ...   \n",
       "2       Twitter for iPhone  Worth reading while watching #WorldCup2022 htt...   \n",
       "3          Twitter Web App  Golden Maknae shinning bright\\n\\nhttps://t.co/...   \n",
       "4      Twitter for Android  If the BBC cares so much about human rights, h...   \n",
       "...                    ...                                                ...   \n",
       "22519      Twitter Web App            Here We go World cup 2022 #WorldCup2022   \n",
       "22520             DenetPro  Anderlecht confirms former Viborg FF's Jesper ...   \n",
       "22521   Twitter for iPhone  Great thread to read before the start of #Worl...   \n",
       "22522      Twitter Web App  Raphinha wants Brazil to be united at the #Wor...   \n",
       "22523      Twitter Web App  How to buy $SOT on PinkSale?🤔\\n\\nHave you been...   \n",
       "\n",
       "      Sentiment  \n",
       "0       neutral  \n",
       "1      positive  \n",
       "2      positive  \n",
       "3      positive  \n",
       "4      negative  \n",
       "...         ...  \n",
       "22519  positive  \n",
       "22520   neutral  \n",
       "22521  positive  \n",
       "22522  positive  \n",
       "22523   neutral  \n",
       "\n",
       "[22524 rows x 6 columns]"
      ]
     },
     "execution_count": 46,
     "metadata": {},
     "output_type": "execute_result"
    }
   ],
   "source": [
    "df = pd.read_csv(\"fifa_world_cup_2022_tweets.csv\")\n",
    "df"
   ]
  },
  {
   "cell_type": "markdown",
   "metadata": {},
   "source": [
    "## Cleaning Dataset\n",
    "\n",
    "In this section, I want to get rid of all the usernames, http links and stopwords with regular expression. After I've done that, I want to tokenize the words and then join them together. This step is preprocessing the text column, so I can use it best for my sntiment analysis.\n",
    "\n",
    "Furthermore, I want to captilize the first letter of each value in the Sentiment column and drop unnecessary column(s)."
   ]
  },
  {
   "cell_type": "code",
   "execution_count": 47,
   "metadata": {},
   "outputs": [],
   "source": [
    "df.drop(\"Unnamed: 0\", axis = 1, inplace= True)"
   ]
  },
  {
   "cell_type": "code",
   "execution_count": 8,
   "metadata": {},
   "outputs": [],
   "source": [
    "df['Sentiment'] = df.Sentiment.str.title()"
   ]
  },
  {
   "cell_type": "code",
   "execution_count": 9,
   "metadata": {},
   "outputs": [
    {
     "data": {
      "text/html": [
       "<div>\n",
       "<style scoped>\n",
       "    .dataframe tbody tr th:only-of-type {\n",
       "        vertical-align: middle;\n",
       "    }\n",
       "\n",
       "    .dataframe tbody tr th {\n",
       "        vertical-align: top;\n",
       "    }\n",
       "\n",
       "    .dataframe thead th {\n",
       "        text-align: right;\n",
       "    }\n",
       "</style>\n",
       "<table border=\"1\" class=\"dataframe\">\n",
       "  <thead>\n",
       "    <tr style=\"text-align: right;\">\n",
       "      <th></th>\n",
       "      <th>Date Created</th>\n",
       "      <th>Number of Likes</th>\n",
       "      <th>Source of Tweet</th>\n",
       "      <th>Tweet</th>\n",
       "      <th>Sentiment</th>\n",
       "    </tr>\n",
       "  </thead>\n",
       "  <tbody>\n",
       "    <tr>\n",
       "      <th>0</th>\n",
       "      <td>2022-11-20 23:59:21+00:00</td>\n",
       "      <td>4</td>\n",
       "      <td>Twitter Web App</td>\n",
       "      <td>What are we drinking today @TucanTribe \\n@MadB...</td>\n",
       "      <td>Neutral</td>\n",
       "    </tr>\n",
       "    <tr>\n",
       "      <th>1</th>\n",
       "      <td>2022-11-20 23:59:01+00:00</td>\n",
       "      <td>3</td>\n",
       "      <td>Twitter for iPhone</td>\n",
       "      <td>Amazing @CanadaSoccerEN  #WorldCup2022 launch ...</td>\n",
       "      <td>Positive</td>\n",
       "    </tr>\n",
       "    <tr>\n",
       "      <th>2</th>\n",
       "      <td>2022-11-20 23:58:41+00:00</td>\n",
       "      <td>1</td>\n",
       "      <td>Twitter for iPhone</td>\n",
       "      <td>Worth reading while watching #WorldCup2022 htt...</td>\n",
       "      <td>Positive</td>\n",
       "    </tr>\n",
       "    <tr>\n",
       "      <th>3</th>\n",
       "      <td>2022-11-20 23:58:33+00:00</td>\n",
       "      <td>1</td>\n",
       "      <td>Twitter Web App</td>\n",
       "      <td>Golden Maknae shinning bright\\n\\nhttps://t.co/...</td>\n",
       "      <td>Positive</td>\n",
       "    </tr>\n",
       "    <tr>\n",
       "      <th>4</th>\n",
       "      <td>2022-11-20 23:58:28+00:00</td>\n",
       "      <td>0</td>\n",
       "      <td>Twitter for Android</td>\n",
       "      <td>If the BBC cares so much about human rights, h...</td>\n",
       "      <td>Negative</td>\n",
       "    </tr>\n",
       "  </tbody>\n",
       "</table>\n",
       "</div>"
      ],
      "text/plain": [
       "                Date Created  Number of Likes      Source of Tweet  \\\n",
       "0  2022-11-20 23:59:21+00:00                4      Twitter Web App   \n",
       "1  2022-11-20 23:59:01+00:00                3   Twitter for iPhone   \n",
       "2  2022-11-20 23:58:41+00:00                1   Twitter for iPhone   \n",
       "3  2022-11-20 23:58:33+00:00                1      Twitter Web App   \n",
       "4  2022-11-20 23:58:28+00:00                0  Twitter for Android   \n",
       "\n",
       "                                               Tweet Sentiment  \n",
       "0  What are we drinking today @TucanTribe \\n@MadB...   Neutral  \n",
       "1  Amazing @CanadaSoccerEN  #WorldCup2022 launch ...  Positive  \n",
       "2  Worth reading while watching #WorldCup2022 htt...  Positive  \n",
       "3  Golden Maknae shinning bright\\n\\nhttps://t.co/...  Positive  \n",
       "4  If the BBC cares so much about human rights, h...  Negative  "
      ]
     },
     "execution_count": 9,
     "metadata": {},
     "output_type": "execute_result"
    }
   ],
   "source": [
    "df.head()"
   ]
  },
  {
   "cell_type": "code",
   "execution_count": 97,
   "metadata": {},
   "outputs": [],
   "source": [
    "from nltk.stem import WordNetLemmatizer\n",
    "\n",
    "# using regex to clean the tweets, removing usernames, urls, stopwords, etc.\n",
    "def preprocess(text):\n",
    "    text = re.sub(r'(^|\\s)@(\\w+)', '', text)\n",
    "    text = re.sub(r'\\bhttps?://\\S+\\b', '', text)\n",
    "    text = re.sub(r'[^a-zA-Z\\s]', '', text)\n",
    "    text = text.lower()\n",
    "\n",
    "    tokens = word_tokenize(text)\n",
    "    stop_words = set(stopwords.words('english'))\n",
    "    tokens = [token for token in tokens if token not in stop_words]\n",
    "\n",
    "    lemmatizer = WordNetLemmatizer()\n",
    "    tokens = [lemmatizer.lemmatize(token) for token in tokens]\n",
    "\n",
    "    text = ' '.join(tokens)\n",
    "    return text"
   ]
  },
  {
   "cell_type": "code",
   "execution_count": 98,
   "metadata": {},
   "outputs": [],
   "source": [
    "df['preprocessed_tweet'] = df['Tweet'].apply(preprocess)"
   ]
  },
  {
   "cell_type": "code",
   "execution_count": 99,
   "metadata": {},
   "outputs": [
    {
     "data": {
      "text/html": [
       "<div>\n",
       "<style scoped>\n",
       "    .dataframe tbody tr th:only-of-type {\n",
       "        vertical-align: middle;\n",
       "    }\n",
       "\n",
       "    .dataframe tbody tr th {\n",
       "        vertical-align: top;\n",
       "    }\n",
       "\n",
       "    .dataframe thead th {\n",
       "        text-align: right;\n",
       "    }\n",
       "</style>\n",
       "<table border=\"1\" class=\"dataframe\">\n",
       "  <thead>\n",
       "    <tr style=\"text-align: right;\">\n",
       "      <th></th>\n",
       "      <th>Date Created</th>\n",
       "      <th>Number of Likes</th>\n",
       "      <th>Source of Tweet</th>\n",
       "      <th>Tweet</th>\n",
       "      <th>Sentiment</th>\n",
       "      <th>preprocessed_tweet</th>\n",
       "      <th>vader_sentiment</th>\n",
       "    </tr>\n",
       "  </thead>\n",
       "  <tbody>\n",
       "    <tr>\n",
       "      <th>0</th>\n",
       "      <td>2022-11-20 23:59:21+00:00</td>\n",
       "      <td>4</td>\n",
       "      <td>Twitter Web App</td>\n",
       "      <td>What are we drinking today @TucanTribe \\n@MadB...</td>\n",
       "      <td>Neutral</td>\n",
       "      <td>drinking today worldcup</td>\n",
       "      <td>Neutral</td>\n",
       "    </tr>\n",
       "    <tr>\n",
       "      <th>1</th>\n",
       "      <td>2022-11-20 23:59:01+00:00</td>\n",
       "      <td>3</td>\n",
       "      <td>Twitter for iPhone</td>\n",
       "      <td>Amazing @CanadaSoccerEN  #WorldCup2022 launch ...</td>\n",
       "      <td>Positive</td>\n",
       "      <td>amazing worldcup launch video show much face c...</td>\n",
       "      <td>Positive</td>\n",
       "    </tr>\n",
       "    <tr>\n",
       "      <th>2</th>\n",
       "      <td>2022-11-20 23:58:41+00:00</td>\n",
       "      <td>1</td>\n",
       "      <td>Twitter for iPhone</td>\n",
       "      <td>Worth reading while watching #WorldCup2022 htt...</td>\n",
       "      <td>Positive</td>\n",
       "      <td>worth reading watching worldcup</td>\n",
       "      <td>Positive</td>\n",
       "    </tr>\n",
       "    <tr>\n",
       "      <th>3</th>\n",
       "      <td>2022-11-20 23:58:33+00:00</td>\n",
       "      <td>1</td>\n",
       "      <td>Twitter Web App</td>\n",
       "      <td>Golden Maknae shinning bright\\n\\nhttps://t.co/...</td>\n",
       "      <td>Positive</td>\n",
       "      <td>golden maknae shinning bright jeonjungkook jun...</td>\n",
       "      <td>Positive</td>\n",
       "    </tr>\n",
       "    <tr>\n",
       "      <th>4</th>\n",
       "      <td>2022-11-20 23:58:28+00:00</td>\n",
       "      <td>0</td>\n",
       "      <td>Twitter for Android</td>\n",
       "      <td>If the BBC cares so much about human rights, h...</td>\n",
       "      <td>Negative</td>\n",
       "      <td>bbc care much human right homosexual right wom...</td>\n",
       "      <td>Neutral</td>\n",
       "    </tr>\n",
       "  </tbody>\n",
       "</table>\n",
       "</div>"
      ],
      "text/plain": [
       "               Date Created  Number of Likes      Source of Tweet  \\\n",
       "0 2022-11-20 23:59:21+00:00                4      Twitter Web App   \n",
       "1 2022-11-20 23:59:01+00:00                3   Twitter for iPhone   \n",
       "2 2022-11-20 23:58:41+00:00                1   Twitter for iPhone   \n",
       "3 2022-11-20 23:58:33+00:00                1      Twitter Web App   \n",
       "4 2022-11-20 23:58:28+00:00                0  Twitter for Android   \n",
       "\n",
       "                                               Tweet Sentiment  \\\n",
       "0  What are we drinking today @TucanTribe \\n@MadB...   Neutral   \n",
       "1  Amazing @CanadaSoccerEN  #WorldCup2022 launch ...  Positive   \n",
       "2  Worth reading while watching #WorldCup2022 htt...  Positive   \n",
       "3  Golden Maknae shinning bright\\n\\nhttps://t.co/...  Positive   \n",
       "4  If the BBC cares so much about human rights, h...  Negative   \n",
       "\n",
       "                                  preprocessed_tweet vader_sentiment  \n",
       "0                            drinking today worldcup         Neutral  \n",
       "1  amazing worldcup launch video show much face c...        Positive  \n",
       "2                    worth reading watching worldcup        Positive  \n",
       "3  golden maknae shinning bright jeonjungkook jun...        Positive  \n",
       "4  bbc care much human right homosexual right wom...         Neutral  "
      ]
     },
     "execution_count": 99,
     "metadata": {},
     "output_type": "execute_result"
    }
   ],
   "source": [
    "df.head()"
   ]
  },
  {
   "cell_type": "code",
   "execution_count": 100,
   "metadata": {},
   "outputs": [
    {
     "name": "stdout",
     "output_type": "stream",
     "text": [
      "<class 'pandas.core.frame.DataFrame'>\n",
      "RangeIndex: 22524 entries, 0 to 22523\n",
      "Data columns (total 7 columns):\n",
      " #   Column              Non-Null Count  Dtype              \n",
      "---  ------              --------------  -----              \n",
      " 0   Date Created        22524 non-null  datetime64[ns, UTC]\n",
      " 1   Number of Likes     22524 non-null  int64              \n",
      " 2   Source of Tweet     22524 non-null  object             \n",
      " 3   Tweet               22524 non-null  object             \n",
      " 4   Sentiment           22524 non-null  object             \n",
      " 5   preprocessed_tweet  22524 non-null  object             \n",
      " 6   vader_sentiment     22524 non-null  object             \n",
      "dtypes: datetime64[ns, UTC](1), int64(1), object(5)\n",
      "memory usage: 1.2+ MB\n"
     ]
    }
   ],
   "source": [
    "df.info()"
   ]
  },
  {
   "cell_type": "code",
   "execution_count": 101,
   "metadata": {},
   "outputs": [
    {
     "name": "stdout",
     "output_type": "stream",
     "text": [
      "<class 'pandas.core.frame.DataFrame'>\n",
      "RangeIndex: 22524 entries, 0 to 22523\n",
      "Data columns (total 7 columns):\n",
      " #   Column              Non-Null Count  Dtype              \n",
      "---  ------              --------------  -----              \n",
      " 0   Date Created        22524 non-null  datetime64[ns, UTC]\n",
      " 1   Number of Likes     22524 non-null  int64              \n",
      " 2   Source of Tweet     22524 non-null  object             \n",
      " 3   Tweet               22524 non-null  object             \n",
      " 4   Sentiment           22524 non-null  object             \n",
      " 5   preprocessed_tweet  22524 non-null  object             \n",
      " 6   vader_sentiment     22524 non-null  object             \n",
      "dtypes: datetime64[ns, UTC](1), int64(1), object(5)\n",
      "memory usage: 1.2+ MB\n"
     ]
    }
   ],
   "source": [
    "# Convert the datetime column to datetime format\n",
    "df['Date Created'] = pd.to_datetime(df['Date Created'], format='%Y-%m-%d %H:%M:%S%z')\n",
    "df.info()"
   ]
  },
  {
   "cell_type": "markdown",
   "metadata": {},
   "source": [
    "## Data Visualization(EDA)\n",
    "\n",
    "In this section, I want to conduct some Exploratory Data Analysis.\n",
    "\n",
    "As we can see from the bar plot, most  of the tweets' sentiment are positve, followed by neutral then negative. "
   ]
  },
  {
   "cell_type": "code",
   "execution_count": 102,
   "metadata": {},
   "outputs": [
    {
     "data": {
      "image/png": "[encoded data removed]",
      "text/plain": [
       "<Figure size 640x480 with 1 Axes>"
      ]
     },
     "metadata": {},
     "output_type": "display_data"
    }
   ],
   "source": [
    "df.Sentiment.value_counts().plot(kind = 'bar')\n",
    "plt.title(\"Sentiment Value Count\")\n",
    "plt.show();"
   ]
  },
  {
   "cell_type": "code",
   "execution_count": 189,
   "metadata": {},
   "outputs": [
    {
     "data": {
      "image/png": "[encoded data removed]",
      "text/plain": [
       "<Figure size 1400x600 with 1 Axes>"
      ]
     },
     "metadata": {},
     "output_type": "display_data"
    }
   ],
   "source": [
    "plt.figure(figsize=(14, 6))\n",
    "\n",
    "df['Source of Tweet'].value_counts().head(10).plot(kind = 'bar')\n",
    "plt.title(\"Top 10 Source of Tweet Count\")\n",
    "plt.show();"
   ]
  },
  {
   "cell_type": "markdown",
   "metadata": {},
   "source": [
    "### Word Frequency and Word Cloud\n",
    "\n",
    "Next, I wanted to take a look at the frequency of each words. As expected, the most common word is \"worldcup\" with a count of 25792. To visuaize this, I created a wordcloud in the shape of a ball."
   ]
  },
  {
   "cell_type": "code",
   "execution_count": 103,
   "metadata": {},
   "outputs": [
    {
     "data": {
      "text/html": [
       "<div>\n",
       "<style scoped>\n",
       "    .dataframe tbody tr th:only-of-type {\n",
       "        vertical-align: middle;\n",
       "    }\n",
       "\n",
       "    .dataframe tbody tr th {\n",
       "        vertical-align: top;\n",
       "    }\n",
       "\n",
       "    .dataframe thead th {\n",
       "        text-align: right;\n",
       "    }\n",
       "</style>\n",
       "<table border=\"1\" class=\"dataframe\">\n",
       "  <thead>\n",
       "    <tr style=\"text-align: right;\">\n",
       "      <th></th>\n",
       "      <th>Word</th>\n",
       "      <th>Frequency</th>\n",
       "    </tr>\n",
       "  </thead>\n",
       "  <tbody>\n",
       "    <tr>\n",
       "      <th>0</th>\n",
       "      <td>worldcup</td>\n",
       "      <td>25792</td>\n",
       "    </tr>\n",
       "    <tr>\n",
       "      <th>1</th>\n",
       "      <td>qatar</td>\n",
       "      <td>8908</td>\n",
       "    </tr>\n",
       "    <tr>\n",
       "      <th>2</th>\n",
       "      <td>world</td>\n",
       "      <td>6161</td>\n",
       "    </tr>\n",
       "    <tr>\n",
       "      <th>3</th>\n",
       "      <td>cup</td>\n",
       "      <td>5605</td>\n",
       "    </tr>\n",
       "    <tr>\n",
       "      <th>4</th>\n",
       "      <td>fifaworldcup</td>\n",
       "      <td>4187</td>\n",
       "    </tr>\n",
       "    <tr>\n",
       "      <th>...</th>\n",
       "      <td>...</td>\n",
       "      <td>...</td>\n",
       "    </tr>\n",
       "    <tr>\n",
       "      <th>20448</th>\n",
       "      <td>awhile</td>\n",
       "      <td>1</td>\n",
       "    </tr>\n",
       "    <tr>\n",
       "      <th>20449</th>\n",
       "      <td>moneybag</td>\n",
       "      <td>1</td>\n",
       "    </tr>\n",
       "    <tr>\n",
       "      <th>20450</th>\n",
       "      <td>fuckryalready</td>\n",
       "      <td>1</td>\n",
       "    </tr>\n",
       "    <tr>\n",
       "      <th>20451</th>\n",
       "      <td>terriblewhere</td>\n",
       "      <td>1</td>\n",
       "    </tr>\n",
       "    <tr>\n",
       "      <th>20452</th>\n",
       "      <td>quantity</td>\n",
       "      <td>1</td>\n",
       "    </tr>\n",
       "  </tbody>\n",
       "</table>\n",
       "<p>20453 rows × 2 columns</p>\n",
       "</div>"
      ],
      "text/plain": [
       "                Word  Frequency\n",
       "0           worldcup      25792\n",
       "1              qatar       8908\n",
       "2              world       6161\n",
       "3                cup       5605\n",
       "4       fifaworldcup       4187\n",
       "...              ...        ...\n",
       "20448         awhile          1\n",
       "20449       moneybag          1\n",
       "20450  fuckryalready          1\n",
       "20451  terriblewhere          1\n",
       "20452       quantity          1\n",
       "\n",
       "[20453 rows x 2 columns]"
      ]
     },
     "execution_count": 103,
     "metadata": {},
     "output_type": "execute_result"
    }
   ],
   "source": [
    "word_freq = df.preprocessed_tweet.str.split().explode().value_counts().reset_index()\n",
    "word_freq.columns = [\"Word\", \"Frequency\"]\n",
    "word_freq['Frequency'] = word_freq.Frequency.astype(int)\n",
    "\n",
    "word_freq"
   ]
  },
  {
   "cell_type": "code",
   "execution_count": 104,
   "metadata": {},
   "outputs": [
    {
     "data": {
      "image/png": "[encoded data removed]",
      "text/plain": [
       "<Figure size 1000x500 with 1 Axes>"
      ]
     },
     "metadata": {},
     "output_type": "display_data"
    }
   ],
   "source": [
    "cloud_mask = np.array(Image.open(\"circle.jpeg\"))\n",
    "\n",
    "# Create a word cloud object\n",
    "word_freq_dict = word_freq.set_index('Word')['Frequency'].to_dict() # convert dataframe to dictionary object to use generate_from_frequencies\n",
    "word_cloud = WordCloud(width=1500, height=1500, background_color='white', mask=cloud_mask).generate_from_frequencies(word_freq_dict)\n",
    "\n",
    "# Plot the word cloud\n",
    "plt.figure(figsize=(10, 5))\n",
    "plt.imshow(word_cloud, interpolation='bilinear')\n",
    "plt.axis('off')\n",
    "plt.show()"
   ]
  },
  {
   "cell_type": "markdown",
   "metadata": {},
   "source": [
    "### Time Series Sentiment Trends\n",
    "\n",
    "In this Time Series Sentiment Trends, I wanted to take a look at the sentiment over time. As we can see, the positive sentiments starts off strong and is slightly above the other two sentiments. However, when all three hit their peaks, we find that the negative sentiments have the pinnacle at around 3:10PM or 15:00. \n",
    "\n",
    "After it dies down, the negative sentiment has the fewest of the three while the other two are about the same. "
   ]
  },
  {
   "cell_type": "code",
   "execution_count": 105,
   "metadata": {},
   "outputs": [
    {
     "name": "stdout",
     "output_type": "stream",
     "text": [
      "Minimum Datetime: 2022-11-20 00:00:00+00:00\n",
      "Maximum Datetime: 2022-11-20 23:59:21+00:00\n"
     ]
    }
   ],
   "source": [
    "# Assuming you have a DataFrame named 'df' with a datetime column 'timestamp'\n",
    "datetime_min = df['Date Created'].min()\n",
    "datetime_max = df['Date Created'].max()\n",
    "\n",
    "print(\"Minimum Datetime:\", datetime_min)\n",
    "print(\"Maximum Datetime:\", datetime_max)"
   ]
  },
  {
   "cell_type": "code",
   "execution_count": 188,
   "metadata": {},
   "outputs": [
    {
     "data": {
      "text/plain": [
       "<Figure size 1400x600 with 0 Axes>"
      ]
     },
     "metadata": {},
     "output_type": "display_data"
    },
    {
     "data": {
      "image/png": "[encoded data removed]",
      "text/plain": [
       "<Figure size 640x480 with 1 Axes>"
      ]
     },
     "metadata": {},
     "output_type": "display_data"
    }
   ],
   "source": [
    "# Resample and count sentiment labels within time intervals\n",
    "time_interval = 'H'\n",
    "aggregated_df = df.groupby([pd.Grouper(key='Date Created', freq=time_interval), 'Sentiment']).size().unstack()\n",
    "\n",
    "# Plot time series sentiment trends\n",
    "plt.figure(figsize=(14, 6))\n",
    "aggregated_df.plot(kind='line', marker='o')\n",
    "plt.title('Time Series Sentiment Trends during FIFA World Cup 2022')\n",
    "plt.xlabel('Time')\n",
    "plt.ylabel('Number of Tweets')\n",
    "plt.legend(title='Sentiment')\n",
    "plt.grid()\n",
    "plt.show();"
   ]
  },
  {
   "cell_type": "markdown",
   "metadata": {},
   "source": [
    "## Sentiment Analysis & Prediction"
   ]
  },
  {
   "cell_type": "markdown",
   "metadata": {},
   "source": [
    "### Vader \n",
    "\n",
    "VADER (Valence Aware Dictionary and sEntiment Reasoner) is a lexicon and rule-based sentiment analysis tool specifically designed for analyzing text sentiment in social media content, like tweets and other short texts.\n",
    "\n",
    "VADER sentiment analysis doesn't rely solely on individual words, but also takes into account the context in which words appear to determine the sentiment of a sentence. It assigns a sentiment polarity to a text on a continuous scale, providing not only whether the text is positive, negative, or neutral, but also a strength of sentiment ranging from very negative to very positive.\n",
    "\n",
    "However, after doing sentiment analysis on our tweet data, we find that the accuracy is only 58% which is abysmal. "
   ]
  },
  {
   "cell_type": "code",
   "execution_count": 107,
   "metadata": {},
   "outputs": [],
   "source": [
    "# Create a SentimentIntensityAnalyzer object\n",
    "sia = SentimentIntensityAnalyzer()"
   ]
  },
  {
   "cell_type": "code",
   "execution_count": 108,
   "metadata": {},
   "outputs": [],
   "source": [
    "# Function to analyze sentiment and return sentiment label\n",
    "def get_sentiment_label(text):\n",
    "    sentiment_scores = sia.polarity_scores(text)\n",
    "    \n",
    "    if sentiment_scores['compound'] > 0.05:\n",
    "        return \"Positive\"\n",
    "    elif sentiment_scores['compound'] < -0.05:\n",
    "        return \"Negative\"\n",
    "    else:\n",
    "        return \"Neutral\"\n",
    "\n",
    "# Apply the sentiment analysis function to the 'text' column\n",
    "df['vader_sentiment'] = df['preprocessed_tweet'].apply(get_sentiment_label)"
   ]
  },
  {
   "cell_type": "code",
   "execution_count": 109,
   "metadata": {},
   "outputs": [
    {
     "data": {
      "text/html": [
       "<div>\n",
       "<style scoped>\n",
       "    .dataframe tbody tr th:only-of-type {\n",
       "        vertical-align: middle;\n",
       "    }\n",
       "\n",
       "    .dataframe tbody tr th {\n",
       "        vertical-align: top;\n",
       "    }\n",
       "\n",
       "    .dataframe thead th {\n",
       "        text-align: right;\n",
       "    }\n",
       "</style>\n",
       "<table border=\"1\" class=\"dataframe\">\n",
       "  <thead>\n",
       "    <tr style=\"text-align: right;\">\n",
       "      <th></th>\n",
       "      <th>Date Created</th>\n",
       "      <th>Number of Likes</th>\n",
       "      <th>Source of Tweet</th>\n",
       "      <th>Tweet</th>\n",
       "      <th>Sentiment</th>\n",
       "      <th>preprocessed_tweet</th>\n",
       "      <th>vader_sentiment</th>\n",
       "    </tr>\n",
       "  </thead>\n",
       "  <tbody>\n",
       "    <tr>\n",
       "      <th>0</th>\n",
       "      <td>2022-11-20 23:59:21+00:00</td>\n",
       "      <td>4</td>\n",
       "      <td>Twitter Web App</td>\n",
       "      <td>What are we drinking today @TucanTribe \\n@MadB...</td>\n",
       "      <td>Neutral</td>\n",
       "      <td>drinking today worldcup</td>\n",
       "      <td>Neutral</td>\n",
       "    </tr>\n",
       "    <tr>\n",
       "      <th>1</th>\n",
       "      <td>2022-11-20 23:59:01+00:00</td>\n",
       "      <td>3</td>\n",
       "      <td>Twitter for iPhone</td>\n",
       "      <td>Amazing @CanadaSoccerEN  #WorldCup2022 launch ...</td>\n",
       "      <td>Positive</td>\n",
       "      <td>amazing worldcup launch video show much face c...</td>\n",
       "      <td>Positive</td>\n",
       "    </tr>\n",
       "    <tr>\n",
       "      <th>2</th>\n",
       "      <td>2022-11-20 23:58:41+00:00</td>\n",
       "      <td>1</td>\n",
       "      <td>Twitter for iPhone</td>\n",
       "      <td>Worth reading while watching #WorldCup2022 htt...</td>\n",
       "      <td>Positive</td>\n",
       "      <td>worth reading watching worldcup</td>\n",
       "      <td>Positive</td>\n",
       "    </tr>\n",
       "    <tr>\n",
       "      <th>3</th>\n",
       "      <td>2022-11-20 23:58:33+00:00</td>\n",
       "      <td>1</td>\n",
       "      <td>Twitter Web App</td>\n",
       "      <td>Golden Maknae shinning bright\\n\\nhttps://t.co/...</td>\n",
       "      <td>Positive</td>\n",
       "      <td>golden maknae shinning bright jeonjungkook jun...</td>\n",
       "      <td>Positive</td>\n",
       "    </tr>\n",
       "    <tr>\n",
       "      <th>4</th>\n",
       "      <td>2022-11-20 23:58:28+00:00</td>\n",
       "      <td>0</td>\n",
       "      <td>Twitter for Android</td>\n",
       "      <td>If the BBC cares so much about human rights, h...</td>\n",
       "      <td>Negative</td>\n",
       "      <td>bbc care much human right homosexual right wom...</td>\n",
       "      <td>Positive</td>\n",
       "    </tr>\n",
       "  </tbody>\n",
       "</table>\n",
       "</div>"
      ],
      "text/plain": [
       "               Date Created  Number of Likes      Source of Tweet  \\\n",
       "0 2022-11-20 23:59:21+00:00                4      Twitter Web App   \n",
       "1 2022-11-20 23:59:01+00:00                3   Twitter for iPhone   \n",
       "2 2022-11-20 23:58:41+00:00                1   Twitter for iPhone   \n",
       "3 2022-11-20 23:58:33+00:00                1      Twitter Web App   \n",
       "4 2022-11-20 23:58:28+00:00                0  Twitter for Android   \n",
       "\n",
       "                                               Tweet Sentiment  \\\n",
       "0  What are we drinking today @TucanTribe \\n@MadB...   Neutral   \n",
       "1  Amazing @CanadaSoccerEN  #WorldCup2022 launch ...  Positive   \n",
       "2  Worth reading while watching #WorldCup2022 htt...  Positive   \n",
       "3  Golden Maknae shinning bright\\n\\nhttps://t.co/...  Positive   \n",
       "4  If the BBC cares so much about human rights, h...  Negative   \n",
       "\n",
       "                                  preprocessed_tweet vader_sentiment  \n",
       "0                            drinking today worldcup         Neutral  \n",
       "1  amazing worldcup launch video show much face c...        Positive  \n",
       "2                    worth reading watching worldcup        Positive  \n",
       "3  golden maknae shinning bright jeonjungkook jun...        Positive  \n",
       "4  bbc care much human right homosexual right wom...        Positive  "
      ]
     },
     "execution_count": 109,
     "metadata": {},
     "output_type": "execute_result"
    }
   ],
   "source": [
    "df.head()"
   ]
  },
  {
   "cell_type": "code",
   "execution_count": 110,
   "metadata": {},
   "outputs": [
    {
     "name": "stdout",
     "output_type": "stream",
     "text": [
      "Accuracy: 57.67%\n"
     ]
    }
   ],
   "source": [
    "df['Sentiment'] = df.Sentiment.str.title()\n",
    "\n",
    "# Calculate the accuracy\n",
    "correct_predictions = (df['vader_sentiment'] == df['Sentiment']).sum()\n",
    "total_predictions = len(df)\n",
    "accuracy = correct_predictions / total_predictions * 100\n",
    "\n",
    "print(\"Accuracy: {:.2f}%\".format(accuracy))\n"
   ]
  },
  {
   "cell_type": "markdown",
   "metadata": {},
   "source": [
    "### XGBoost with CountVectorizer\n",
    "\n",
    "The XGBoost model, integrated with the Count Vectorizer technique, constitutes a powerful ensemble learning approach for sentiment analysis on tweets. This amalgamation of advanced machine learning and natural language processing techniques offers a robust solution to decipher the sentiment expressed within the dynamic landscape of social media text.\n",
    "\n",
    "Paired with the Count Vectorizer, which transforms text data into a numerical format suitable for machine learning algorithms, the XGBoost model becomes well-equipped to handle the unique linguistic characteristics of tweets. The Count Vectorizer converts the text into a matrix of token counts, creating a numerical representation that retains the essential textual information.\n",
    "\n",
    "Although the accuracy has been improved to 0.69, I believe that it can still be made better. "
   ]
  },
  {
   "cell_type": "code",
   "execution_count": 111,
   "metadata": {},
   "outputs": [],
   "source": [
    "from sklearn.model_selection import train_test_split\n",
    "import xgboost as xgb\n",
    "from sklearn.metrics import accuracy_score\n",
    "from sklearn.feature_extraction.text import CountVectorizer"
   ]
  },
  {
   "cell_type": "code",
   "execution_count": 112,
   "metadata": {},
   "outputs": [
    {
     "data": {
      "text/html": [
       "<div>\n",
       "<style scoped>\n",
       "    .dataframe tbody tr th:only-of-type {\n",
       "        vertical-align: middle;\n",
       "    }\n",
       "\n",
       "    .dataframe tbody tr th {\n",
       "        vertical-align: top;\n",
       "    }\n",
       "\n",
       "    .dataframe thead th {\n",
       "        text-align: right;\n",
       "    }\n",
       "</style>\n",
       "<table border=\"1\" class=\"dataframe\">\n",
       "  <thead>\n",
       "    <tr style=\"text-align: right;\">\n",
       "      <th></th>\n",
       "      <th>Date Created</th>\n",
       "      <th>Number of Likes</th>\n",
       "      <th>Source of Tweet</th>\n",
       "      <th>Tweet</th>\n",
       "      <th>Sentiment</th>\n",
       "      <th>preprocessed_tweet</th>\n",
       "      <th>vader_sentiment</th>\n",
       "      <th>Sentiment_Num</th>\n",
       "    </tr>\n",
       "  </thead>\n",
       "  <tbody>\n",
       "    <tr>\n",
       "      <th>0</th>\n",
       "      <td>2022-11-20 23:59:21+00:00</td>\n",
       "      <td>4</td>\n",
       "      <td>Twitter Web App</td>\n",
       "      <td>What are we drinking today @TucanTribe \\n@MadB...</td>\n",
       "      <td>Neutral</td>\n",
       "      <td>drinking today worldcup</td>\n",
       "      <td>Neutral</td>\n",
       "      <td>1</td>\n",
       "    </tr>\n",
       "    <tr>\n",
       "      <th>1</th>\n",
       "      <td>2022-11-20 23:59:01+00:00</td>\n",
       "      <td>3</td>\n",
       "      <td>Twitter for iPhone</td>\n",
       "      <td>Amazing @CanadaSoccerEN  #WorldCup2022 launch ...</td>\n",
       "      <td>Positive</td>\n",
       "      <td>amazing worldcup launch video show much face c...</td>\n",
       "      <td>Positive</td>\n",
       "      <td>2</td>\n",
       "    </tr>\n",
       "    <tr>\n",
       "      <th>2</th>\n",
       "      <td>2022-11-20 23:58:41+00:00</td>\n",
       "      <td>1</td>\n",
       "      <td>Twitter for iPhone</td>\n",
       "      <td>Worth reading while watching #WorldCup2022 htt...</td>\n",
       "      <td>Positive</td>\n",
       "      <td>worth reading watching worldcup</td>\n",
       "      <td>Positive</td>\n",
       "      <td>2</td>\n",
       "    </tr>\n",
       "    <tr>\n",
       "      <th>3</th>\n",
       "      <td>2022-11-20 23:58:33+00:00</td>\n",
       "      <td>1</td>\n",
       "      <td>Twitter Web App</td>\n",
       "      <td>Golden Maknae shinning bright\\n\\nhttps://t.co/...</td>\n",
       "      <td>Positive</td>\n",
       "      <td>golden maknae shinning bright jeonjungkook jun...</td>\n",
       "      <td>Positive</td>\n",
       "      <td>2</td>\n",
       "    </tr>\n",
       "    <tr>\n",
       "      <th>4</th>\n",
       "      <td>2022-11-20 23:58:28+00:00</td>\n",
       "      <td>0</td>\n",
       "      <td>Twitter for Android</td>\n",
       "      <td>If the BBC cares so much about human rights, h...</td>\n",
       "      <td>Negative</td>\n",
       "      <td>bbc care much human right homosexual right wom...</td>\n",
       "      <td>Positive</td>\n",
       "      <td>0</td>\n",
       "    </tr>\n",
       "  </tbody>\n",
       "</table>\n",
       "</div>"
      ],
      "text/plain": [
       "               Date Created  Number of Likes      Source of Tweet  \\\n",
       "0 2022-11-20 23:59:21+00:00                4      Twitter Web App   \n",
       "1 2022-11-20 23:59:01+00:00                3   Twitter for iPhone   \n",
       "2 2022-11-20 23:58:41+00:00                1   Twitter for iPhone   \n",
       "3 2022-11-20 23:58:33+00:00                1      Twitter Web App   \n",
       "4 2022-11-20 23:58:28+00:00                0  Twitter for Android   \n",
       "\n",
       "                                               Tweet Sentiment  \\\n",
       "0  What are we drinking today @TucanTribe \\n@MadB...   Neutral   \n",
       "1  Amazing @CanadaSoccerEN  #WorldCup2022 launch ...  Positive   \n",
       "2  Worth reading while watching #WorldCup2022 htt...  Positive   \n",
       "3  Golden Maknae shinning bright\\n\\nhttps://t.co/...  Positive   \n",
       "4  If the BBC cares so much about human rights, h...  Negative   \n",
       "\n",
       "                                  preprocessed_tweet vader_sentiment  \\\n",
       "0                            drinking today worldcup         Neutral   \n",
       "1  amazing worldcup launch video show much face c...        Positive   \n",
       "2                    worth reading watching worldcup        Positive   \n",
       "3  golden maknae shinning bright jeonjungkook jun...        Positive   \n",
       "4  bbc care much human right homosexual right wom...        Positive   \n",
       "\n",
       "   Sentiment_Num  \n",
       "0              1  \n",
       "1              2  \n",
       "2              2  \n",
       "3              2  \n",
       "4              0  "
      ]
     },
     "execution_count": 112,
     "metadata": {},
     "output_type": "execute_result"
    }
   ],
   "source": [
    "# Convert sentiment labels to numerical values\n",
    "sentiment_mapping = {'Positive': 2, 'Neutral': 1, 'Negative': 0}\n",
    "df['Sentiment_Num'] = df['Sentiment'].map(sentiment_mapping)\n",
    "\n",
    "df.head()"
   ]
  },
  {
   "cell_type": "code",
   "execution_count": 113,
   "metadata": {},
   "outputs": [
    {
     "name": "stdout",
     "output_type": "stream",
     "text": [
      "Accuracy: 0.6943396226415094\n"
     ]
    }
   ],
   "source": [
    "# Split dataset into training and testing sets\n",
    "X_train, X_test, y_train, y_test = train_test_split(df['Tweet'], df['Sentiment_Num'], test_size=0.2, random_state=42)\n",
    "\n",
    "vectorizer = CountVectorizer() \n",
    "X_train_vec = vectorizer.fit_transform(X_train)\n",
    "X_test_vec = vectorizer.transform(X_test)\n",
    "\n",
    "# Train an XGBoost classifier\n",
    "xgb_classifier = xgb.XGBClassifier(objective='multi:softmax', num_class=3)  # 3 classes: Positive, Neutral, Negative\n",
    "xgb_classifier.fit(X_train_vec, y_train)\n",
    "\n",
    "# Make predictions\n",
    "y_pred = xgb_classifier.predict(X_test_vec)\n",
    "\n",
    "# Calculate accuracy\n",
    "accuracy = accuracy_score(y_test, y_pred)\n",
    "print(\"Accuracy:\", accuracy)"
   ]
  },
  {
   "cell_type": "markdown",
   "metadata": {},
   "source": [
    "### XGBoost with Gensim"
   ]
  },
  {
   "cell_type": "code",
   "execution_count": 194,
   "metadata": {},
   "outputs": [],
   "source": [
    "from gensim.models import Word2Vec\n",
    "from sklearn.model_selection import GridSearchCV"
   ]
  },
  {
   "cell_type": "code",
   "execution_count": 196,
   "metadata": {},
   "outputs": [],
   "source": [
    "# Convert text data to Word2Vec embeddings\n",
    "def text_to_embeddings(text):\n",
    "    embeddings = []\n",
    "    for word in text.split():\n",
    "        if word in word2vec_model.wv:\n",
    "            embeddings.append(word2vec_model.wv[word])\n",
    "    return np.mean(embeddings, axis=0) if embeddings else np.zeros(word2vec_model.vector_size)"
   ]
  },
  {
   "cell_type": "code",
   "execution_count": 195,
   "metadata": {},
   "outputs": [
    {
     "name": "stdout",
     "output_type": "stream",
     "text": [
      "Accuracy: 0.6051054384017758\n"
     ]
    }
   ],
   "source": [
    "# Split dataset into training and testing sets\n",
    "X_train, X_test, y_train, y_test = train_test_split(df['Tweet'], df['Sentiment_Num'], test_size=0.2, random_state=42)\n",
    "\n",
    "# Tokenize the text data\n",
    "tokenized_train = [text.split() for text in X_train]\n",
    "tokenized_test = [text.split() for text in X_test]\n",
    "\n",
    "# Train Word2Vec model\n",
    "word2vec_model = Word2Vec(sentences=tokenized_train, vector_size=100, window=5, min_count=1, sg=1)\n",
    "\n",
    "# Convert text data to Word2Vec embeddings\n",
    "def text_to_embeddings(text):\n",
    "    embeddings = []\n",
    "    for word in text.split():\n",
    "        if word in word2vec_model.wv:\n",
    "            embeddings.append(word2vec_model.wv[word])\n",
    "    return np.mean(embeddings, axis=0) if embeddings else np.zeros(word2vec_model.vector_size)\n",
    "\n",
    "X_train_embed = np.array([text_to_embeddings(text) for text in X_train])\n",
    "X_test_embed = np.array([text_to_embeddings(text) for text in X_test])\n",
    "\n",
    "xgb_classifier = xgb.XGBClassifier(objective='multi:softmax', num_class=3) \n",
    "xgb_classifier.fit(X_train_embed, y_train)\n",
    "\n",
    "y_pred = xgb_classifier.predict(X_test_embed)\n",
    "\n",
    "accuracy = accuracy_score(y_test, y_pred)\n",
    "print(\"Accuracy:\", accuracy)"
   ]
  },
  {
   "cell_type": "code",
   "execution_count": 193,
   "metadata": {},
   "outputs": [
    {
     "name": "stdout",
     "output_type": "stream",
     "text": [
      "Accuracy: 0.6077691453940066\n"
     ]
    }
   ],
   "source": [
    "# Split dataset into training and testing sets\n",
    "X_train, X_test, y_train, y_test = train_test_split(df['Tweet'], df['Sentiment_Num'], \n",
    "                                                    test_size=0.2, random_state=42)\n",
    "\n",
    "# Tokenize the text data\n",
    "tokenized_train = [text.split() for text in X_train]\n",
    "tokenized_test = [text.split() for text in X_test]\n",
    "\n",
    "# Train Word2Vec model\n",
    "word2vec_model = Word2Vec(sentences=tokenized_train, vector_size=100, window=5, min_count=1, sg=1)\n",
    "\n",
    "X_train_embed = np.array([text_to_embeddings(text) for text in X_train])\n",
    "X_test_embed = np.array([text_to_embeddings(text) for text in X_test])\n",
    "\n",
    "# Define XGBoost classifier\n",
    "xgb_classifier = xgb.XGBClassifier(objective='multi:softmax', num_class=3)\n",
    "\n",
    "# Define hyperparameters for grid search\n",
    "param_grid = {\n",
    "    'n_estimators': [50, 100, 150],\n",
    "    'max_depth': [3, 6, 9]\n",
    "}\n",
    "\n",
    "# Perform grid search\n",
    "grid_search = GridSearchCV(estimator=xgb_classifier, \n",
    "                           param_grid=param_grid, cv=3)\n",
    "grid_search.fit(X_train_embed, y_train)\n",
    "\n",
    "# Get the best estimator from grid search\n",
    "best_xgb_classifier = grid_search.best_estimator_\n",
    "\n",
    "y_pred = best_xgb_classifier.predict(X_test_embed)\n",
    "\n",
    "accuracy = accuracy_score(y_test, y_pred)\n",
    "print(\"Accuracy:\", accuracy)\n"
   ]
  },
  {
   "cell_type": "code",
   "execution_count": 198,
   "metadata": {},
   "outputs": [
    {
     "data": {
      "text/html": [
       "<style>#sk-container-id-2 {color: black;}#sk-container-id-2 pre{padding: 0;}#sk-container-id-2 div.sk-toggleable {background-color: white;}#sk-container-id-2 label.sk-toggleable__label {cursor: pointer;display: block;width: 100%;margin-bottom: 0;padding: 0.3em;box-sizing: border-box;text-align: center;}#sk-container-id-2 label.sk-toggleable__label-arrow:before {content: \"▸\";float: left;margin-right: 0.25em;color: #696969;}#sk-container-id-2 label.sk-toggleable__label-arrow:hover:before {color: black;}#sk-container-id-2 div.sk-estimator:hover label.sk-toggleable__label-arrow:before {color: black;}#sk-container-id-2 div.sk-toggleable__content {max-height: 0;max-width: 0;overflow: hidden;text-align: left;background-color: #f0f8ff;}#sk-container-id-2 div.sk-toggleable__content pre {margin: 0.2em;color: black;border-radius: 0.25em;background-color: #f0f8ff;}#sk-container-id-2 input.sk-toggleable__control:checked~div.sk-toggleable__content {max-height: 200px;max-width: 100%;overflow: auto;}#sk-container-id-2 input.sk-toggleable__control:checked~label.sk-toggleable__label-arrow:before {content: \"▾\";}#sk-container-id-2 div.sk-estimator input.sk-toggleable__control:checked~label.sk-toggleable__label {background-color: #d4ebff;}#sk-container-id-2 div.sk-label input.sk-toggleable__control:checked~label.sk-toggleable__label {background-color: #d4ebff;}#sk-container-id-2 input.sk-hidden--visually {border: 0;clip: rect(1px 1px 1px 1px);clip: rect(1px, 1px, 1px, 1px);height: 1px;margin: -1px;overflow: hidden;padding: 0;position: absolute;width: 1px;}#sk-container-id-2 div.sk-estimator {font-family: monospace;background-color: #f0f8ff;border: 1px dotted black;border-radius: 0.25em;box-sizing: border-box;margin-bottom: 0.5em;}#sk-container-id-2 div.sk-estimator:hover {background-color: #d4ebff;}#sk-container-id-2 div.sk-parallel-item::after {content: \"\";width: 100%;border-bottom: 1px solid gray;flex-grow: 1;}#sk-container-id-2 div.sk-label:hover label.sk-toggleable__label {background-color: #d4ebff;}#sk-container-id-2 div.sk-serial::before {content: \"\";position: absolute;border-left: 1px solid gray;box-sizing: border-box;top: 0;bottom: 0;left: 50%;z-index: 0;}#sk-container-id-2 div.sk-serial {display: flex;flex-direction: column;align-items: center;background-color: white;padding-right: 0.2em;padding-left: 0.2em;position: relative;}#sk-container-id-2 div.sk-item {position: relative;z-index: 1;}#sk-container-id-2 div.sk-parallel {display: flex;align-items: stretch;justify-content: center;background-color: white;position: relative;}#sk-container-id-2 div.sk-item::before, #sk-container-id-2 div.sk-parallel-item::before {content: \"\";position: absolute;border-left: 1px solid gray;box-sizing: border-box;top: 0;bottom: 0;left: 50%;z-index: -1;}#sk-container-id-2 div.sk-parallel-item {display: flex;flex-direction: column;z-index: 1;position: relative;background-color: white;}#sk-container-id-2 div.sk-parallel-item:first-child::after {align-self: flex-end;width: 50%;}#sk-container-id-2 div.sk-parallel-item:last-child::after {align-self: flex-start;width: 50%;}#sk-container-id-2 div.sk-parallel-item:only-child::after {width: 0;}#sk-container-id-2 div.sk-dashed-wrapped {border: 1px dashed gray;margin: 0 0.4em 0.5em 0.4em;box-sizing: border-box;padding-bottom: 0.4em;background-color: white;}#sk-container-id-2 div.sk-label label {font-family: monospace;font-weight: bold;display: inline-block;line-height: 1.2em;}#sk-container-id-2 div.sk-label-container {text-align: center;}#sk-container-id-2 div.sk-container {/* jupyter's `normalize.less` sets `[hidden] { display: none; }` but bootstrap.min.css set `[hidden] { display: none !important; }` so we also need the `!important` here to be able to override the default hidden behavior on the sphinx rendered scikit-learn.org. See: https://github.com/scikit-learn/scikit-learn/issues/21755 */display: inline-block !important;position: relative;}#sk-container-id-2 div.sk-text-repr-fallback {display: none;}</style><div id=\"sk-container-id-2\" class=\"sk-top-container\"><div class=\"sk-text-repr-fallback\"><pre>XGBClassifier(base_score=None, booster=None, callbacks=None,\n",
       "              colsample_bylevel=None, colsample_bynode=None,\n",
       "              colsample_bytree=None, early_stopping_rounds=None,\n",
       "              enable_categorical=False, eval_metric=None, feature_types=None,\n",
       "              gamma=None, gpu_id=None, grow_policy=None, importance_type=None,\n",
       "              interaction_constraints=None, learning_rate=None, max_bin=None,\n",
       "              max_cat_threshold=None, max_cat_to_onehot=None,\n",
       "              max_delta_step=None, max_depth=9, max_leaves=None,\n",
       "              min_child_weight=None, missing=nan, monotone_constraints=None,\n",
       "              n_estimators=150, n_jobs=None, num_class=3,\n",
       "              num_parallel_tree=None, objective=&#x27;multi:softmax&#x27;, ...)</pre><b>In a Jupyter environment, please rerun this cell to show the HTML representation or trust the notebook. <br />On GitHub, the HTML representation is unable to render, please try loading this page with nbviewer.org.</b></div><div class=\"sk-container\" hidden><div class=\"sk-item\"><div class=\"sk-estimator sk-toggleable\"><input class=\"sk-toggleable__control sk-hidden--visually\" id=\"sk-estimator-id-2\" type=\"checkbox\" checked><label for=\"sk-estimator-id-2\" class=\"sk-toggleable__label sk-toggleable__label-arrow\">XGBClassifier</label><div class=\"sk-toggleable__content\"><pre>XGBClassifier(base_score=None, booster=None, callbacks=None,\n",
       "              colsample_bylevel=None, colsample_bynode=None,\n",
       "              colsample_bytree=None, early_stopping_rounds=None,\n",
       "              enable_categorical=False, eval_metric=None, feature_types=None,\n",
       "              gamma=None, gpu_id=None, grow_policy=None, importance_type=None,\n",
       "              interaction_constraints=None, learning_rate=None, max_bin=None,\n",
       "              max_cat_threshold=None, max_cat_to_onehot=None,\n",
       "              max_delta_step=None, max_depth=9, max_leaves=None,\n",
       "              min_child_weight=None, missing=nan, monotone_constraints=None,\n",
       "              n_estimators=150, n_jobs=None, num_class=3,\n",
       "              num_parallel_tree=None, objective=&#x27;multi:softmax&#x27;, ...)</pre></div></div></div></div></div>"
      ],
      "text/plain": [
       "XGBClassifier(base_score=None, booster=None, callbacks=None,\n",
       "              colsample_bylevel=None, colsample_bynode=None,\n",
       "              colsample_bytree=None, early_stopping_rounds=None,\n",
       "              enable_categorical=False, eval_metric=None, feature_types=None,\n",
       "              gamma=None, gpu_id=None, grow_policy=None, importance_type=None,\n",
       "              interaction_constraints=None, learning_rate=None, max_bin=None,\n",
       "              max_cat_threshold=None, max_cat_to_onehot=None,\n",
       "              max_delta_step=None, max_depth=9, max_leaves=None,\n",
       "              min_child_weight=None, missing=nan, monotone_constraints=None,\n",
       "              n_estimators=150, n_jobs=None, num_class=3,\n",
       "              num_parallel_tree=None, objective='multi:softmax', ...)"
      ]
     },
     "execution_count": 198,
     "metadata": {},
     "output_type": "execute_result"
    }
   ],
   "source": [
    "best_xgb_classifier"
   ]
  },
  {
   "cell_type": "markdown",
   "metadata": {},
   "source": [
    "### Random Forest with CountVectorizer\n",
    "\n",
    "Next I wanted to try out the Random Forest model to see if it might perform better than the XGB model and it did, achieving an accuracy of 0.69. However, similair to the XG Boost model, it didn't improve much even after fine-tuning it."
   ]
  },
  {
   "cell_type": "code",
   "execution_count": 203,
   "metadata": {},
   "outputs": [
    {
     "name": "stdout",
     "output_type": "stream",
     "text": [
      "Accuracy: 0.6925638179800222\n"
     ]
    }
   ],
   "source": [
    "from sklearn.ensemble import RandomForestClassifier\n",
    "import os\n",
    "\n",
    "os.environ[\"TOKENIZERS_PARALLELISM\"] = \"false\"\n",
    "\n",
    "X_train, X_test, y_train, y_test = train_test_split(df['Tweet'], df['Sentiment_Num'], test_size=0.2, random_state=42)\n",
    "\n",
    "vectorizer = CountVectorizer() \n",
    "X_train_vec = vectorizer.fit_transform(X_train)\n",
    "X_test_vec = vectorizer.transform(X_test)\n",
    "\n",
    "rf_classifier = RandomForestClassifier(n_estimators=100, random_state=42)\n",
    "rf_classifier.fit(X_train_vec, y_train)\n",
    "\n",
    "y_pred = rf_classifier.predict(X_test_vec)\n",
    "\n",
    "accuracy = accuracy_score(y_test, y_pred)\n",
    "print(\"Accuracy:\", accuracy)\n"
   ]
  },
  {
   "cell_type": "code",
   "execution_count": 204,
   "metadata": {},
   "outputs": [
    {
     "name": "stdout",
     "output_type": "stream",
     "text": [
      "Fitting 3 folds for each of 81 candidates, totalling 243 fits\n",
      "[CV] END max_depth=None, min_samples_leaf=1, min_samples_split=5, n_estimators=50; total time=  14.5s\n",
      "[CV] END max_depth=None, min_samples_leaf=1, min_samples_split=2, n_estimators=50; total time=  19.0s\n",
      "[CV] END max_depth=None, min_samples_leaf=1, min_samples_split=2, n_estimators=50; total time=  19.5s\n",
      "[CV] END max_depth=None, min_samples_leaf=1, min_samples_split=2, n_estimators=50; total time=  19.5s\n",
      "[CV] END max_depth=None, min_samples_leaf=1, min_samples_split=5, n_estimators=50; total time=  13.2s\n",
      "[CV] END max_depth=None, min_samples_leaf=1, min_samples_split=5, n_estimators=50; total time=  13.1s\n",
      "[CV] END max_depth=None, min_samples_leaf=1, min_samples_split=2, n_estimators=100; total time=  37.1s\n",
      "[CV] END max_depth=None, min_samples_leaf=1, min_samples_split=2, n_estimators=100; total time=  37.2s\n",
      "[CV] END max_depth=None, min_samples_leaf=1, min_samples_split=2, n_estimators=100; total time=  37.4s\n",
      "[CV] END max_depth=None, min_samples_leaf=1, min_samples_split=5, n_estimators=100; total time=  26.2s\n",
      "[CV] END max_depth=None, min_samples_leaf=1, min_samples_split=5, n_estimators=100; total time=  26.6s\n",
      "[CV] END max_depth=None, min_samples_leaf=1, min_samples_split=10, n_estimators=50; total time=  11.1s\n",
      "[CV] END max_depth=None, min_samples_leaf=1, min_samples_split=5, n_estimators=100; total time=  26.1s\n",
      "[CV] END max_depth=None, min_samples_leaf=1, min_samples_split=10, n_estimators=50; total time=  11.5s\n",
      "[CV] END max_depth=None, min_samples_leaf=1, min_samples_split=10, n_estimators=50; total time=  11.4s\n",
      "[CV] END max_depth=None, min_samples_leaf=1, min_samples_split=10, n_estimators=100; total time=  22.1s\n",
      "[CV] END max_depth=None, min_samples_leaf=1, min_samples_split=2, n_estimators=200; total time= 1.2min\n",
      "[CV] END max_depth=None, min_samples_leaf=1, min_samples_split=2, n_estimators=200; total time= 1.2min\n",
      "[CV] END max_depth=None, min_samples_leaf=1, min_samples_split=2, n_estimators=200; total time= 1.2min\n",
      "[CV] END max_depth=None, min_samples_leaf=1, min_samples_split=10, n_estimators=100; total time=  22.8s\n",
      "[CV] END max_depth=None, min_samples_leaf=2, min_samples_split=2, n_estimators=50; total time=   5.7s\n",
      "[CV] END max_depth=None, min_samples_leaf=2, min_samples_split=2, n_estimators=50; total time=   6.1s\n",
      "[CV] END max_depth=None, min_samples_leaf=1, min_samples_split=10, n_estimators=100; total time=  22.6s\n",
      "[CV] END max_depth=None, min_samples_leaf=2, min_samples_split=2, n_estimators=50; total time=   6.6s\n",
      "[CV] END max_depth=None, min_samples_leaf=1, min_samples_split=5, n_estimators=200; total time=  52.8s\n",
      "[CV] END max_depth=None, min_samples_leaf=1, min_samples_split=5, n_estimators=200; total time=  52.0s\n",
      "[CV] END max_depth=None, min_samples_leaf=1, min_samples_split=5, n_estimators=200; total time=  52.9s\n",
      "[CV] END max_depth=None, min_samples_leaf=2, min_samples_split=2, n_estimators=100; total time=  12.8s\n",
      "[CV] END max_depth=None, min_samples_leaf=2, min_samples_split=2, n_estimators=100; total time=  12.5s\n",
      "[CV] END max_depth=None, min_samples_leaf=2, min_samples_split=2, n_estimators=100; total time=  12.4s\n",
      "[CV] END max_depth=None, min_samples_leaf=2, min_samples_split=5, n_estimators=50; total time=   6.2s\n",
      "[CV] END max_depth=None, min_samples_leaf=2, min_samples_split=5, n_estimators=50; total time=   6.5s\n",
      "[CV] END max_depth=None, min_samples_leaf=2, min_samples_split=5, n_estimators=50; total time=   6.5s\n",
      "[CV] END max_depth=None, min_samples_leaf=1, min_samples_split=10, n_estimators=200; total time=  47.5s\n",
      "[CV] END max_depth=None, min_samples_leaf=2, min_samples_split=5, n_estimators=100; total time=  13.5s\n",
      "[CV] END max_depth=None, min_samples_leaf=2, min_samples_split=2, n_estimators=200; total time=  25.2s\n",
      "[CV] END max_depth=None, min_samples_leaf=2, min_samples_split=5, n_estimators=100; total time=  13.8s\n",
      "[CV] END max_depth=None, min_samples_leaf=2, min_samples_split=5, n_estimators=100; total time=  13.4s\n",
      "[CV] END max_depth=None, min_samples_leaf=2, min_samples_split=2, n_estimators=200; total time=  26.7s\n",
      "[CV] END max_depth=None, min_samples_leaf=2, min_samples_split=2, n_estimators=200; total time=  22.5s\n",
      "[CV] END max_depth=None, min_samples_leaf=2, min_samples_split=10, n_estimators=50; total time=   6.7s\n",
      "[CV] END max_depth=None, min_samples_leaf=2, min_samples_split=10, n_estimators=50; total time=   6.9s\n",
      "[CV] END max_depth=None, min_samples_leaf=2, min_samples_split=10, n_estimators=50; total time=   7.0s\n",
      "[CV] END max_depth=None, min_samples_leaf=1, min_samples_split=10, n_estimators=200; total time=  49.0s\n",
      "[CV] END max_depth=None, min_samples_leaf=1, min_samples_split=10, n_estimators=200; total time=  48.9s\n",
      "[CV] END max_depth=None, min_samples_leaf=2, min_samples_split=10, n_estimators=100; total time=  11.0s\n",
      "[CV] END max_depth=None, min_samples_leaf=2, min_samples_split=5, n_estimators=200; total time=  26.6s\n",
      "[CV] END max_depth=None, min_samples_leaf=2, min_samples_split=10, n_estimators=100; total time=  13.0s\n",
      "[CV] END max_depth=None, min_samples_leaf=4, min_samples_split=2, n_estimators=50; total time=   4.4s\n",
      "[CV] END max_depth=None, min_samples_leaf=4, min_samples_split=2, n_estimators=50; total time=   3.9s\n",
      "[CV] END max_depth=None, min_samples_leaf=2, min_samples_split=10, n_estimators=100; total time=  12.1s\n",
      "[CV] END max_depth=None, min_samples_leaf=4, min_samples_split=2, n_estimators=50; total time=   4.3s\n",
      "[CV] END max_depth=None, min_samples_leaf=2, min_samples_split=5, n_estimators=200; total time=  25.0s\n",
      "[CV] END max_depth=None, min_samples_leaf=2, min_samples_split=5, n_estimators=200; total time=  25.9s\n",
      "[CV] END max_depth=None, min_samples_leaf=4, min_samples_split=2, n_estimators=100; total time=   8.7s\n",
      "[CV] END max_depth=None, min_samples_leaf=4, min_samples_split=2, n_estimators=100; total time=   7.5s\n",
      "[CV] END max_depth=None, min_samples_leaf=4, min_samples_split=2, n_estimators=100; total time=   9.1s\n",
      "[CV] END max_depth=None, min_samples_leaf=4, min_samples_split=5, n_estimators=50; total time=   4.3s\n",
      "[CV] END max_depth=None, min_samples_leaf=4, min_samples_split=5, n_estimators=50; total time=   4.9s\n",
      "[CV] END max_depth=None, min_samples_leaf=4, min_samples_split=5, n_estimators=50; total time=   4.2s\n",
      "[CV] END max_depth=None, min_samples_leaf=2, min_samples_split=10, n_estimators=200; total time=  23.9s\n",
      "[CV] END max_depth=None, min_samples_leaf=2, min_samples_split=10, n_estimators=200; total time=  24.5s\n",
      "[CV] END max_depth=None, min_samples_leaf=4, min_samples_split=5, n_estimators=100; total time=   9.2s\n",
      "[CV] END max_depth=None, min_samples_leaf=2, min_samples_split=10, n_estimators=200; total time=  24.0s\n",
      "[CV] END max_depth=None, min_samples_leaf=4, min_samples_split=5, n_estimators=100; total time=   9.6s\n",
      "[CV] END max_depth=None, min_samples_leaf=4, min_samples_split=2, n_estimators=200; total time=  17.7s\n",
      "[CV] END max_depth=None, min_samples_leaf=4, min_samples_split=5, n_estimators=100; total time=   8.6s\n",
      "[CV] END max_depth=None, min_samples_leaf=4, min_samples_split=2, n_estimators=200; total time=  18.7s\n",
      "[CV] END max_depth=None, min_samples_leaf=4, min_samples_split=10, n_estimators=50; total time=   4.1s\n",
      "[CV] END max_depth=None, min_samples_leaf=4, min_samples_split=10, n_estimators=50; total time=   4.3s\n",
      "[CV] END max_depth=None, min_samples_leaf=4, min_samples_split=2, n_estimators=200; total time=  17.7s\n",
      "[CV] END max_depth=None, min_samples_leaf=4, min_samples_split=10, n_estimators=50; total time=   4.4s\n",
      "[CV] END max_depth=10, min_samples_leaf=1, min_samples_split=2, n_estimators=50; total time=   1.6s\n",
      "[CV] END max_depth=10, min_samples_leaf=1, min_samples_split=2, n_estimators=50; total time=   1.2s\n",
      "[CV] END max_depth=10, min_samples_leaf=1, min_samples_split=2, n_estimators=50; total time=   1.1s\n",
      "[CV] END max_depth=None, min_samples_leaf=4, min_samples_split=5, n_estimators=200; total time=  15.5s\n",
      "[CV] END max_depth=None, min_samples_leaf=4, min_samples_split=10, n_estimators=100; total time=   8.9s\n",
      "[CV] END max_depth=10, min_samples_leaf=1, min_samples_split=2, n_estimators=100; total time=   2.2s\n",
      "[CV] END max_depth=10, min_samples_leaf=1, min_samples_split=2, n_estimators=100; total time=   2.0s\n",
      "[CV] END max_depth=10, min_samples_leaf=1, min_samples_split=2, n_estimators=100; total time=   2.2s\n",
      "[CV] END max_depth=None, min_samples_leaf=4, min_samples_split=10, n_estimators=100; total time=   9.3s\n",
      "[CV] END max_depth=None, min_samples_leaf=4, min_samples_split=10, n_estimators=100; total time=   9.6s\n",
      "[CV] END max_depth=10, min_samples_leaf=1, min_samples_split=5, n_estimators=50; total time=   1.8s\n",
      "[CV] END max_depth=10, min_samples_leaf=1, min_samples_split=5, n_estimators=50; total time=   2.0s\n",
      "[CV] END max_depth=10, min_samples_leaf=1, min_samples_split=5, n_estimators=50; total time=   1.4s\n",
      "[CV] END max_depth=None, min_samples_leaf=4, min_samples_split=5, n_estimators=200; total time=  18.6s\n",
      "[CV] END max_depth=10, min_samples_leaf=1, min_samples_split=2, n_estimators=200; total time=   4.8s\n",
      "[CV] END max_depth=None, min_samples_leaf=4, min_samples_split=5, n_estimators=200; total time=  19.7s\n",
      "[CV] END max_depth=10, min_samples_leaf=1, min_samples_split=5, n_estimators=100; total time=   2.3s\n",
      "[CV] END max_depth=10, min_samples_leaf=1, min_samples_split=2, n_estimators=200; total time=   5.6s\n",
      "[CV] END max_depth=10, min_samples_leaf=1, min_samples_split=5, n_estimators=100; total time=   2.3s\n",
      "[CV] END max_depth=10, min_samples_leaf=1, min_samples_split=2, n_estimators=200; total time=   5.8s\n",
      "[CV] END max_depth=10, min_samples_leaf=1, min_samples_split=10, n_estimators=50; total time=   1.2s\n",
      "[CV] END max_depth=10, min_samples_leaf=1, min_samples_split=5, n_estimators=100; total time=   2.3s\n",
      "[CV] END max_depth=10, min_samples_leaf=1, min_samples_split=10, n_estimators=50; total time=   1.2s\n",
      "[CV] END max_depth=10, min_samples_leaf=1, min_samples_split=10, n_estimators=50; total time=   1.2s\n",
      "[CV] END max_depth=10, min_samples_leaf=1, min_samples_split=5, n_estimators=200; total time=   3.9s\n",
      "[CV] END max_depth=10, min_samples_leaf=1, min_samples_split=10, n_estimators=100; total time=   2.4s\n",
      "[CV] END max_depth=10, min_samples_leaf=1, min_samples_split=10, n_estimators=100; total time=   2.5s\n",
      "[CV] END max_depth=10, min_samples_leaf=1, min_samples_split=5, n_estimators=200; total time=   4.7s\n",
      "[CV] END max_depth=10, min_samples_leaf=1, min_samples_split=10, n_estimators=100; total time=   2.4s\n",
      "[CV] END max_depth=10, min_samples_leaf=1, min_samples_split=5, n_estimators=200; total time=   4.8s\n",
      "[CV] END max_depth=10, min_samples_leaf=2, min_samples_split=2, n_estimators=50; total time=   1.2s\n",
      "[CV] END max_depth=10, min_samples_leaf=2, min_samples_split=2, n_estimators=50; total time=   1.1s\n",
      "[CV] END max_depth=10, min_samples_leaf=2, min_samples_split=2, n_estimators=50; total time=   1.1s\n",
      "[CV] END max_depth=None, min_samples_leaf=4, min_samples_split=10, n_estimators=200; total time=  19.2s\n",
      "[CV] END max_depth=10, min_samples_leaf=2, min_samples_split=2, n_estimators=100; total time=   2.2s\n",
      "[CV] END max_depth=None, min_samples_leaf=4, min_samples_split=10, n_estimators=200; total time=  19.4s\n",
      "[CV] END max_depth=None, min_samples_leaf=4, min_samples_split=10, n_estimators=200; total time=  19.9s\n",
      "[CV] END max_depth=10, min_samples_leaf=1, min_samples_split=10, n_estimators=200; total time=   5.0s\n",
      "[CV] END max_depth=10, min_samples_leaf=1, min_samples_split=10, n_estimators=200; total time=   4.1s\n",
      "[CV] END max_depth=10, min_samples_leaf=2, min_samples_split=2, n_estimators=100; total time=   2.2s\n",
      "[CV] END max_depth=10, min_samples_leaf=2, min_samples_split=2, n_estimators=100; total time=   2.3s\n",
      "[CV] END max_depth=10, min_samples_leaf=2, min_samples_split=5, n_estimators=50; total time=   1.2s\n",
      "[CV] END max_depth=10, min_samples_leaf=2, min_samples_split=5, n_estimators=50; total time=   1.2s\n",
      "[CV] END max_depth=10, min_samples_leaf=1, min_samples_split=10, n_estimators=200; total time=   4.6s\n",
      "[CV] END max_depth=10, min_samples_leaf=2, min_samples_split=5, n_estimators=50; total time=   1.2s\n",
      "[CV] END max_depth=10, min_samples_leaf=2, min_samples_split=10, n_estimators=50; total time=   1.1s\n",
      "[CV] END max_depth=10, min_samples_leaf=2, min_samples_split=5, n_estimators=100; total time=   2.0s\n",
      "[CV] END max_depth=10, min_samples_leaf=2, min_samples_split=5, n_estimators=100; total time=   2.3s\n",
      "[CV] END max_depth=10, min_samples_leaf=2, min_samples_split=5, n_estimators=100; total time=   2.3s\n",
      "[CV] END max_depth=10, min_samples_leaf=2, min_samples_split=2, n_estimators=200; total time=   4.8s\n",
      "[CV] END max_depth=10, min_samples_leaf=2, min_samples_split=10, n_estimators=50; total time=   1.0s\n",
      "[CV] END max_depth=10, min_samples_leaf=2, min_samples_split=2, n_estimators=200; total time=   4.7s\n",
      "[CV] END max_depth=10, min_samples_leaf=2, min_samples_split=10, n_estimators=50; total time=   1.2s\n",
      "[CV] END max_depth=10, min_samples_leaf=2, min_samples_split=2, n_estimators=200; total time=   4.7s\n",
      "[CV] END max_depth=10, min_samples_leaf=2, min_samples_split=10, n_estimators=100; total time=   2.5s\n",
      "[CV] END max_depth=10, min_samples_leaf=2, min_samples_split=10, n_estimators=100; total time=   2.5s\n",
      "[CV] END max_depth=10, min_samples_leaf=4, min_samples_split=2, n_estimators=50; total time=   1.3s\n",
      "[CV] END max_depth=10, min_samples_leaf=2, min_samples_split=10, n_estimators=100; total time=   2.4s\n",
      "[CV] END max_depth=10, min_samples_leaf=2, min_samples_split=5, n_estimators=200; total time=   4.9s\n",
      "[CV] END max_depth=10, min_samples_leaf=2, min_samples_split=5, n_estimators=200; total time=   5.0s\n",
      "[CV] END max_depth=10, min_samples_leaf=2, min_samples_split=5, n_estimators=200; total time=   5.6s\n",
      "[CV] END max_depth=10, min_samples_leaf=4, min_samples_split=2, n_estimators=50; total time=   2.0s\n",
      "[CV] END max_depth=10, min_samples_leaf=4, min_samples_split=2, n_estimators=50; total time=   2.1s\n",
      "[CV] END max_depth=10, min_samples_leaf=2, min_samples_split=10, n_estimators=200; total time=   4.8s\n",
      "[CV] END max_depth=10, min_samples_leaf=4, min_samples_split=5, n_estimators=50; total time=   1.1s\n",
      "[CV] END max_depth=10, min_samples_leaf=4, min_samples_split=2, n_estimators=100; total time=   3.2s\n",
      "[CV] END max_depth=10, min_samples_leaf=4, min_samples_split=2, n_estimators=100; total time=   3.3s\n",
      "[CV] END max_depth=10, min_samples_leaf=4, min_samples_split=2, n_estimators=100; total time=   3.2s\n",
      "[CV] END max_depth=10, min_samples_leaf=2, min_samples_split=10, n_estimators=200; total time=   5.8s\n",
      "[CV] END max_depth=10, min_samples_leaf=4, min_samples_split=5, n_estimators=50; total time=   1.0s\n",
      "[CV] END max_depth=10, min_samples_leaf=2, min_samples_split=10, n_estimators=200; total time=   5.7s\n",
      "[CV] END max_depth=10, min_samples_leaf=4, min_samples_split=5, n_estimators=50; total time=   1.1s\n",
      "[CV] END max_depth=10, min_samples_leaf=4, min_samples_split=10, n_estimators=50; total time=   1.1s\n",
      "[CV] END max_depth=10, min_samples_leaf=4, min_samples_split=5, n_estimators=100; total time=   2.2s\n",
      "[CV] END max_depth=10, min_samples_leaf=4, min_samples_split=5, n_estimators=100; total time=   2.2s\n",
      "[CV] END max_depth=10, min_samples_leaf=4, min_samples_split=5, n_estimators=100; total time=   2.3s\n",
      "[CV] END max_depth=10, min_samples_leaf=4, min_samples_split=2, n_estimators=200; total time=   5.2s\n",
      "[CV] END max_depth=10, min_samples_leaf=4, min_samples_split=2, n_estimators=200; total time=   4.8s\n",
      "[CV] END max_depth=10, min_samples_leaf=4, min_samples_split=2, n_estimators=200; total time=   4.4s\n",
      "[CV] END max_depth=10, min_samples_leaf=4, min_samples_split=10, n_estimators=50; total time=   1.3s\n",
      "[CV] END max_depth=10, min_samples_leaf=4, min_samples_split=10, n_estimators=50; total time=   1.4s\n",
      "[CV] END max_depth=10, min_samples_leaf=4, min_samples_split=5, n_estimators=200; total time=   4.4s\n",
      "[CV] END max_depth=10, min_samples_leaf=4, min_samples_split=5, n_estimators=200; total time=   5.9s\n",
      "[CV] END max_depth=10, min_samples_leaf=4, min_samples_split=10, n_estimators=100; total time=   3.9s\n",
      "[CV] END max_depth=10, min_samples_leaf=4, min_samples_split=10, n_estimators=100; total time=   4.1s\n",
      "[CV] END max_depth=10, min_samples_leaf=4, min_samples_split=10, n_estimators=100; total time=   3.9s\n",
      "[CV] END max_depth=10, min_samples_leaf=4, min_samples_split=5, n_estimators=200; total time=   6.3s\n",
      "[CV] END max_depth=20, min_samples_leaf=1, min_samples_split=2, n_estimators=50; total time=   3.2s\n",
      "[CV] END max_depth=20, min_samples_leaf=1, min_samples_split=2, n_estimators=50; total time=   4.4s\n",
      "[CV] END max_depth=20, min_samples_leaf=1, min_samples_split=2, n_estimators=50; total time=   2.9s\n",
      "[CV] END max_depth=10, min_samples_leaf=4, min_samples_split=10, n_estimators=200; total time=   6.7s\n",
      "[CV] END max_depth=10, min_samples_leaf=4, min_samples_split=10, n_estimators=200; total time=   6.6s\n",
      "[CV] END max_depth=10, min_samples_leaf=4, min_samples_split=10, n_estimators=200; total time=   7.1s\n",
      "[CV] END max_depth=20, min_samples_leaf=1, min_samples_split=5, n_estimators=50; total time=   3.5s\n",
      "[CV] END max_depth=20, min_samples_leaf=1, min_samples_split=5, n_estimators=50; total time=   3.7s\n",
      "[CV] END max_depth=20, min_samples_leaf=1, min_samples_split=2, n_estimators=100; total time=   6.7s\n",
      "[CV] END max_depth=20, min_samples_leaf=1, min_samples_split=2, n_estimators=100; total time=   6.6s\n",
      "[CV] END max_depth=20, min_samples_leaf=1, min_samples_split=2, n_estimators=100; total time=   6.7s\n",
      "[CV] END max_depth=20, min_samples_leaf=1, min_samples_split=5, n_estimators=50; total time=   3.4s\n",
      "[CV] END max_depth=20, min_samples_leaf=1, min_samples_split=10, n_estimators=50; total time=   2.3s\n",
      "[CV] END max_depth=20, min_samples_leaf=1, min_samples_split=5, n_estimators=100; total time=   5.9s\n",
      "[CV] END max_depth=20, min_samples_leaf=1, min_samples_split=5, n_estimators=100; total time=   4.8s\n",
      "[CV] END max_depth=20, min_samples_leaf=1, min_samples_split=5, n_estimators=100; total time=   5.1s\n",
      "[CV] END max_depth=20, min_samples_leaf=1, min_samples_split=2, n_estimators=200; total time=  10.0s\n",
      "[CV] END max_depth=20, min_samples_leaf=1, min_samples_split=10, n_estimators=50; total time=   2.3s\n",
      "[CV] END max_depth=20, min_samples_leaf=1, min_samples_split=10, n_estimators=50; total time=   2.3s\n",
      "[CV] END max_depth=20, min_samples_leaf=1, min_samples_split=2, n_estimators=200; total time=  11.9s\n",
      "[CV] END max_depth=20, min_samples_leaf=1, min_samples_split=2, n_estimators=200; total time=  11.6s\n",
      "[CV] END max_depth=20, min_samples_leaf=2, min_samples_split=2, n_estimators=50; total time=   2.1s\n",
      "[CV] END max_depth=20, min_samples_leaf=1, min_samples_split=10, n_estimators=100; total time=   4.1s\n",
      "[CV] END max_depth=20, min_samples_leaf=1, min_samples_split=10, n_estimators=100; total time=   4.6s\n",
      "[CV] END max_depth=20, min_samples_leaf=1, min_samples_split=10, n_estimators=100; total time=   4.7s\n",
      "[CV] END max_depth=20, min_samples_leaf=1, min_samples_split=5, n_estimators=200; total time=   9.7s\n",
      "[CV] END max_depth=20, min_samples_leaf=1, min_samples_split=5, n_estimators=200; total time=   9.6s\n",
      "[CV] END max_depth=20, min_samples_leaf=1, min_samples_split=5, n_estimators=200; total time=   9.7s\n",
      "[CV] END max_depth=20, min_samples_leaf=2, min_samples_split=2, n_estimators=50; total time=   2.2s\n",
      "[CV] END max_depth=20, min_samples_leaf=2, min_samples_split=2, n_estimators=50; total time=   2.0s\n",
      "[CV] END max_depth=20, min_samples_leaf=2, min_samples_split=5, n_estimators=50; total time=   1.9s\n",
      "[CV] END max_depth=20, min_samples_leaf=2, min_samples_split=2, n_estimators=100; total time=   4.5s\n",
      "[CV] END max_depth=20, min_samples_leaf=2, min_samples_split=2, n_estimators=100; total time=   4.4s\n",
      "[CV] END max_depth=20, min_samples_leaf=2, min_samples_split=2, n_estimators=100; total time=   4.5s\n",
      "[CV] END max_depth=20, min_samples_leaf=1, min_samples_split=10, n_estimators=200; total time=   9.5s\n",
      "[CV] END max_depth=20, min_samples_leaf=1, min_samples_split=10, n_estimators=200; total time=   9.5s\n",
      "[CV] END max_depth=20, min_samples_leaf=2, min_samples_split=5, n_estimators=50; total time=   1.9s\n",
      "[CV] END max_depth=20, min_samples_leaf=1, min_samples_split=10, n_estimators=200; total time=   9.4s\n",
      "[CV] END max_depth=20, min_samples_leaf=2, min_samples_split=5, n_estimators=50; total time=   2.0s\n",
      "[CV] END max_depth=20, min_samples_leaf=2, min_samples_split=10, n_estimators=50; total time=   2.1s\n",
      "[CV] END max_depth=20, min_samples_leaf=2, min_samples_split=5, n_estimators=100; total time=   4.0s\n",
      "[CV] END max_depth=20, min_samples_leaf=2, min_samples_split=5, n_estimators=100; total time=   4.1s\n",
      "[CV] END max_depth=20, min_samples_leaf=2, min_samples_split=2, n_estimators=200; total time=   8.5s\n",
      "[CV] END max_depth=20, min_samples_leaf=2, min_samples_split=2, n_estimators=200; total time=   8.5s\n",
      "[CV] END max_depth=20, min_samples_leaf=2, min_samples_split=5, n_estimators=100; total time=   4.0s\n",
      "[CV] END max_depth=20, min_samples_leaf=2, min_samples_split=2, n_estimators=200; total time=   8.0s\n",
      "[CV] END max_depth=20, min_samples_leaf=2, min_samples_split=10, n_estimators=50; total time=   1.9s\n",
      "[CV] END max_depth=20, min_samples_leaf=2, min_samples_split=10, n_estimators=50; total time=   1.9s\n",
      "[CV] END max_depth=20, min_samples_leaf=2, min_samples_split=5, n_estimators=200; total time=   7.2s\n",
      "[CV] END max_depth=20, min_samples_leaf=4, min_samples_split=2, n_estimators=50; total time=   2.1s\n",
      "[CV] END max_depth=20, min_samples_leaf=2, min_samples_split=10, n_estimators=100; total time=   4.2s\n",
      "[CV] END max_depth=20, min_samples_leaf=2, min_samples_split=10, n_estimators=100; total time=   4.3s\n",
      "[CV] END max_depth=20, min_samples_leaf=2, min_samples_split=10, n_estimators=100; total time=   4.2s\n",
      "[CV] END max_depth=20, min_samples_leaf=2, min_samples_split=5, n_estimators=200; total time=   8.1s\n",
      "[CV] END max_depth=20, min_samples_leaf=2, min_samples_split=5, n_estimators=200; total time=   8.1s\n",
      "[CV] END max_depth=20, min_samples_leaf=4, min_samples_split=2, n_estimators=50; total time=   1.8s\n",
      "[CV] END max_depth=20, min_samples_leaf=4, min_samples_split=2, n_estimators=50; total time=   1.9s\n",
      "[CV] END max_depth=20, min_samples_leaf=4, min_samples_split=5, n_estimators=50; total time=   1.9s\n",
      "[CV] END max_depth=20, min_samples_leaf=4, min_samples_split=2, n_estimators=100; total time=   3.8s\n",
      "[CV] END max_depth=20, min_samples_leaf=4, min_samples_split=2, n_estimators=100; total time=   3.9s\n",
      "[CV] END max_depth=20, min_samples_leaf=2, min_samples_split=10, n_estimators=200; total time=   8.0s\n",
      "[CV] END max_depth=20, min_samples_leaf=4, min_samples_split=2, n_estimators=100; total time=   4.0s\n",
      "[CV] END max_depth=20, min_samples_leaf=2, min_samples_split=10, n_estimators=200; total time=   8.3s\n",
      "[CV] END max_depth=20, min_samples_leaf=2, min_samples_split=10, n_estimators=200; total time=   8.0s\n",
      "[CV] END max_depth=20, min_samples_leaf=4, min_samples_split=5, n_estimators=50; total time=   1.9s\n",
      "[CV] END max_depth=20, min_samples_leaf=4, min_samples_split=5, n_estimators=50; total time=   1.9s\n",
      "[CV] END max_depth=20, min_samples_leaf=4, min_samples_split=5, n_estimators=100; total time=   3.9s\n",
      "[CV] END max_depth=20, min_samples_leaf=4, min_samples_split=10, n_estimators=50; total time=   2.1s\n",
      "[CV] END max_depth=20, min_samples_leaf=4, min_samples_split=5, n_estimators=100; total time=   4.0s\n",
      "[CV] END max_depth=20, min_samples_leaf=4, min_samples_split=2, n_estimators=200; total time=   6.7s\n",
      "[CV] END max_depth=20, min_samples_leaf=4, min_samples_split=5, n_estimators=100; total time=   4.0s\n",
      "[CV] END max_depth=20, min_samples_leaf=4, min_samples_split=2, n_estimators=200; total time=   7.9s\n",
      "[CV] END max_depth=20, min_samples_leaf=4, min_samples_split=2, n_estimators=200; total time=   7.9s\n",
      "[CV] END max_depth=20, min_samples_leaf=4, min_samples_split=10, n_estimators=50; total time=   2.0s\n",
      "[CV] END max_depth=20, min_samples_leaf=4, min_samples_split=10, n_estimators=50; total time=   2.0s\n",
      "[CV] END max_depth=20, min_samples_leaf=4, min_samples_split=10, n_estimators=100; total time=   3.4s\n",
      "[CV] END max_depth=20, min_samples_leaf=4, min_samples_split=10, n_estimators=100; total time=   3.7s\n",
      "[CV] END max_depth=20, min_samples_leaf=4, min_samples_split=10, n_estimators=100; total time=   3.8s\n",
      "[CV] END max_depth=20, min_samples_leaf=4, min_samples_split=5, n_estimators=200; total time=   7.7s\n",
      "[CV] END max_depth=20, min_samples_leaf=4, min_samples_split=5, n_estimators=200; total time=   7.7s\n",
      "[CV] END max_depth=20, min_samples_leaf=4, min_samples_split=5, n_estimators=200; total time=   7.6s\n",
      "[CV] END max_depth=20, min_samples_leaf=4, min_samples_split=10, n_estimators=200; total time=   6.9s\n",
      "[CV] END max_depth=20, min_samples_leaf=4, min_samples_split=10, n_estimators=200; total time=   7.0s\n",
      "[CV] END max_depth=20, min_samples_leaf=4, min_samples_split=10, n_estimators=200; total time=   6.5s\n",
      "Best Parameters: {'max_depth': None, 'min_samples_leaf': 1, 'min_samples_split': 10, 'n_estimators': 200}\n",
      "Accuracy: 0.6992230854605993\n"
     ]
    }
   ],
   "source": [
    "# Define the parameter grid for GridSearchCV\n",
    "param_grid = {\n",
    "    'n_estimators': [50, 100, 200],\n",
    "    'max_depth': [None, 10, 20],\n",
    "    'min_samples_split': [2, 5, 10],\n",
    "    'min_samples_leaf': [1, 2, 4]\n",
    "}\n",
    "\n",
    "rf_classifier = RandomForestClassifier(random_state=42)\n",
    "\n",
    "grid_search = GridSearchCV(estimator=rf_classifier, param_grid=param_grid, cv=3, n_jobs=-1, verbose=2)\n",
    "\n",
    "grid_search.fit(X_train_vec, y_train)\n",
    "\n",
    "best_rf = grid_search.best_estimator_\n",
    "\n",
    "y_pred = best_rf.predict(X_test_vec)\n",
    "\n",
    "accuracy = accuracy_score(y_test, y_pred)\n",
    "print(\"Best Parameters:\", grid_search.best_params_)\n",
    "print(\"Accuracy:\", accuracy)\n"
   ]
  },
  {
   "cell_type": "markdown",
   "metadata": {},
   "source": [
    "### Random Forest with Gensim\n",
    "\n",
    "While our base Random Forest model with Gensim isn't very good at .60, I was able to improve it to 0.7 with some fine-tuning."
   ]
  },
  {
   "cell_type": "code",
   "execution_count": 201,
   "metadata": {},
   "outputs": [
    {
     "name": "stdout",
     "output_type": "stream",
     "text": [
      "Accuracy: 0.6015538290788013\n"
     ]
    }
   ],
   "source": [
    "X_train, X_test, y_train, y_test = train_test_split(df['Tweet'], df['Sentiment_Num'], test_size=0.2, random_state=42)\n",
    "\n",
    "tokenized_train = [text.split() for text in X_train]\n",
    "tokenized_test = [text.split() for text in X_test]\n",
    "\n",
    "word2vec_model = Word2Vec(sentences=tokenized_train, vector_size=100, window=5, min_count=1, sg=1)\n",
    "\n",
    "X_train_embed = np.array([text_to_embeddings(text) for text in X_train])\n",
    "X_test_embed = np.array([text_to_embeddings(text) for text in X_test])\n",
    "\n",
    "rf_classifier = RandomForestClassifier(n_estimators=100, random_state=42)\n",
    "rf_classifier.fit(X_train_embed, y_train)\n",
    "\n",
    "# Make predictions\n",
    "y_pred = rf_classifier.predict(X_test_embed)\n",
    "\n",
    "# Calculate accuracy\n",
    "accuracy = accuracy_score(y_test, y_pred)\n",
    "print(\"Accuracy:\", accuracy)\n"
   ]
  },
  {
   "cell_type": "code",
   "execution_count": 202,
   "metadata": {},
   "outputs": [
    {
     "name": "stdout",
     "output_type": "stream",
     "text": [
      "Fitting 3 folds for each of 81 candidates, totalling 243 fits\n",
      "[CV] END max_depth=None, min_samples_leaf=1, min_samples_split=5, n_estimators=50; total time=  13.2s\n",
      "[CV] END max_depth=None, min_samples_leaf=1, min_samples_split=2, n_estimators=50; total time=  17.3s\n",
      "[CV] END max_depth=None, min_samples_leaf=1, min_samples_split=2, n_estimators=50; total time=  17.6s\n",
      "[CV] END max_depth=None, min_samples_leaf=1, min_samples_split=2, n_estimators=50; total time=  17.8s\n",
      "[CV] END max_depth=None, min_samples_leaf=1, min_samples_split=5, n_estimators=50; total time=  13.5s\n",
      "[CV] END max_depth=None, min_samples_leaf=1, min_samples_split=5, n_estimators=50; total time=  13.2s\n",
      "[CV] END max_depth=None, min_samples_leaf=1, min_samples_split=2, n_estimators=100; total time=  35.0s\n",
      "[CV] END max_depth=None, min_samples_leaf=1, min_samples_split=2, n_estimators=100; total time=  35.3s\n",
      "[CV] END max_depth=None, min_samples_leaf=1, min_samples_split=2, n_estimators=100; total time=  35.5s\n",
      "[CV] END max_depth=None, min_samples_leaf=1, min_samples_split=5, n_estimators=100; total time=  29.7s\n",
      "[CV] END max_depth=None, min_samples_leaf=1, min_samples_split=5, n_estimators=100; total time=  30.4s\n",
      "[CV] END max_depth=None, min_samples_leaf=1, min_samples_split=10, n_estimators=50; total time=  15.0s\n",
      "[CV] END max_depth=None, min_samples_leaf=1, min_samples_split=5, n_estimators=100; total time=  31.1s\n",
      "[CV] END max_depth=None, min_samples_leaf=1, min_samples_split=10, n_estimators=50; total time=  13.6s\n",
      "[CV] END max_depth=None, min_samples_leaf=1, min_samples_split=10, n_estimators=50; total time=  13.5s\n",
      "[CV] END max_depth=None, min_samples_leaf=1, min_samples_split=2, n_estimators=200; total time= 1.1min\n",
      "[CV] END max_depth=None, min_samples_leaf=1, min_samples_split=2, n_estimators=200; total time= 1.1min\n",
      "[CV] END max_depth=None, min_samples_leaf=1, min_samples_split=10, n_estimators=100; total time=  26.6s\n",
      "[CV] END max_depth=None, min_samples_leaf=1, min_samples_split=2, n_estimators=200; total time= 1.3min\n",
      "[CV] END max_depth=None, min_samples_leaf=2, min_samples_split=2, n_estimators=50; total time=   7.3s\n",
      "[CV] END max_depth=None, min_samples_leaf=1, min_samples_split=10, n_estimators=100; total time=  27.6s\n",
      "[CV] END max_depth=None, min_samples_leaf=2, min_samples_split=2, n_estimators=50; total time=   6.9s\n",
      "[CV] END max_depth=None, min_samples_leaf=1, min_samples_split=10, n_estimators=100; total time=  26.3s\n",
      "[CV] END max_depth=None, min_samples_leaf=2, min_samples_split=2, n_estimators=50; total time=   6.7s\n",
      "[CV] END max_depth=None, min_samples_leaf=1, min_samples_split=5, n_estimators=200; total time= 1.0min\n",
      "[CV] END max_depth=None, min_samples_leaf=1, min_samples_split=5, n_estimators=200; total time= 1.1min\n",
      "[CV] END max_depth=None, min_samples_leaf=1, min_samples_split=5, n_estimators=200; total time= 1.1min\n",
      "[CV] END max_depth=None, min_samples_leaf=2, min_samples_split=2, n_estimators=100; total time=  14.8s\n",
      "[CV] END max_depth=None, min_samples_leaf=2, min_samples_split=2, n_estimators=100; total time=  15.6s\n",
      "[CV] END max_depth=None, min_samples_leaf=2, min_samples_split=2, n_estimators=100; total time=  16.3s\n",
      "[CV] END max_depth=None, min_samples_leaf=2, min_samples_split=5, n_estimators=50; total time=   7.8s\n",
      "[CV] END max_depth=None, min_samples_leaf=2, min_samples_split=5, n_estimators=50; total time=   7.8s\n",
      "[CV] END max_depth=None, min_samples_leaf=2, min_samples_split=5, n_estimators=50; total time=   7.2s\n",
      "[CV] END max_depth=None, min_samples_leaf=1, min_samples_split=10, n_estimators=200; total time=  45.9s\n",
      "[CV] END max_depth=None, min_samples_leaf=1, min_samples_split=10, n_estimators=200; total time=  47.1s\n",
      "[CV] END max_depth=None, min_samples_leaf=1, min_samples_split=10, n_estimators=200; total time=  55.3s\n",
      "[CV] END max_depth=None, min_samples_leaf=2, min_samples_split=5, n_estimators=100; total time=  14.1s\n",
      "[CV] END max_depth=None, min_samples_leaf=2, min_samples_split=2, n_estimators=200; total time=  29.6s\n",
      "[CV] END max_depth=None, min_samples_leaf=2, min_samples_split=5, n_estimators=100; total time=  13.2s\n",
      "[CV] END max_depth=None, min_samples_leaf=2, min_samples_split=5, n_estimators=100; total time=  13.4s\n",
      "[CV] END max_depth=None, min_samples_leaf=2, min_samples_split=10, n_estimators=50; total time=   5.9s\n",
      "[CV] END max_depth=None, min_samples_leaf=2, min_samples_split=2, n_estimators=200; total time=  30.0s\n",
      "[CV] END max_depth=None, min_samples_leaf=2, min_samples_split=10, n_estimators=50; total time=   6.1s\n",
      "[CV] END max_depth=None, min_samples_leaf=2, min_samples_split=10, n_estimators=50; total time=   6.0s\n",
      "[CV] END max_depth=None, min_samples_leaf=2, min_samples_split=2, n_estimators=200; total time=  27.8s\n",
      "[CV] END max_depth=None, min_samples_leaf=4, min_samples_split=2, n_estimators=50; total time=   4.3s\n",
      "[CV] END max_depth=None, min_samples_leaf=2, min_samples_split=10, n_estimators=100; total time=  12.2s\n",
      "[CV] END max_depth=None, min_samples_leaf=2, min_samples_split=10, n_estimators=100; total time=  12.2s\n",
      "[CV] END max_depth=None, min_samples_leaf=2, min_samples_split=5, n_estimators=200; total time=  25.6s\n",
      "[CV] END max_depth=None, min_samples_leaf=2, min_samples_split=10, n_estimators=100; total time=  12.3s\n",
      "[CV] END max_depth=None, min_samples_leaf=2, min_samples_split=5, n_estimators=200; total time=  22.0s\n",
      "[CV] END max_depth=None, min_samples_leaf=4, min_samples_split=2, n_estimators=50; total time=   4.6s\n",
      "[CV] END max_depth=None, min_samples_leaf=2, min_samples_split=5, n_estimators=200; total time=  21.2s\n",
      "[CV] END max_depth=None, min_samples_leaf=4, min_samples_split=2, n_estimators=50; total time=   4.2s\n",
      "[CV] END max_depth=None, min_samples_leaf=4, min_samples_split=5, n_estimators=50; total time=   4.2s\n",
      "[CV] END max_depth=None, min_samples_leaf=4, min_samples_split=2, n_estimators=100; total time=   8.8s\n",
      "[CV] END max_depth=None, min_samples_leaf=4, min_samples_split=2, n_estimators=100; total time=   9.2s\n",
      "[CV] END max_depth=None, min_samples_leaf=4, min_samples_split=2, n_estimators=100; total time=   8.8s\n",
      "[CV] END max_depth=None, min_samples_leaf=4, min_samples_split=5, n_estimators=50; total time=   4.5s\n",
      "[CV] END max_depth=None, min_samples_leaf=2, min_samples_split=10, n_estimators=200; total time=  23.9s\n",
      "[CV] END max_depth=None, min_samples_leaf=4, min_samples_split=5, n_estimators=50; total time=   4.3s\n",
      "[CV] END max_depth=None, min_samples_leaf=2, min_samples_split=10, n_estimators=200; total time=  24.5s\n",
      "[CV] END max_depth=None, min_samples_leaf=2, min_samples_split=10, n_estimators=200; total time=  23.8s\n",
      "[CV] END max_depth=None, min_samples_leaf=4, min_samples_split=2, n_estimators=200; total time=  15.4s\n",
      "[CV] END max_depth=None, min_samples_leaf=4, min_samples_split=2, n_estimators=200; total time=  16.2s\n",
      "[CV] END max_depth=None, min_samples_leaf=4, min_samples_split=5, n_estimators=100; total time=   8.9s\n",
      "[CV] END max_depth=None, min_samples_leaf=4, min_samples_split=5, n_estimators=100; total time=   9.2s\n",
      "[CV] END max_depth=None, min_samples_leaf=4, min_samples_split=2, n_estimators=200; total time=  17.6s\n",
      "[CV] END max_depth=None, min_samples_leaf=4, min_samples_split=10, n_estimators=50; total time=   4.1s\n",
      "[CV] END max_depth=None, min_samples_leaf=4, min_samples_split=5, n_estimators=100; total time=   8.9s\n",
      "[CV] END max_depth=None, min_samples_leaf=4, min_samples_split=10, n_estimators=50; total time=   3.9s\n",
      "[CV] END max_depth=None, min_samples_leaf=4, min_samples_split=10, n_estimators=50; total time=   3.8s\n",
      "[CV] END max_depth=10, min_samples_leaf=1, min_samples_split=2, n_estimators=50; total time=   1.0s\n",
      "[CV] END max_depth=10, min_samples_leaf=1, min_samples_split=2, n_estimators=50; total time=   1.5s\n",
      "[CV] END max_depth=10, min_samples_leaf=1, min_samples_split=2, n_estimators=50; total time=   1.2s\n",
      "[CV] END max_depth=10, min_samples_leaf=1, min_samples_split=2, n_estimators=100; total time=   4.7s\n",
      "[CV] END max_depth=None, min_samples_leaf=4, min_samples_split=10, n_estimators=100; total time=  15.0s\n",
      "[CV] END max_depth=10, min_samples_leaf=1, min_samples_split=2, n_estimators=100; total time=   4.0s\n",
      "[CV] END max_depth=None, min_samples_leaf=4, min_samples_split=10, n_estimators=100; total time=  16.0s\n",
      "[CV] END max_depth=None, min_samples_leaf=4, min_samples_split=10, n_estimators=100; total time=  16.4s\n",
      "[CV] END max_depth=10, min_samples_leaf=1, min_samples_split=2, n_estimators=100; total time=   3.5s\n",
      "[CV] END max_depth=None, min_samples_leaf=4, min_samples_split=5, n_estimators=200; total time=  25.8s\n",
      "[CV] END max_depth=10, min_samples_leaf=1, min_samples_split=5, n_estimators=50; total time=   1.8s\n",
      "[CV] END max_depth=10, min_samples_leaf=1, min_samples_split=5, n_estimators=50; total time=   1.2s\n",
      "[CV] END max_depth=None, min_samples_leaf=4, min_samples_split=5, n_estimators=200; total time=  27.1s\n",
      "[CV] END max_depth=10, min_samples_leaf=1, min_samples_split=2, n_estimators=200; total time=   5.1s\n",
      "[CV] END max_depth=None, min_samples_leaf=4, min_samples_split=5, n_estimators=200; total time=  26.1s\n",
      "[CV] END max_depth=10, min_samples_leaf=1, min_samples_split=5, n_estimators=50; total time=   1.2s\n",
      "[CV] END max_depth=10, min_samples_leaf=1, min_samples_split=2, n_estimators=200; total time=   8.5s\n",
      "[CV] END max_depth=10, min_samples_leaf=1, min_samples_split=5, n_estimators=100; total time=   3.9s\n",
      "[CV] END max_depth=10, min_samples_leaf=1, min_samples_split=2, n_estimators=200; total time=   8.6s\n",
      "[CV] END max_depth=10, min_samples_leaf=1, min_samples_split=5, n_estimators=100; total time=   5.3s\n",
      "[CV] END max_depth=10, min_samples_leaf=1, min_samples_split=5, n_estimators=100; total time=   5.4s\n",
      "[CV] END max_depth=10, min_samples_leaf=1, min_samples_split=10, n_estimators=50; total time=   1.5s\n",
      "[CV] END max_depth=None, min_samples_leaf=4, min_samples_split=10, n_estimators=200; total time=  26.0s\n",
      "[CV] END max_depth=10, min_samples_leaf=1, min_samples_split=10, n_estimators=50; total time=   3.7s\n",
      "[CV] END max_depth=10, min_samples_leaf=1, min_samples_split=10, n_estimators=50; total time=   4.2s\n",
      "[CV] END max_depth=10, min_samples_leaf=1, min_samples_split=10, n_estimators=100; total time=   4.3s\n",
      "[CV] END max_depth=10, min_samples_leaf=1, min_samples_split=10, n_estimators=100; total time=   3.8s\n",
      "[CV] END max_depth=10, min_samples_leaf=1, min_samples_split=10, n_estimators=100; total time=   7.3s\n",
      "[CV] END max_depth=10, min_samples_leaf=1, min_samples_split=5, n_estimators=200; total time=  12.7s\n",
      "[CV] END max_depth=10, min_samples_leaf=2, min_samples_split=2, n_estimators=50; total time=   1.3s\n",
      "[CV] END max_depth=10, min_samples_leaf=1, min_samples_split=5, n_estimators=200; total time=  12.8s\n",
      "[CV] END max_depth=10, min_samples_leaf=2, min_samples_split=2, n_estimators=50; total time=   1.3s\n",
      "[CV] END max_depth=10, min_samples_leaf=2, min_samples_split=2, n_estimators=50; total time=   1.3s\n",
      "[CV] END max_depth=10, min_samples_leaf=1, min_samples_split=5, n_estimators=200; total time=  10.6s\n",
      "[CV] END max_depth=None, min_samples_leaf=4, min_samples_split=10, n_estimators=200; total time=  34.4s\n",
      "[CV] END max_depth=10, min_samples_leaf=2, min_samples_split=2, n_estimators=100; total time=   2.1s\n",
      "[CV] END max_depth=10, min_samples_leaf=2, min_samples_split=2, n_estimators=100; total time=   2.4s\n",
      "[CV] END max_depth=10, min_samples_leaf=1, min_samples_split=10, n_estimators=200; total time=   6.1s\n",
      "[CV] END max_depth=10, min_samples_leaf=1, min_samples_split=10, n_estimators=200; total time=   7.3s\n",
      "[CV] END max_depth=10, min_samples_leaf=1, min_samples_split=10, n_estimators=200; total time=   6.7s\n",
      "[CV] END max_depth=None, min_samples_leaf=4, min_samples_split=10, n_estimators=200; total time=  34.8s\n",
      "[CV] END max_depth=10, min_samples_leaf=2, min_samples_split=2, n_estimators=100; total time=   2.2s\n",
      "[CV] END max_depth=10, min_samples_leaf=2, min_samples_split=5, n_estimators=50; total time=   0.9s\n",
      "[CV] END max_depth=10, min_samples_leaf=2, min_samples_split=5, n_estimators=50; total time=   1.1s\n",
      "[CV] END max_depth=10, min_samples_leaf=2, min_samples_split=5, n_estimators=50; total time=   1.0s\n",
      "[CV] END max_depth=10, min_samples_leaf=2, min_samples_split=10, n_estimators=50; total time=   1.0s\n",
      "[CV] END max_depth=10, min_samples_leaf=2, min_samples_split=5, n_estimators=100; total time=   2.1s\n",
      "[CV] END max_depth=10, min_samples_leaf=2, min_samples_split=5, n_estimators=100; total time=   2.4s\n",
      "[CV] END max_depth=10, min_samples_leaf=2, min_samples_split=5, n_estimators=100; total time=   2.3s\n",
      "[CV] END max_depth=10, min_samples_leaf=2, min_samples_split=2, n_estimators=200; total time=   4.3s\n",
      "[CV] END max_depth=10, min_samples_leaf=2, min_samples_split=2, n_estimators=200; total time=   4.3s\n",
      "[CV] END max_depth=10, min_samples_leaf=2, min_samples_split=10, n_estimators=50; total time=   1.1s\n",
      "[CV] END max_depth=10, min_samples_leaf=2, min_samples_split=10, n_estimators=50; total time=   1.1s\n",
      "[CV] END max_depth=10, min_samples_leaf=2, min_samples_split=2, n_estimators=200; total time=   4.3s\n",
      "[CV] END max_depth=10, min_samples_leaf=2, min_samples_split=5, n_estimators=200; total time=   3.8s\n",
      "[CV] END max_depth=10, min_samples_leaf=4, min_samples_split=2, n_estimators=50; total time=   1.0s\n",
      "[CV] END max_depth=10, min_samples_leaf=2, min_samples_split=10, n_estimators=100; total time=   2.1s\n",
      "[CV] END max_depth=10, min_samples_leaf=2, min_samples_split=10, n_estimators=100; total time=   2.1s\n",
      "[CV] END max_depth=10, min_samples_leaf=2, min_samples_split=10, n_estimators=100; total time=   2.0s\n",
      "[CV] END max_depth=10, min_samples_leaf=2, min_samples_split=5, n_estimators=200; total time=   4.4s\n",
      "[CV] END max_depth=10, min_samples_leaf=2, min_samples_split=5, n_estimators=200; total time=   4.2s\n",
      "[CV] END max_depth=10, min_samples_leaf=4, min_samples_split=2, n_estimators=50; total time=   0.9s\n",
      "[CV] END max_depth=10, min_samples_leaf=4, min_samples_split=2, n_estimators=50; total time=   1.0s\n",
      "[CV] END max_depth=10, min_samples_leaf=4, min_samples_split=5, n_estimators=50; total time=   1.0s\n",
      "[CV] END max_depth=10, min_samples_leaf=4, min_samples_split=2, n_estimators=100; total time=   2.0s\n",
      "[CV] END max_depth=10, min_samples_leaf=4, min_samples_split=2, n_estimators=100; total time=   2.1s\n",
      "[CV] END max_depth=10, min_samples_leaf=4, min_samples_split=2, n_estimators=100; total time=   2.1s\n",
      "[CV] END max_depth=10, min_samples_leaf=2, min_samples_split=10, n_estimators=200; total time=   4.2s\n",
      "[CV] END max_depth=10, min_samples_leaf=2, min_samples_split=10, n_estimators=200; total time=   4.2s\n",
      "[CV] END max_depth=10, min_samples_leaf=4, min_samples_split=5, n_estimators=50; total time=   1.0s\n",
      "[CV] END max_depth=10, min_samples_leaf=2, min_samples_split=10, n_estimators=200; total time=   4.2s\n",
      "[CV] END max_depth=10, min_samples_leaf=4, min_samples_split=5, n_estimators=50; total time=   1.0s\n",
      "[CV] END max_depth=10, min_samples_leaf=4, min_samples_split=2, n_estimators=200; total time=   3.6s\n",
      "[CV] END max_depth=10, min_samples_leaf=4, min_samples_split=5, n_estimators=100; total time=   2.0s\n",
      "[CV] END max_depth=10, min_samples_leaf=4, min_samples_split=10, n_estimators=50; total time=   1.0s\n",
      "[CV] END max_depth=10, min_samples_leaf=4, min_samples_split=5, n_estimators=100; total time=   2.1s\n",
      "[CV] END max_depth=10, min_samples_leaf=4, min_samples_split=5, n_estimators=100; total time=   2.0s\n",
      "[CV] END max_depth=10, min_samples_leaf=4, min_samples_split=2, n_estimators=200; total time=   4.3s\n",
      "[CV] END max_depth=10, min_samples_leaf=4, min_samples_split=2, n_estimators=200; total time=   4.3s\n",
      "[CV] END max_depth=10, min_samples_leaf=4, min_samples_split=10, n_estimators=50; total time=   0.9s\n",
      "[CV] END max_depth=10, min_samples_leaf=4, min_samples_split=10, n_estimators=50; total time=   1.0s\n",
      "[CV] END max_depth=10, min_samples_leaf=4, min_samples_split=10, n_estimators=100; total time=   2.0s\n",
      "[CV] END max_depth=10, min_samples_leaf=4, min_samples_split=10, n_estimators=100; total time=   2.2s\n",
      "[CV] END max_depth=10, min_samples_leaf=4, min_samples_split=10, n_estimators=100; total time=   2.0s\n",
      "[CV] END max_depth=10, min_samples_leaf=4, min_samples_split=5, n_estimators=200; total time=   4.2s\n",
      "[CV] END max_depth=10, min_samples_leaf=4, min_samples_split=5, n_estimators=200; total time=   4.2s\n",
      "[CV] END max_depth=10, min_samples_leaf=4, min_samples_split=5, n_estimators=200; total time=   4.2s\n",
      "[CV] END max_depth=20, min_samples_leaf=1, min_samples_split=2, n_estimators=50; total time=   2.3s\n",
      "[CV] END max_depth=10, min_samples_leaf=4, min_samples_split=10, n_estimators=200; total time=   4.1s\n",
      "[CV] END max_depth=10, min_samples_leaf=4, min_samples_split=10, n_estimators=200; total time=   3.6s\n",
      "[CV] END max_depth=20, min_samples_leaf=1, min_samples_split=2, n_estimators=50; total time=   2.4s\n",
      "[CV] END max_depth=20, min_samples_leaf=1, min_samples_split=2, n_estimators=50; total time=   2.3s\n",
      "[CV] END max_depth=10, min_samples_leaf=4, min_samples_split=10, n_estimators=200; total time=   4.2s\n",
      "[CV] END max_depth=20, min_samples_leaf=1, min_samples_split=5, n_estimators=50; total time=   1.9s\n",
      "[CV] END max_depth=20, min_samples_leaf=1, min_samples_split=5, n_estimators=50; total time=   2.2s\n",
      "[CV] END max_depth=20, min_samples_leaf=1, min_samples_split=5, n_estimators=50; total time=   2.1s\n",
      "[CV] END max_depth=20, min_samples_leaf=1, min_samples_split=2, n_estimators=100; total time=   4.7s\n",
      "[CV] END max_depth=20, min_samples_leaf=1, min_samples_split=2, n_estimators=100; total time=   4.5s\n",
      "[CV] END max_depth=20, min_samples_leaf=1, min_samples_split=2, n_estimators=100; total time=   4.7s\n",
      "[CV] END max_depth=20, min_samples_leaf=1, min_samples_split=5, n_estimators=100; total time=   4.3s\n",
      "[CV] END max_depth=20, min_samples_leaf=1, min_samples_split=10, n_estimators=50; total time=   2.2s\n",
      "[CV] END max_depth=20, min_samples_leaf=1, min_samples_split=5, n_estimators=100; total time=   3.8s\n",
      "[CV] END max_depth=20, min_samples_leaf=1, min_samples_split=5, n_estimators=100; total time=   4.4s\n",
      "[CV] END max_depth=20, min_samples_leaf=1, min_samples_split=10, n_estimators=50; total time=   2.1s\n",
      "[CV] END max_depth=20, min_samples_leaf=1, min_samples_split=10, n_estimators=50; total time=   2.1s\n",
      "[CV] END max_depth=20, min_samples_leaf=1, min_samples_split=2, n_estimators=200; total time=   9.3s\n",
      "[CV] END max_depth=20, min_samples_leaf=1, min_samples_split=2, n_estimators=200; total time=   9.2s\n",
      "[CV] END max_depth=20, min_samples_leaf=1, min_samples_split=2, n_estimators=200; total time=   9.3s\n",
      "[CV] END max_depth=20, min_samples_leaf=1, min_samples_split=10, n_estimators=100; total time=   3.8s\n",
      "[CV] END max_depth=20, min_samples_leaf=1, min_samples_split=10, n_estimators=100; total time=   4.1s\n",
      "[CV] END max_depth=20, min_samples_leaf=1, min_samples_split=10, n_estimators=100; total time=   4.2s\n",
      "[CV] END max_depth=20, min_samples_leaf=1, min_samples_split=5, n_estimators=200; total time=   8.7s\n",
      "[CV] END max_depth=20, min_samples_leaf=2, min_samples_split=2, n_estimators=50; total time=   2.0s\n",
      "[CV] END max_depth=20, min_samples_leaf=2, min_samples_split=2, n_estimators=50; total time=   1.8s\n",
      "[CV] END max_depth=20, min_samples_leaf=1, min_samples_split=5, n_estimators=200; total time=   8.9s\n",
      "[CV] END max_depth=20, min_samples_leaf=1, min_samples_split=5, n_estimators=200; total time=   8.7s\n",
      "[CV] END max_depth=20, min_samples_leaf=2, min_samples_split=2, n_estimators=50; total time=   1.9s\n",
      "[CV] END max_depth=20, min_samples_leaf=2, min_samples_split=2, n_estimators=100; total time=   4.5s\n",
      "[CV] END max_depth=20, min_samples_leaf=2, min_samples_split=5, n_estimators=50; total time=   2.6s\n",
      "[CV] END max_depth=20, min_samples_leaf=2, min_samples_split=2, n_estimators=100; total time=   4.6s\n",
      "[CV] END max_depth=20, min_samples_leaf=2, min_samples_split=2, n_estimators=100; total time=   4.9s\n",
      "[CV] END max_depth=20, min_samples_leaf=1, min_samples_split=10, n_estimators=200; total time=  10.0s\n",
      "[CV] END max_depth=20, min_samples_leaf=1, min_samples_split=10, n_estimators=200; total time=  10.1s\n",
      "[CV] END max_depth=20, min_samples_leaf=1, min_samples_split=10, n_estimators=200; total time=  10.1s\n",
      "[CV] END max_depth=20, min_samples_leaf=2, min_samples_split=5, n_estimators=50; total time=   3.2s\n",
      "[CV] END max_depth=20, min_samples_leaf=2, min_samples_split=5, n_estimators=50; total time=   3.3s\n",
      "[CV] END max_depth=20, min_samples_leaf=2, min_samples_split=2, n_estimators=200; total time=   9.2s\n",
      "[CV] END max_depth=20, min_samples_leaf=2, min_samples_split=10, n_estimators=50; total time=   4.1s\n",
      "[CV] END max_depth=20, min_samples_leaf=2, min_samples_split=5, n_estimators=100; total time=   7.5s\n",
      "[CV] END max_depth=20, min_samples_leaf=2, min_samples_split=5, n_estimators=100; total time=   7.0s\n",
      "[CV] END max_depth=20, min_samples_leaf=2, min_samples_split=10, n_estimators=50; total time=   2.7s\n",
      "[CV] END max_depth=20, min_samples_leaf=2, min_samples_split=2, n_estimators=200; total time=  11.9s\n",
      "[CV] END max_depth=20, min_samples_leaf=2, min_samples_split=2, n_estimators=200; total time=  12.1s\n",
      "[CV] END max_depth=20, min_samples_leaf=2, min_samples_split=5, n_estimators=100; total time=   6.6s\n",
      "[CV] END max_depth=20, min_samples_leaf=2, min_samples_split=10, n_estimators=50; total time=   2.2s\n",
      "[CV] END max_depth=20, min_samples_leaf=2, min_samples_split=10, n_estimators=100; total time=   3.6s\n",
      "[CV] END max_depth=20, min_samples_leaf=4, min_samples_split=2, n_estimators=50; total time=   2.1s\n",
      "[CV] END max_depth=20, min_samples_leaf=2, min_samples_split=10, n_estimators=100; total time=   4.2s\n",
      "[CV] END max_depth=20, min_samples_leaf=2, min_samples_split=10, n_estimators=100; total time=   4.3s\n",
      "[CV] END max_depth=20, min_samples_leaf=2, min_samples_split=5, n_estimators=200; total time=  10.8s\n",
      "[CV] END max_depth=20, min_samples_leaf=4, min_samples_split=2, n_estimators=50; total time=   1.7s\n",
      "[CV] END max_depth=20, min_samples_leaf=2, min_samples_split=5, n_estimators=200; total time=  10.8s\n",
      "[CV] END max_depth=20, min_samples_leaf=4, min_samples_split=2, n_estimators=50; total time=   2.0s\n",
      "[CV] END max_depth=20, min_samples_leaf=2, min_samples_split=5, n_estimators=200; total time=  10.6s\n",
      "[CV] END max_depth=20, min_samples_leaf=4, min_samples_split=5, n_estimators=50; total time=   1.9s\n",
      "[CV] END max_depth=20, min_samples_leaf=4, min_samples_split=2, n_estimators=100; total time=   3.9s\n",
      "[CV] END max_depth=20, min_samples_leaf=4, min_samples_split=2, n_estimators=100; total time=   3.9s\n",
      "[CV] END max_depth=20, min_samples_leaf=2, min_samples_split=10, n_estimators=200; total time=   8.2s\n",
      "[CV] END max_depth=20, min_samples_leaf=2, min_samples_split=10, n_estimators=200; total time=   8.2s\n",
      "[CV] END max_depth=20, min_samples_leaf=2, min_samples_split=10, n_estimators=200; total time=   8.0s\n",
      "[CV] END max_depth=20, min_samples_leaf=4, min_samples_split=2, n_estimators=100; total time=   3.7s\n",
      "[CV] END max_depth=20, min_samples_leaf=4, min_samples_split=5, n_estimators=50; total time=   1.8s\n",
      "[CV] END max_depth=20, min_samples_leaf=4, min_samples_split=5, n_estimators=50; total time=   2.0s\n",
      "[CV] END max_depth=20, min_samples_leaf=4, min_samples_split=10, n_estimators=50; total time=   1.9s\n",
      "[CV] END max_depth=20, min_samples_leaf=4, min_samples_split=5, n_estimators=100; total time=   3.7s\n",
      "[CV] END max_depth=20, min_samples_leaf=4, min_samples_split=2, n_estimators=200; total time=   6.7s\n",
      "[CV] END max_depth=20, min_samples_leaf=4, min_samples_split=5, n_estimators=100; total time=   3.8s\n",
      "[CV] END max_depth=20, min_samples_leaf=4, min_samples_split=5, n_estimators=100; total time=   3.9s\n",
      "[CV] END max_depth=20, min_samples_leaf=4, min_samples_split=2, n_estimators=200; total time=   7.4s\n",
      "[CV] END max_depth=20, min_samples_leaf=4, min_samples_split=2, n_estimators=200; total time=   7.7s\n",
      "[CV] END max_depth=20, min_samples_leaf=4, min_samples_split=10, n_estimators=50; total time=   1.9s\n",
      "[CV] END max_depth=20, min_samples_leaf=4, min_samples_split=10, n_estimators=50; total time=   1.8s\n",
      "[CV] END max_depth=20, min_samples_leaf=4, min_samples_split=10, n_estimators=100; total time=   3.3s\n",
      "[CV] END max_depth=20, min_samples_leaf=4, min_samples_split=10, n_estimators=100; total time=   3.5s\n",
      "[CV] END max_depth=20, min_samples_leaf=4, min_samples_split=10, n_estimators=100; total time=   3.5s\n",
      "[CV] END max_depth=20, min_samples_leaf=4, min_samples_split=5, n_estimators=200; total time=   7.3s\n",
      "[CV] END max_depth=20, min_samples_leaf=4, min_samples_split=5, n_estimators=200; total time=   7.3s\n",
      "[CV] END max_depth=20, min_samples_leaf=4, min_samples_split=5, n_estimators=200; total time=   7.0s\n",
      "[CV] END max_depth=20, min_samples_leaf=4, min_samples_split=10, n_estimators=200; total time=   6.8s\n",
      "[CV] END max_depth=20, min_samples_leaf=4, min_samples_split=10, n_estimators=200; total time=   6.7s\n",
      "[CV] END max_depth=20, min_samples_leaf=4, min_samples_split=10, n_estimators=200; total time=   6.6s\n",
      "Best Parameters: {'max_depth': None, 'min_samples_leaf': 1, 'min_samples_split': 10, 'n_estimators': 200}\n",
      "Accuracy: 0.6992230854605993\n"
     ]
    }
   ],
   "source": [
    "# Define the parameter grid for GridSearchCV\n",
    "param_grid = {\n",
    "    'n_estimators': [50, 100, 200],\n",
    "    'max_depth': [None, 10, 20],\n",
    "    'min_samples_split': [2, 5, 10],\n",
    "    'min_samples_leaf': [1, 2, 4]\n",
    "}\n",
    "\n",
    "# Initialize the RandomForestClassifier\n",
    "rf_classifier = RandomForestClassifier(random_state=42)\n",
    "\n",
    "# Create GridSearchCV instance\n",
    "grid_search = GridSearchCV(estimator=rf_classifier, param_grid=param_grid, cv=3, n_jobs=-1, verbose=2)\n",
    "\n",
    "# Perform grid search\n",
    "grid_search.fit(X_train_vec, y_train)\n",
    "\n",
    "# Get the best estimator from the grid search\n",
    "best_rf = grid_search.best_estimator_\n",
    "\n",
    "# Make predictions using the best estimator\n",
    "y_pred = best_rf.predict(X_test_vec)\n",
    "\n",
    "# Calculate accuracy\n",
    "accuracy = accuracy_score(y_test, y_pred)\n",
    "print(\"Best Parameters:\", grid_search.best_params_)\n",
    "print(\"Accuracy:\", accuracy)\n"
   ]
  },
  {
   "cell_type": "code",
   "execution_count": null,
   "metadata": {},
   "outputs": [],
   "source": []
  },
  {
   "cell_type": "markdown",
   "metadata": {},
   "source": [
    "### Roberta Model\n",
    "\n",
    "Utilizing the Roberta tokenization and model for sentiment analysis on tweets represents a sophisticated and cutting-edge approach to understanding the emotions and opinions embedded within social media discourse. This fusion of advanced language representation and sentiment analysis techniques brings about a new dimension of accuracy and contextual understanding in deciphering sentiment from the complex and varied structure of tweets.\n",
    "\n",
    "Roberta, a variant of the transformer architecture, stands out as a prominent language model due to its exceptional ability to capture intricate contextual relationships within text. Tokenization in the context of Roberta involves dividing text into smaller units, or tokens, while retaining the richness of information present in the text. This technique allows Roberta to understand the nuanced semantics, sentence structure, and syntactical nuances that are particularly crucial when dealing with tweets, known for their brevity, slang, and informal language.\n",
    "\n",
    "As seen in the result, I have achieved an 84.71% accuracy, using the base Roberta model. However, I'm not done yet, as I believe I can still make it better by fine-tuning the model."
   ]
  },
  {
   "cell_type": "code",
   "execution_count": 50,
   "metadata": {},
   "outputs": [],
   "source": [
    "# Load pre-trained RoBERTa model and tokenizer\n",
    "model_name = \"cardiffnlp/twitter-roberta-base-sentiment\"  # You can choose a different variant if needed\n",
    "tokenizer = AutoTokenizer.from_pretrained(model_name)\n",
    "model = AutoModelForSequenceClassification.from_pretrained(model_name)"
   ]
  },
  {
   "cell_type": "code",
   "execution_count": 21,
   "metadata": {},
   "outputs": [],
   "source": [
    "def polarity_scores_roberta(Input):\n",
    "    # Tokenize the input text using the tokenizer\n",
    "    encoded_text = tokenizer(Input, return_tensors='pt')\n",
    "    # Pass the tokenized input to the model and get the output\n",
    "    output = model(**encoded_text)\n",
    "    # Extract the scores from the output and convert it to a NumPy array\n",
    "    scores = output[0][0].detach().numpy()\n",
    "    # Apply softmax on the scores to normalize them\n",
    "    scores = softmax(scores)\n",
    "    # Return the normalized scores\n",
    "    return scores"
   ]
  },
  {
   "cell_type": "code",
   "execution_count": 22,
   "metadata": {},
   "outputs": [
    {
     "data": {
      "application/vnd.jupyter.widget-view+json": {
       "model_id": "cd1bb3a680134c4f8187ae204de368ca",
       "version_major": 2,
       "version_minor": 0
      },
      "text/plain": [
       "  0%|          | 0/22524 [00:00<?, ?it/s]"
      ]
     },
     "metadata": {},
     "output_type": "display_data"
    }
   ],
   "source": [
    "res = []\n",
    "for i, row in tqdm(df.iterrows(), total=len(df)): \n",
    "  text= row['Tweet']\n",
    "  res.append(polarity_scores_roberta(text))"
   ]
  },
  {
   "cell_type": "code",
   "execution_count": 23,
   "metadata": {},
   "outputs": [],
   "source": [
    "roberta = []\n",
    "\n",
    "for i in range(len(res)):\n",
    "  argmax = np.argmax(res[i])\n",
    "  if argmax == 0:\n",
    "    roberta.append('negative')\n",
    "  elif argmax == 1:\n",
    "    roberta.append('neutral')\n",
    "  else:\n",
    "    roberta.append('positive')\n",
    "df['Roberta'] = roberta"
   ]
  },
  {
   "cell_type": "code",
   "execution_count": 44,
   "metadata": {},
   "outputs": [
    {
     "data": {
      "text/html": [
       "<div>\n",
       "<style scoped>\n",
       "    .dataframe tbody tr th:only-of-type {\n",
       "        vertical-align: middle;\n",
       "    }\n",
       "\n",
       "    .dataframe tbody tr th {\n",
       "        vertical-align: top;\n",
       "    }\n",
       "\n",
       "    .dataframe thead th {\n",
       "        text-align: right;\n",
       "    }\n",
       "</style>\n",
       "<table border=\"1\" class=\"dataframe\">\n",
       "  <thead>\n",
       "    <tr style=\"text-align: right;\">\n",
       "      <th></th>\n",
       "      <th>Date Created</th>\n",
       "      <th>Number of Likes</th>\n",
       "      <th>Source of Tweet</th>\n",
       "      <th>Tweet</th>\n",
       "      <th>Sentiment</th>\n",
       "      <th>preprocessed_tweet</th>\n",
       "      <th>vader_sentiment</th>\n",
       "      <th>Roberta</th>\n",
       "      <th>Sentiment_Num</th>\n",
       "    </tr>\n",
       "  </thead>\n",
       "  <tbody>\n",
       "    <tr>\n",
       "      <th>0</th>\n",
       "      <td>2022-11-20 23:59:21+00:00</td>\n",
       "      <td>4</td>\n",
       "      <td>Twitter Web App</td>\n",
       "      <td>What are we drinking today @TucanTribe \\n@MadB...</td>\n",
       "      <td>Neutral</td>\n",
       "      <td>drinking today worldcup</td>\n",
       "      <td>Neutral</td>\n",
       "      <td>Neutral</td>\n",
       "      <td>1</td>\n",
       "    </tr>\n",
       "    <tr>\n",
       "      <th>1</th>\n",
       "      <td>2022-11-20 23:59:01+00:00</td>\n",
       "      <td>3</td>\n",
       "      <td>Twitter for iPhone</td>\n",
       "      <td>Amazing @CanadaSoccerEN  #WorldCup2022 launch ...</td>\n",
       "      <td>Positive</td>\n",
       "      <td>amazing worldcup launch video shows much face ...</td>\n",
       "      <td>Positive</td>\n",
       "      <td>Positive</td>\n",
       "      <td>2</td>\n",
       "    </tr>\n",
       "    <tr>\n",
       "      <th>2</th>\n",
       "      <td>2022-11-20 23:58:41+00:00</td>\n",
       "      <td>1</td>\n",
       "      <td>Twitter for iPhone</td>\n",
       "      <td>Worth reading while watching #WorldCup2022 htt...</td>\n",
       "      <td>Positive</td>\n",
       "      <td>worth reading watching worldcup</td>\n",
       "      <td>Positive</td>\n",
       "      <td>Neutral</td>\n",
       "      <td>2</td>\n",
       "    </tr>\n",
       "    <tr>\n",
       "      <th>3</th>\n",
       "      <td>2022-11-20 23:58:33+00:00</td>\n",
       "      <td>1</td>\n",
       "      <td>Twitter Web App</td>\n",
       "      <td>Golden Maknae shinning bright\\n\\nhttps://t.co/...</td>\n",
       "      <td>Positive</td>\n",
       "      <td>golden maknae shinning bright jeonjungkook jun...</td>\n",
       "      <td>Positive</td>\n",
       "      <td>Positive</td>\n",
       "      <td>2</td>\n",
       "    </tr>\n",
       "    <tr>\n",
       "      <th>4</th>\n",
       "      <td>2022-11-20 23:58:28+00:00</td>\n",
       "      <td>0</td>\n",
       "      <td>Twitter for Android</td>\n",
       "      <td>If the BBC cares so much about human rights, h...</td>\n",
       "      <td>Negative</td>\n",
       "      <td>bbc cares much human rights homosexual rights ...</td>\n",
       "      <td>Neutral</td>\n",
       "      <td>Negative</td>\n",
       "      <td>0</td>\n",
       "    </tr>\n",
       "  </tbody>\n",
       "</table>\n",
       "</div>"
      ],
      "text/plain": [
       "                Date Created  Number of Likes      Source of Tweet  \\\n",
       "0  2022-11-20 23:59:21+00:00                4      Twitter Web App   \n",
       "1  2022-11-20 23:59:01+00:00                3   Twitter for iPhone   \n",
       "2  2022-11-20 23:58:41+00:00                1   Twitter for iPhone   \n",
       "3  2022-11-20 23:58:33+00:00                1      Twitter Web App   \n",
       "4  2022-11-20 23:58:28+00:00                0  Twitter for Android   \n",
       "\n",
       "                                               Tweet Sentiment  \\\n",
       "0  What are we drinking today @TucanTribe \\n@MadB...   Neutral   \n",
       "1  Amazing @CanadaSoccerEN  #WorldCup2022 launch ...  Positive   \n",
       "2  Worth reading while watching #WorldCup2022 htt...  Positive   \n",
       "3  Golden Maknae shinning bright\\n\\nhttps://t.co/...  Positive   \n",
       "4  If the BBC cares so much about human rights, h...  Negative   \n",
       "\n",
       "                                  preprocessed_tweet vader_sentiment  \\\n",
       "0                            drinking today worldcup         Neutral   \n",
       "1  amazing worldcup launch video shows much face ...        Positive   \n",
       "2                    worth reading watching worldcup        Positive   \n",
       "3  golden maknae shinning bright jeonjungkook jun...        Positive   \n",
       "4  bbc cares much human rights homosexual rights ...         Neutral   \n",
       "\n",
       "    Roberta  Sentiment_Num  \n",
       "0   Neutral              1  \n",
       "1  Positive              2  \n",
       "2   Neutral              2  \n",
       "3  Positive              2  \n",
       "4  Negative              0  "
      ]
     },
     "execution_count": 44,
     "metadata": {},
     "output_type": "execute_result"
    }
   ],
   "source": [
    "df.head()"
   ]
  },
  {
   "cell_type": "code",
   "execution_count": 25,
   "metadata": {},
   "outputs": [
    {
     "name": "stdout",
     "output_type": "stream",
     "text": [
      "Accuracy: 84.71%\n"
     ]
    }
   ],
   "source": [
    "df['Roberta'] = df.Roberta.str.title()\n",
    "\n",
    "# Calculate the accuracy\n",
    "correct_predictions = (df['Roberta'] == df['Sentiment']).sum()\n",
    "total_predictions = len(df)\n",
    "accuracy = correct_predictions / total_predictions * 100\n",
    "\n",
    "print(\"Accuracy: {:.2f}%\".format(accuracy))"
   ]
  },
  {
   "cell_type": "markdown",
   "metadata": {},
   "source": [
    "### Finetune Roberta Model with Train Test Split\n",
    "\n",
    "Fine-tuning the Roberta tokenization and model for sentiment analysis on tweets represents a strategic approach that harnesses the power of pre-trained language models while tailoring them to the specific nuances and dynamics of sentiment expression within social media discourse. This process amalgamates the inherent capabilities of the Roberta model with the contextual understanding required for accurate sentiment classification in the unique landscape of tweets. The act of fine-tuning involves exposing the model to sentiment-labeled tweet data and allowing it to adjust its internal weights to align more closely with the sentiment patterns observed in the data.\n",
    "\n",
    "The strategy of fine-tuning the Roberta tokenization and model for sentiment analysis on tweets brings the best of both worlds: the foundational understanding of a pre-trained model and the customization needed for accurate sentiment analysis in the unique landscape of Twitter. By aligning the model's language comprehension with the sentiment expressions specific to the FIFA World Cup 2022, stakeholders gain a highly accurate and contextually nuanced tool to extract deep insights from the sentiment dynamics within the world of social media conversations.\n",
    "\n",
    "In this section, I've adjusted the learning rate, batch size and epochs. All of this yielded us an accuracy of 91% when we do a train-test split."
   ]
  },
  {
   "cell_type": "code",
   "execution_count": 26,
   "metadata": {},
   "outputs": [
    {
     "data": {
      "application/vnd.jupyter.widget-view+json": {
       "model_id": "60cca59a0abb4bda8daca63f54246562",
       "version_major": 2,
       "version_minor": 0
      },
      "text/plain": [
       "  0%|          | 0/3381 [00:00<?, ?it/s]"
      ]
     },
     "metadata": {},
     "output_type": "display_data"
    },
    {
     "name": "stdout",
     "output_type": "stream",
     "text": [
      "{'loss': 1.8699, 'learning_rate': 9.970422951789412e-06, 'epoch': 0.01}\n",
      "{'loss': 1.1963, 'learning_rate': 9.940845903578823e-06, 'epoch': 0.02}\n",
      "{'loss': 1.0857, 'learning_rate': 9.911268855368235e-06, 'epoch': 0.03}\n",
      "{'loss': 1.0505, 'learning_rate': 9.881691807157646e-06, 'epoch': 0.04}\n",
      "{'loss': 1.034, 'learning_rate': 9.852114758947057e-06, 'epoch': 0.04}\n",
      "{'loss': 0.8835, 'learning_rate': 9.82253771073647e-06, 'epoch': 0.05}\n",
      "{'loss': 0.6444, 'learning_rate': 9.792960662525881e-06, 'epoch': 0.06}\n",
      "{'loss': 0.4698, 'learning_rate': 9.763383614315292e-06, 'epoch': 0.07}\n",
      "{'loss': 0.4269, 'learning_rate': 9.733806566104704e-06, 'epoch': 0.08}\n",
      "{'loss': 0.488, 'learning_rate': 9.704229517894115e-06, 'epoch': 0.09}\n"
     ]
    },
    {
     "data": {
      "application/vnd.jupyter.widget-view+json": {
       "model_id": "a6e35da243384a73b6e9ece54f529ab4",
       "version_major": 2,
       "version_minor": 0
      },
      "text/plain": [
       "  0%|          | 0/282 [00:00<?, ?it/s]"
      ]
     },
     "metadata": {},
     "output_type": "display_data"
    },
    {
     "name": "stdout",
     "output_type": "stream",
     "text": [
      "{'eval_loss': 0.35239383578300476, 'eval_runtime': 37.6317, 'eval_samples_per_second': 119.713, 'eval_steps_per_second': 7.494, 'epoch': 0.09}\n",
      "{'loss': 0.4297, 'learning_rate': 9.674652469683526e-06, 'epoch': 0.1}\n",
      "{'loss': 0.4821, 'learning_rate': 9.645075421472937e-06, 'epoch': 0.11}\n",
      "{'loss': 0.4021, 'learning_rate': 9.61549837326235e-06, 'epoch': 0.12}\n",
      "{'loss': 0.3494, 'learning_rate': 9.58592132505176e-06, 'epoch': 0.12}\n",
      "{'loss': 0.4666, 'learning_rate': 9.556344276841171e-06, 'epoch': 0.13}\n",
      "{'loss': 0.3071, 'learning_rate': 9.526767228630584e-06, 'epoch': 0.14}\n",
      "{'loss': 0.2821, 'learning_rate': 9.497190180419995e-06, 'epoch': 0.15}\n",
      "{'loss': 0.3627, 'learning_rate': 9.467613132209406e-06, 'epoch': 0.16}\n",
      "{'loss': 0.445, 'learning_rate': 9.438036083998818e-06, 'epoch': 0.17}\n",
      "{'loss': 0.4368, 'learning_rate': 9.408459035788229e-06, 'epoch': 0.18}\n"
     ]
    },
    {
     "data": {
      "application/vnd.jupyter.widget-view+json": {
       "model_id": "8528f026e1a1429aacf6357c783afdef",
       "version_major": 2,
       "version_minor": 0
      },
      "text/plain": [
       "  0%|          | 0/282 [00:00<?, ?it/s]"
      ]
     },
     "metadata": {},
     "output_type": "display_data"
    },
    {
     "name": "stdout",
     "output_type": "stream",
     "text": [
      "{'eval_loss': 0.31992247700691223, 'eval_runtime': 39.6975, 'eval_samples_per_second': 113.483, 'eval_steps_per_second': 7.104, 'epoch': 0.18}\n",
      "{'loss': 0.4793, 'learning_rate': 9.37888198757764e-06, 'epoch': 0.19}\n",
      "{'loss': 0.242, 'learning_rate': 9.349304939367051e-06, 'epoch': 0.2}\n",
      "{'loss': 0.3583, 'learning_rate': 9.319727891156464e-06, 'epoch': 0.2}\n",
      "{'loss': 0.3363, 'learning_rate': 9.290150842945874e-06, 'epoch': 0.21}\n",
      "{'loss': 0.4121, 'learning_rate': 9.260573794735285e-06, 'epoch': 0.22}\n",
      "{'loss': 0.4229, 'learning_rate': 9.230996746524698e-06, 'epoch': 0.23}\n",
      "{'loss': 0.3436, 'learning_rate': 9.20141969831411e-06, 'epoch': 0.24}\n",
      "{'loss': 0.3606, 'learning_rate': 9.17184265010352e-06, 'epoch': 0.25}\n",
      "{'loss': 0.3871, 'learning_rate': 9.142265601892932e-06, 'epoch': 0.26}\n",
      "{'loss': 0.3282, 'learning_rate': 9.112688553682343e-06, 'epoch': 0.27}\n"
     ]
    },
    {
     "data": {
      "application/vnd.jupyter.widget-view+json": {
       "model_id": "cd7981679744435d8e2b3ef06824bdeb",
       "version_major": 2,
       "version_minor": 0
      },
      "text/plain": [
       "  0%|          | 0/282 [00:00<?, ?it/s]"
      ]
     },
     "metadata": {},
     "output_type": "display_data"
    },
    {
     "name": "stdout",
     "output_type": "stream",
     "text": [
      "{'eval_loss': 0.2718265652656555, 'eval_runtime': 37.577, 'eval_samples_per_second': 119.887, 'eval_steps_per_second': 7.505, 'epoch': 0.27}\n",
      "{'loss': 0.2453, 'learning_rate': 9.083111505471754e-06, 'epoch': 0.28}\n",
      "{'loss': 0.3649, 'learning_rate': 9.053534457261165e-06, 'epoch': 0.28}\n",
      "{'loss': 0.3786, 'learning_rate': 9.023957409050578e-06, 'epoch': 0.29}\n",
      "{'loss': 0.2963, 'learning_rate': 8.99438036083999e-06, 'epoch': 0.3}\n",
      "{'loss': 0.4345, 'learning_rate': 8.964803312629399e-06, 'epoch': 0.31}\n",
      "{'loss': 0.3087, 'learning_rate': 8.935226264418812e-06, 'epoch': 0.32}\n",
      "{'loss': 0.3736, 'learning_rate': 8.905649216208223e-06, 'epoch': 0.33}\n",
      "{'loss': 0.2815, 'learning_rate': 8.876072167997635e-06, 'epoch': 0.34}\n",
      "{'loss': 0.3659, 'learning_rate': 8.846495119787046e-06, 'epoch': 0.35}\n",
      "{'loss': 0.2659, 'learning_rate': 8.816918071576457e-06, 'epoch': 0.35}\n"
     ]
    },
    {
     "data": {
      "application/vnd.jupyter.widget-view+json": {
       "model_id": "70da2cbad8d14cb6ac7faf6dab732c51",
       "version_major": 2,
       "version_minor": 0
      },
      "text/plain": [
       "  0%|          | 0/282 [00:00<?, ?it/s]"
      ]
     },
     "metadata": {},
     "output_type": "display_data"
    },
    {
     "name": "stdout",
     "output_type": "stream",
     "text": [
      "{'eval_loss': 0.2742076814174652, 'eval_runtime': 38.1847, 'eval_samples_per_second': 117.979, 'eval_steps_per_second': 7.385, 'epoch': 0.35}\n",
      "{'loss': 0.2535, 'learning_rate': 8.787341023365868e-06, 'epoch': 0.36}\n",
      "{'loss': 0.4053, 'learning_rate': 8.75776397515528e-06, 'epoch': 0.37}\n",
      "{'loss': 0.2634, 'learning_rate': 8.728186926944692e-06, 'epoch': 0.38}\n",
      "{'loss': 0.4383, 'learning_rate': 8.698609878734104e-06, 'epoch': 0.39}\n",
      "{'loss': 0.4007, 'learning_rate': 8.669032830523515e-06, 'epoch': 0.4}\n",
      "{'loss': 0.3185, 'learning_rate': 8.639455782312926e-06, 'epoch': 0.41}\n",
      "{'loss': 0.4429, 'learning_rate': 8.609878734102337e-06, 'epoch': 0.42}\n",
      "{'loss': 0.3312, 'learning_rate': 8.580301685891749e-06, 'epoch': 0.43}\n",
      "{'loss': 0.2442, 'learning_rate': 8.55072463768116e-06, 'epoch': 0.43}\n",
      "{'loss': 0.3081, 'learning_rate': 8.521147589470573e-06, 'epoch': 0.44}\n"
     ]
    },
    {
     "data": {
      "application/vnd.jupyter.widget-view+json": {
       "model_id": "3be448a414ce4e299723b51b7c42812d",
       "version_major": 2,
       "version_minor": 0
      },
      "text/plain": [
       "  0%|          | 0/282 [00:00<?, ?it/s]"
      ]
     },
     "metadata": {},
     "output_type": "display_data"
    },
    {
     "name": "stdout",
     "output_type": "stream",
     "text": [
      "{'eval_loss': 0.27865880727767944, 'eval_runtime': 38.7089, 'eval_samples_per_second': 116.382, 'eval_steps_per_second': 7.285, 'epoch': 0.44}\n",
      "{'loss': 0.3733, 'learning_rate': 8.491570541259982e-06, 'epoch': 0.45}\n",
      "{'loss': 0.3972, 'learning_rate': 8.461993493049394e-06, 'epoch': 0.46}\n",
      "{'loss': 0.2864, 'learning_rate': 8.432416444838806e-06, 'epoch': 0.47}\n",
      "{'loss': 0.2797, 'learning_rate': 8.402839396628218e-06, 'epoch': 0.48}\n",
      "{'loss': 0.2376, 'learning_rate': 8.373262348417629e-06, 'epoch': 0.49}\n",
      "{'loss': 0.2879, 'learning_rate': 8.34368530020704e-06, 'epoch': 0.5}\n",
      "{'loss': 0.2531, 'learning_rate': 8.314108251996451e-06, 'epoch': 0.51}\n",
      "{'loss': 0.3447, 'learning_rate': 8.284531203785863e-06, 'epoch': 0.51}\n",
      "{'loss': 0.2411, 'learning_rate': 8.254954155575274e-06, 'epoch': 0.52}\n",
      "{'loss': 0.3178, 'learning_rate': 8.225377107364687e-06, 'epoch': 0.53}\n"
     ]
    },
    {
     "data": {
      "application/vnd.jupyter.widget-view+json": {
       "model_id": "97e225aee11d4606998db1877d4feb2a",
       "version_major": 2,
       "version_minor": 0
      },
      "text/plain": [
       "  0%|          | 0/282 [00:00<?, ?it/s]"
      ]
     },
     "metadata": {},
     "output_type": "display_data"
    },
    {
     "name": "stdout",
     "output_type": "stream",
     "text": [
      "{'eval_loss': 0.3051053583621979, 'eval_runtime': 38.7363, 'eval_samples_per_second': 116.299, 'eval_steps_per_second': 7.28, 'epoch': 0.53}\n",
      "{'loss': 0.264, 'learning_rate': 8.195800059154098e-06, 'epoch': 0.54}\n",
      "{'loss': 0.3482, 'learning_rate': 8.166223010943508e-06, 'epoch': 0.55}\n",
      "{'loss': 0.3242, 'learning_rate': 8.13664596273292e-06, 'epoch': 0.56}\n",
      "{'loss': 0.3878, 'learning_rate': 8.107068914522332e-06, 'epoch': 0.57}\n",
      "{'loss': 0.2435, 'learning_rate': 8.077491866311743e-06, 'epoch': 0.58}\n",
      "{'loss': 0.3774, 'learning_rate': 8.047914818101154e-06, 'epoch': 0.59}\n",
      "{'loss': 0.2998, 'learning_rate': 8.018337769890565e-06, 'epoch': 0.59}\n",
      "{'loss': 0.391, 'learning_rate': 7.988760721679977e-06, 'epoch': 0.6}\n",
      "{'loss': 0.3321, 'learning_rate': 7.959183673469388e-06, 'epoch': 0.61}\n",
      "{'loss': 0.3397, 'learning_rate': 7.9296066252588e-06, 'epoch': 0.62}\n"
     ]
    },
    {
     "data": {
      "application/vnd.jupyter.widget-view+json": {
       "model_id": "6153bd6d4325482091ff8a7862e7dc4a",
       "version_major": 2,
       "version_minor": 0
      },
      "text/plain": [
       "  0%|          | 0/282 [00:00<?, ?it/s]"
      ]
     },
     "metadata": {},
     "output_type": "display_data"
    },
    {
     "name": "stdout",
     "output_type": "stream",
     "text": [
      "{'eval_loss': 0.2628634572029114, 'eval_runtime': 37.8251, 'eval_samples_per_second': 119.101, 'eval_steps_per_second': 7.455, 'epoch': 0.62}\n",
      "{'loss': 0.2842, 'learning_rate': 7.900029577048212e-06, 'epoch': 0.63}\n",
      "{'loss': 0.3582, 'learning_rate': 7.870452528837622e-06, 'epoch': 0.64}\n",
      "{'loss': 0.2414, 'learning_rate': 7.840875480627035e-06, 'epoch': 0.65}\n",
      "{'loss': 0.3457, 'learning_rate': 7.811298432416446e-06, 'epoch': 0.66}\n",
      "{'loss': 0.3204, 'learning_rate': 7.781721384205857e-06, 'epoch': 0.67}\n",
      "{'loss': 0.3237, 'learning_rate': 7.752144335995268e-06, 'epoch': 0.67}\n",
      "{'loss': 0.3273, 'learning_rate': 7.72256728778468e-06, 'epoch': 0.68}\n",
      "{'loss': 0.3779, 'learning_rate': 7.69299023957409e-06, 'epoch': 0.69}\n",
      "{'loss': 0.2402, 'learning_rate': 7.663413191363502e-06, 'epoch': 0.7}\n",
      "{'loss': 0.2883, 'learning_rate': 7.633836143152913e-06, 'epoch': 0.71}\n"
     ]
    },
    {
     "data": {
      "application/vnd.jupyter.widget-view+json": {
       "model_id": "883d23f3f4d6474dbbe22f4999b0e744",
       "version_major": 2,
       "version_minor": 0
      },
      "text/plain": [
       "  0%|          | 0/282 [00:00<?, ?it/s]"
      ]
     },
     "metadata": {},
     "output_type": "display_data"
    },
    {
     "name": "stdout",
     "output_type": "stream",
     "text": [
      "{'eval_loss': 0.2557736039161682, 'eval_runtime': 37.1651, 'eval_samples_per_second': 121.216, 'eval_steps_per_second': 7.588, 'epoch': 0.71}\n",
      "{'loss': 0.3437, 'learning_rate': 7.604259094942325e-06, 'epoch': 0.72}\n",
      "{'loss': 0.166, 'learning_rate': 7.574682046731737e-06, 'epoch': 0.73}\n",
      "{'loss': 0.2501, 'learning_rate': 7.545104998521148e-06, 'epoch': 0.74}\n",
      "{'loss': 0.2254, 'learning_rate': 7.515527950310559e-06, 'epoch': 0.75}\n",
      "{'loss': 0.4241, 'learning_rate': 7.485950902099971e-06, 'epoch': 0.75}\n",
      "{'loss': 0.314, 'learning_rate': 7.456373853889382e-06, 'epoch': 0.76}\n",
      "{'loss': 0.242, 'learning_rate': 7.426796805678794e-06, 'epoch': 0.77}\n",
      "{'loss': 0.2143, 'learning_rate': 7.397219757468205e-06, 'epoch': 0.78}\n",
      "{'loss': 0.2813, 'learning_rate': 7.367642709257616e-06, 'epoch': 0.79}\n",
      "{'loss': 0.3342, 'learning_rate': 7.338065661047028e-06, 'epoch': 0.8}\n"
     ]
    },
    {
     "data": {
      "application/vnd.jupyter.widget-view+json": {
       "model_id": "0b44973d3e574693a75491bf6a2c0464",
       "version_major": 2,
       "version_minor": 0
      },
      "text/plain": [
       "  0%|          | 0/282 [00:00<?, ?it/s]"
      ]
     },
     "metadata": {},
     "output_type": "display_data"
    },
    {
     "name": "stdout",
     "output_type": "stream",
     "text": [
      "{'eval_loss': 0.2596639096736908, 'eval_runtime': 37.3226, 'eval_samples_per_second': 120.704, 'eval_steps_per_second': 7.556, 'epoch': 0.8}\n",
      "{'loss': 0.4161, 'learning_rate': 7.308488612836439e-06, 'epoch': 0.81}\n",
      "{'loss': 0.3591, 'learning_rate': 7.278911564625851e-06, 'epoch': 0.82}\n",
      "{'loss': 0.2791, 'learning_rate': 7.249334516415263e-06, 'epoch': 0.83}\n",
      "{'loss': 0.2331, 'learning_rate': 7.219757468204673e-06, 'epoch': 0.83}\n",
      "{'loss': 0.2337, 'learning_rate': 7.190180419994085e-06, 'epoch': 0.84}\n",
      "{'loss': 0.2952, 'learning_rate': 7.160603371783496e-06, 'epoch': 0.85}\n",
      "{'loss': 0.3227, 'learning_rate': 7.131026323572908e-06, 'epoch': 0.86}\n",
      "{'loss': 0.2374, 'learning_rate': 7.10144927536232e-06, 'epoch': 0.87}\n",
      "{'loss': 0.1978, 'learning_rate': 7.07187222715173e-06, 'epoch': 0.88}\n",
      "{'loss': 0.2847, 'learning_rate': 7.042295178941142e-06, 'epoch': 0.89}\n"
     ]
    },
    {
     "data": {
      "application/vnd.jupyter.widget-view+json": {
       "model_id": "ddb576b8ee2d4121acfa126c2b33ed31",
       "version_major": 2,
       "version_minor": 0
      },
      "text/plain": [
       "  0%|          | 0/282 [00:00<?, ?it/s]"
      ]
     },
     "metadata": {},
     "output_type": "display_data"
    },
    {
     "name": "stdout",
     "output_type": "stream",
     "text": [
      "{'eval_loss': 0.26624682545661926, 'eval_runtime': 37.421, 'eval_samples_per_second': 120.387, 'eval_steps_per_second': 7.536, 'epoch': 0.89}\n",
      "{'loss': 0.2706, 'learning_rate': 7.012718130730553e-06, 'epoch': 0.9}\n",
      "{'loss': 0.3131, 'learning_rate': 6.983141082519965e-06, 'epoch': 0.91}\n",
      "{'loss': 0.2388, 'learning_rate': 6.953564034309377e-06, 'epoch': 0.91}\n",
      "{'loss': 0.3206, 'learning_rate': 6.923986986098787e-06, 'epoch': 0.92}\n",
      "{'loss': 0.3022, 'learning_rate': 6.894409937888199e-06, 'epoch': 0.93}\n",
      "{'loss': 0.2091, 'learning_rate': 6.86483288967761e-06, 'epoch': 0.94}\n",
      "{'loss': 0.2703, 'learning_rate': 6.8352558414670224e-06, 'epoch': 0.95}\n",
      "{'loss': 0.2846, 'learning_rate': 6.805678793256434e-06, 'epoch': 0.96}\n",
      "{'loss': 0.357, 'learning_rate': 6.776101745045846e-06, 'epoch': 0.97}\n",
      "{'loss': 0.2673, 'learning_rate': 6.746524696835256e-06, 'epoch': 0.98}\n"
     ]
    },
    {
     "data": {
      "application/vnd.jupyter.widget-view+json": {
       "model_id": "9c76251364b948bdacce1651a642c2b3",
       "version_major": 2,
       "version_minor": 0
      },
      "text/plain": [
       "  0%|          | 0/282 [00:00<?, ?it/s]"
      ]
     },
     "metadata": {},
     "output_type": "display_data"
    },
    {
     "name": "stdout",
     "output_type": "stream",
     "text": [
      "{'eval_loss': 0.23440301418304443, 'eval_runtime': 37.5306, 'eval_samples_per_second': 120.035, 'eval_steps_per_second': 7.514, 'epoch': 0.98}\n",
      "{'loss': 0.234, 'learning_rate': 6.716947648624667e-06, 'epoch': 0.98}\n",
      "{'loss': 0.3197, 'learning_rate': 6.6873706004140795e-06, 'epoch': 0.99}\n",
      "{'loss': 0.1941, 'learning_rate': 6.657793552203491e-06, 'epoch': 1.0}\n",
      "{'loss': 0.2013, 'learning_rate': 6.628216503992903e-06, 'epoch': 1.01}\n",
      "{'loss': 0.1375, 'learning_rate': 6.598639455782313e-06, 'epoch': 1.02}\n",
      "{'loss': 0.1661, 'learning_rate': 6.569062407571724e-06, 'epoch': 1.03}\n",
      "{'loss': 0.1825, 'learning_rate': 6.5394853593611365e-06, 'epoch': 1.04}\n",
      "{'loss': 0.2552, 'learning_rate': 6.509908311150548e-06, 'epoch': 1.05}\n",
      "{'loss': 0.1098, 'learning_rate': 6.48033126293996e-06, 'epoch': 1.06}\n",
      "{'loss': 0.189, 'learning_rate': 6.45075421472937e-06, 'epoch': 1.06}\n"
     ]
    },
    {
     "data": {
      "application/vnd.jupyter.widget-view+json": {
       "model_id": "0324f5b635774bb395ad7198c0fe47a6",
       "version_major": 2,
       "version_minor": 0
      },
      "text/plain": [
       "  0%|          | 0/282 [00:00<?, ?it/s]"
      ]
     },
     "metadata": {},
     "output_type": "display_data"
    },
    {
     "name": "stdout",
     "output_type": "stream",
     "text": [
      "{'eval_loss': 0.2987563908100128, 'eval_runtime': 37.5882, 'eval_samples_per_second': 119.851, 'eval_steps_per_second': 7.502, 'epoch': 1.06}\n",
      "{'loss': 0.1483, 'learning_rate': 6.421177166518781e-06, 'epoch': 1.07}\n",
      "{'loss': 0.2447, 'learning_rate': 6.3916001183081935e-06, 'epoch': 1.08}\n",
      "{'loss': 0.2152, 'learning_rate': 6.362023070097605e-06, 'epoch': 1.09}\n",
      "{'loss': 0.1847, 'learning_rate': 6.332446021887017e-06, 'epoch': 1.1}\n",
      "{'loss': 0.2829, 'learning_rate': 6.302868973676428e-06, 'epoch': 1.11}\n",
      "{'loss': 0.1442, 'learning_rate': 6.2732919254658384e-06, 'epoch': 1.12}\n",
      "{'loss': 0.214, 'learning_rate': 6.2437148772552505e-06, 'epoch': 1.13}\n",
      "{'loss': 0.2641, 'learning_rate': 6.214137829044662e-06, 'epoch': 1.14}\n",
      "{'loss': 0.3218, 'learning_rate': 6.184560780834074e-06, 'epoch': 1.14}\n",
      "{'loss': 0.1305, 'learning_rate': 6.154983732623485e-06, 'epoch': 1.15}\n"
     ]
    },
    {
     "data": {
      "application/vnd.jupyter.widget-view+json": {
       "model_id": "c34055e2175e4d6985f38d0c3b1ed5fd",
       "version_major": 2,
       "version_minor": 0
      },
      "text/plain": [
       "  0%|          | 0/282 [00:00<?, ?it/s]"
      ]
     },
     "metadata": {},
     "output_type": "display_data"
    },
    {
     "name": "stdout",
     "output_type": "stream",
     "text": [
      "{'eval_loss': 0.2465977966785431, 'eval_runtime': 37.601, 'eval_samples_per_second': 119.811, 'eval_steps_per_second': 7.5, 'epoch': 1.15}\n",
      "{'loss': 0.2622, 'learning_rate': 6.1254066844128955e-06, 'epoch': 1.16}\n",
      "{'loss': 0.1507, 'learning_rate': 6.0958296362023075e-06, 'epoch': 1.17}\n",
      "{'loss': 0.1528, 'learning_rate': 6.066252587991719e-06, 'epoch': 1.18}\n",
      "{'loss': 0.1661, 'learning_rate': 6.036675539781131e-06, 'epoch': 1.19}\n",
      "{'loss': 0.2129, 'learning_rate': 6.007098491570542e-06, 'epoch': 1.2}\n",
      "{'loss': 0.2264, 'learning_rate': 5.9775214433599525e-06, 'epoch': 1.21}\n",
      "{'loss': 0.2104, 'learning_rate': 5.9479443951493646e-06, 'epoch': 1.22}\n",
      "{'loss': 0.1971, 'learning_rate': 5.918367346938776e-06, 'epoch': 1.22}\n",
      "{'loss': 0.2726, 'learning_rate': 5.888790298728188e-06, 'epoch': 1.23}\n",
      "{'loss': 0.3078, 'learning_rate': 5.859213250517599e-06, 'epoch': 1.24}\n"
     ]
    },
    {
     "data": {
      "application/vnd.jupyter.widget-view+json": {
       "model_id": "01dc0a9c5af642ba8b0ef2025ab0d1ff",
       "version_major": 2,
       "version_minor": 0
      },
      "text/plain": [
       "  0%|          | 0/282 [00:00<?, ?it/s]"
      ]
     },
     "metadata": {},
     "output_type": "display_data"
    },
    {
     "name": "stdout",
     "output_type": "stream",
     "text": [
      "{'eval_loss': 0.2605326175689697, 'eval_runtime': 37.3568, 'eval_samples_per_second': 120.594, 'eval_steps_per_second': 7.549, 'epoch': 1.24}\n",
      "{'loss': 0.1339, 'learning_rate': 5.82963620230701e-06, 'epoch': 1.25}\n",
      "{'loss': 0.1694, 'learning_rate': 5.800059154096422e-06, 'epoch': 1.26}\n",
      "{'loss': 0.1271, 'learning_rate': 5.770482105885833e-06, 'epoch': 1.27}\n",
      "{'loss': 0.1566, 'learning_rate': 5.740905057675245e-06, 'epoch': 1.28}\n",
      "{'loss': 0.2737, 'learning_rate': 5.711328009464656e-06, 'epoch': 1.29}\n",
      "{'loss': 0.3012, 'learning_rate': 5.681750961254067e-06, 'epoch': 1.3}\n",
      "{'loss': 0.2361, 'learning_rate': 5.652173913043479e-06, 'epoch': 1.3}\n",
      "{'loss': 0.2375, 'learning_rate': 5.62259686483289e-06, 'epoch': 1.31}\n",
      "{'loss': 0.2305, 'learning_rate': 5.593019816622302e-06, 'epoch': 1.32}\n",
      "{'loss': 0.166, 'learning_rate': 5.563442768411713e-06, 'epoch': 1.33}\n"
     ]
    },
    {
     "data": {
      "application/vnd.jupyter.widget-view+json": {
       "model_id": "3a8d8461d9f341ca9e9f26f15e0b4a9a",
       "version_major": 2,
       "version_minor": 0
      },
      "text/plain": [
       "  0%|          | 0/282 [00:00<?, ?it/s]"
      ]
     },
     "metadata": {},
     "output_type": "display_data"
    },
    {
     "name": "stdout",
     "output_type": "stream",
     "text": [
      "{'eval_loss': 0.31200969219207764, 'eval_runtime': 37.4311, 'eval_samples_per_second': 120.354, 'eval_steps_per_second': 7.534, 'epoch': 1.33}\n",
      "{'loss': 0.2015, 'learning_rate': 5.533865720201124e-06, 'epoch': 1.34}\n",
      "{'loss': 0.1304, 'learning_rate': 5.504288671990536e-06, 'epoch': 1.35}\n",
      "{'loss': 0.1645, 'learning_rate': 5.474711623779947e-06, 'epoch': 1.36}\n",
      "{'loss': 0.264, 'learning_rate': 5.445134575569359e-06, 'epoch': 1.37}\n",
      "{'loss': 0.3316, 'learning_rate': 5.41555752735877e-06, 'epoch': 1.38}\n",
      "{'loss': 0.1453, 'learning_rate': 5.385980479148181e-06, 'epoch': 1.38}\n",
      "{'loss': 0.1754, 'learning_rate': 5.3564034309375935e-06, 'epoch': 1.39}\n",
      "{'loss': 0.2364, 'learning_rate': 5.326826382727004e-06, 'epoch': 1.4}\n",
      "{'loss': 0.1926, 'learning_rate': 5.297249334516415e-06, 'epoch': 1.41}\n",
      "{'loss': 0.1229, 'learning_rate': 5.267672286305827e-06, 'epoch': 1.42}\n"
     ]
    },
    {
     "data": {
      "application/vnd.jupyter.widget-view+json": {
       "model_id": "737d8c47c90b4ef29f706c402cd08f58",
       "version_major": 2,
       "version_minor": 0
      },
      "text/plain": [
       "  0%|          | 0/282 [00:00<?, ?it/s]"
      ]
     },
     "metadata": {},
     "output_type": "display_data"
    },
    {
     "name": "stdout",
     "output_type": "stream",
     "text": [
      "{'eval_loss': 0.2905493676662445, 'eval_runtime': 39.8376, 'eval_samples_per_second': 113.084, 'eval_steps_per_second': 7.079, 'epoch': 1.42}\n",
      "{'loss': 0.1976, 'learning_rate': 5.2380952380952384e-06, 'epoch': 1.43}\n",
      "{'loss': 0.2576, 'learning_rate': 5.2085181898846505e-06, 'epoch': 1.44}\n",
      "{'loss': 0.1724, 'learning_rate': 5.178941141674061e-06, 'epoch': 1.45}\n",
      "{'loss': 0.213, 'learning_rate': 5.149364093463472e-06, 'epoch': 1.46}\n",
      "{'loss': 0.2671, 'learning_rate': 5.119787045252884e-06, 'epoch': 1.46}\n",
      "{'loss': 0.1668, 'learning_rate': 5.0902099970422955e-06, 'epoch': 1.47}\n",
      "{'loss': 0.1663, 'learning_rate': 5.0606329488317075e-06, 'epoch': 1.48}\n",
      "{'loss': 0.3121, 'learning_rate': 5.031055900621118e-06, 'epoch': 1.49}\n",
      "{'loss': 0.2034, 'learning_rate': 5.001478852410529e-06, 'epoch': 1.5}\n",
      "{'loss': 0.1563, 'learning_rate': 4.971901804199941e-06, 'epoch': 1.51}\n"
     ]
    },
    {
     "data": {
      "application/vnd.jupyter.widget-view+json": {
       "model_id": "fc81e57562cb48bb9730f0fa327f7afb",
       "version_major": 2,
       "version_minor": 0
      },
      "text/plain": [
       "  0%|          | 0/282 [00:00<?, ?it/s]"
      ]
     },
     "metadata": {},
     "output_type": "display_data"
    },
    {
     "name": "stdout",
     "output_type": "stream",
     "text": [
      "{'eval_loss': 0.2543196380138397, 'eval_runtime': 38.4307, 'eval_samples_per_second': 117.224, 'eval_steps_per_second': 7.338, 'epoch': 1.51}\n",
      "{'loss': 0.2209, 'learning_rate': 4.9423247559893525e-06, 'epoch': 1.52}\n",
      "{'loss': 0.2427, 'learning_rate': 4.912747707778764e-06, 'epoch': 1.53}\n",
      "{'loss': 0.1752, 'learning_rate': 4.883170659568176e-06, 'epoch': 1.54}\n",
      "{'loss': 0.215, 'learning_rate': 4.853593611357587e-06, 'epoch': 1.54}\n",
      "{'loss': 0.2524, 'learning_rate': 4.824016563146998e-06, 'epoch': 1.55}\n",
      "{'loss': 0.2273, 'learning_rate': 4.7944395149364095e-06, 'epoch': 1.56}\n",
      "{'loss': 0.2925, 'learning_rate': 4.764862466725822e-06, 'epoch': 1.57}\n",
      "{'loss': 0.1657, 'learning_rate': 4.735285418515233e-06, 'epoch': 1.58}\n",
      "{'loss': 0.1927, 'learning_rate': 4.705708370304644e-06, 'epoch': 1.59}\n",
      "{'loss': 0.2056, 'learning_rate': 4.676131322094055e-06, 'epoch': 1.6}\n"
     ]
    },
    {
     "data": {
      "application/vnd.jupyter.widget-view+json": {
       "model_id": "348239b254864bb0942b9a1d9a234128",
       "version_major": 2,
       "version_minor": 0
      },
      "text/plain": [
       "  0%|          | 0/282 [00:00<?, ?it/s]"
      ]
     },
     "metadata": {},
     "output_type": "display_data"
    },
    {
     "name": "stdout",
     "output_type": "stream",
     "text": [
      "{'eval_loss': 0.2476370632648468, 'eval_runtime': 38.6416, 'eval_samples_per_second': 116.584, 'eval_steps_per_second': 7.298, 'epoch': 1.6}\n",
      "{'loss': 0.2131, 'learning_rate': 4.6465542738834665e-06, 'epoch': 1.61}\n",
      "{'loss': 0.1839, 'learning_rate': 4.616977225672879e-06, 'epoch': 1.61}\n",
      "{'loss': 0.258, 'learning_rate': 4.58740017746229e-06, 'epoch': 1.62}\n",
      "{'loss': 0.1896, 'learning_rate': 4.557823129251701e-06, 'epoch': 1.63}\n",
      "{'loss': 0.1619, 'learning_rate': 4.528246081041112e-06, 'epoch': 1.64}\n",
      "{'loss': 0.237, 'learning_rate': 4.4986690328305236e-06, 'epoch': 1.65}\n",
      "{'loss': 0.2113, 'learning_rate': 4.469091984619936e-06, 'epoch': 1.66}\n",
      "{'loss': 0.1432, 'learning_rate': 4.439514936409347e-06, 'epoch': 1.67}\n",
      "{'loss': 0.1921, 'learning_rate': 4.409937888198758e-06, 'epoch': 1.68}\n",
      "{'loss': 0.1673, 'learning_rate': 4.380360839988169e-06, 'epoch': 1.69}\n"
     ]
    },
    {
     "data": {
      "application/vnd.jupyter.widget-view+json": {
       "model_id": "90aaa0e5ab8543fbb0a07c78a6e28e6f",
       "version_major": 2,
       "version_minor": 0
      },
      "text/plain": [
       "  0%|          | 0/282 [00:00<?, ?it/s]"
      ]
     },
     "metadata": {},
     "output_type": "display_data"
    },
    {
     "name": "stdout",
     "output_type": "stream",
     "text": [
      "{'eval_loss': 0.3152260184288025, 'eval_runtime': 38.5748, 'eval_samples_per_second': 116.786, 'eval_steps_per_second': 7.31, 'epoch': 1.69}\n",
      "{'loss': 0.1823, 'learning_rate': 4.3507837917775806e-06, 'epoch': 1.69}\n",
      "{'loss': 0.1524, 'learning_rate': 4.321206743566993e-06, 'epoch': 1.7}\n",
      "{'loss': 0.2897, 'learning_rate': 4.291629695356404e-06, 'epoch': 1.71}\n",
      "{'loss': 0.1362, 'learning_rate': 4.262052647145815e-06, 'epoch': 1.72}\n",
      "{'loss': 0.1401, 'learning_rate': 4.232475598935226e-06, 'epoch': 1.73}\n",
      "{'loss': 0.2355, 'learning_rate': 4.202898550724638e-06, 'epoch': 1.74}\n",
      "{'loss': 0.1455, 'learning_rate': 4.17332150251405e-06, 'epoch': 1.75}\n",
      "{'loss': 0.1804, 'learning_rate': 4.143744454303461e-06, 'epoch': 1.76}\n",
      "{'loss': 0.0737, 'learning_rate': 4.114167406092872e-06, 'epoch': 1.77}\n",
      "{'loss': 0.2279, 'learning_rate': 4.084590357882283e-06, 'epoch': 1.77}\n"
     ]
    },
    {
     "data": {
      "application/vnd.jupyter.widget-view+json": {
       "model_id": "168fa8d352034284a15c802f7eeb46fc",
       "version_major": 2,
       "version_minor": 0
      },
      "text/plain": [
       "  0%|          | 0/282 [00:00<?, ?it/s]"
      ]
     },
     "metadata": {},
     "output_type": "display_data"
    },
    {
     "name": "stdout",
     "output_type": "stream",
     "text": [
      "{'eval_loss': 0.35538673400878906, 'eval_runtime': 38.8594, 'eval_samples_per_second': 115.931, 'eval_steps_per_second': 7.257, 'epoch': 1.77}\n",
      "{'loss': 0.2252, 'learning_rate': 4.055013309671695e-06, 'epoch': 1.78}\n",
      "{'loss': 0.1909, 'learning_rate': 4.025436261461107e-06, 'epoch': 1.79}\n",
      "{'loss': 0.2301, 'learning_rate': 3.995859213250518e-06, 'epoch': 1.8}\n",
      "{'loss': 0.2302, 'learning_rate': 3.966282165039929e-06, 'epoch': 1.81}\n",
      "{'loss': 0.2031, 'learning_rate': 3.93670511682934e-06, 'epoch': 1.82}\n",
      "{'loss': 0.1521, 'learning_rate': 3.9071280686187525e-06, 'epoch': 1.83}\n",
      "{'loss': 0.2222, 'learning_rate': 3.877551020408164e-06, 'epoch': 1.84}\n",
      "{'loss': 0.1539, 'learning_rate': 3.847973972197575e-06, 'epoch': 1.85}\n",
      "{'loss': 0.1676, 'learning_rate': 3.818396923986986e-06, 'epoch': 1.85}\n",
      "{'loss': 0.2224, 'learning_rate': 3.788819875776398e-06, 'epoch': 1.86}\n"
     ]
    },
    {
     "data": {
      "application/vnd.jupyter.widget-view+json": {
       "model_id": "2db66d84a98e448f8802d3fd1ab056b1",
       "version_major": 2,
       "version_minor": 0
      },
      "text/plain": [
       "  0%|          | 0/282 [00:00<?, ?it/s]"
      ]
     },
     "metadata": {},
     "output_type": "display_data"
    },
    {
     "name": "stdout",
     "output_type": "stream",
     "text": [
      "{'eval_loss': 0.2868574261665344, 'eval_runtime': 38.1682, 'eval_samples_per_second': 118.03, 'eval_steps_per_second': 7.388, 'epoch': 1.86}\n",
      "{'loss': 0.2256, 'learning_rate': 3.7592428275658095e-06, 'epoch': 1.87}\n",
      "{'loss': 0.1825, 'learning_rate': 3.7296657793552203e-06, 'epoch': 1.88}\n",
      "{'loss': 0.2329, 'learning_rate': 3.700088731144632e-06, 'epoch': 1.89}\n",
      "{'loss': 0.2152, 'learning_rate': 3.6705116829340436e-06, 'epoch': 1.9}\n",
      "{'loss': 0.1367, 'learning_rate': 3.640934634723455e-06, 'epoch': 1.91}\n",
      "{'loss': 0.2443, 'learning_rate': 3.6113575865128665e-06, 'epoch': 1.92}\n",
      "{'loss': 0.1361, 'learning_rate': 3.5817805383022773e-06, 'epoch': 1.93}\n",
      "{'loss': 0.1172, 'learning_rate': 3.552203490091689e-06, 'epoch': 1.93}\n",
      "{'loss': 0.2237, 'learning_rate': 3.5226264418811007e-06, 'epoch': 1.94}\n",
      "{'loss': 0.2562, 'learning_rate': 3.493049393670512e-06, 'epoch': 1.95}\n"
     ]
    },
    {
     "data": {
      "application/vnd.jupyter.widget-view+json": {
       "model_id": "b0bee78be75e44fba707333e306c27ed",
       "version_major": 2,
       "version_minor": 0
      },
      "text/plain": [
       "  0%|          | 0/282 [00:00<?, ?it/s]"
      ]
     },
     "metadata": {},
     "output_type": "display_data"
    },
    {
     "name": "stdout",
     "output_type": "stream",
     "text": [
      "{'eval_loss': 0.2976354956626892, 'eval_runtime': 38.9483, 'eval_samples_per_second': 115.666, 'eval_steps_per_second': 7.24, 'epoch': 1.95}\n",
      "{'loss': 0.3298, 'learning_rate': 3.4634723454599236e-06, 'epoch': 1.96}\n",
      "{'loss': 0.2257, 'learning_rate': 3.433895297249335e-06, 'epoch': 1.97}\n",
      "{'loss': 0.241, 'learning_rate': 3.404318249038746e-06, 'epoch': 1.98}\n",
      "{'loss': 0.2774, 'learning_rate': 3.3747412008281577e-06, 'epoch': 1.99}\n",
      "{'loss': 0.1818, 'learning_rate': 3.345164152617569e-06, 'epoch': 2.0}\n",
      "{'loss': 0.1264, 'learning_rate': 3.3155871044069806e-06, 'epoch': 2.01}\n",
      "{'loss': 0.1405, 'learning_rate': 3.286010056196392e-06, 'epoch': 2.01}\n",
      "{'loss': 0.0956, 'learning_rate': 3.256433007985803e-06, 'epoch': 2.02}\n",
      "{'loss': 0.0775, 'learning_rate': 3.2268559597752147e-06, 'epoch': 2.03}\n",
      "{'loss': 0.0955, 'learning_rate': 3.1972789115646264e-06, 'epoch': 2.04}\n"
     ]
    },
    {
     "data": {
      "application/vnd.jupyter.widget-view+json": {
       "model_id": "baf1344f6e17439d88f65018a7506439",
       "version_major": 2,
       "version_minor": 0
      },
      "text/plain": [
       "  0%|          | 0/282 [00:00<?, ?it/s]"
      ]
     },
     "metadata": {},
     "output_type": "display_data"
    },
    {
     "name": "stdout",
     "output_type": "stream",
     "text": [
      "{'eval_loss': 0.35348233580589294, 'eval_runtime': 40.3949, 'eval_samples_per_second': 111.524, 'eval_steps_per_second': 6.981, 'epoch': 2.04}\n",
      "{'loss': 0.0625, 'learning_rate': 3.1677018633540376e-06, 'epoch': 2.05}\n",
      "{'loss': 0.121, 'learning_rate': 3.138124815143449e-06, 'epoch': 2.06}\n",
      "{'loss': 0.0883, 'learning_rate': 3.10854776693286e-06, 'epoch': 2.07}\n",
      "{'loss': 0.1758, 'learning_rate': 3.0789707187222717e-06, 'epoch': 2.08}\n",
      "{'loss': 0.1172, 'learning_rate': 3.0493936705116834e-06, 'epoch': 2.09}\n",
      "{'loss': 0.162, 'learning_rate': 3.019816622301094e-06, 'epoch': 2.09}\n",
      "{'loss': 0.1161, 'learning_rate': 2.990239574090506e-06, 'epoch': 2.1}\n",
      "{'loss': 0.1196, 'learning_rate': 2.9606625258799175e-06, 'epoch': 2.11}\n",
      "{'loss': 0.1014, 'learning_rate': 2.9310854776693287e-06, 'epoch': 2.12}\n",
      "{'loss': 0.1972, 'learning_rate': 2.9015084294587404e-06, 'epoch': 2.13}\n"
     ]
    },
    {
     "data": {
      "application/vnd.jupyter.widget-view+json": {
       "model_id": "2d01605410654888a65aad89eaa51321",
       "version_major": 2,
       "version_minor": 0
      },
      "text/plain": [
       "  0%|          | 0/282 [00:00<?, ?it/s]"
      ]
     },
     "metadata": {},
     "output_type": "display_data"
    },
    {
     "name": "stdout",
     "output_type": "stream",
     "text": [
      "{'eval_loss': 0.4338337481021881, 'eval_runtime': 38.264, 'eval_samples_per_second': 117.735, 'eval_steps_per_second': 7.37, 'epoch': 2.13}\n",
      "{'loss': 0.1432, 'learning_rate': 2.8719313812481512e-06, 'epoch': 2.14}\n",
      "{'loss': 0.1456, 'learning_rate': 2.842354333037563e-06, 'epoch': 2.15}\n",
      "{'loss': 0.1341, 'learning_rate': 2.8127772848269745e-06, 'epoch': 2.16}\n",
      "{'loss': 0.0714, 'learning_rate': 2.7832002366163858e-06, 'epoch': 2.17}\n",
      "{'loss': 0.1675, 'learning_rate': 2.7536231884057974e-06, 'epoch': 2.17}\n",
      "{'loss': 0.1431, 'learning_rate': 2.724046140195209e-06, 'epoch': 2.18}\n",
      "{'loss': 0.2299, 'learning_rate': 2.69446909198462e-06, 'epoch': 2.19}\n",
      "{'loss': 0.294, 'learning_rate': 2.6648920437740316e-06, 'epoch': 2.2}\n",
      "{'loss': 0.1128, 'learning_rate': 2.6353149955634428e-06, 'epoch': 2.21}\n",
      "{'loss': 0.1779, 'learning_rate': 2.6057379473528544e-06, 'epoch': 2.22}\n"
     ]
    },
    {
     "data": {
      "application/vnd.jupyter.widget-view+json": {
       "model_id": "3233d56b0aba4b4eb5b767e2a9c75a0b",
       "version_major": 2,
       "version_minor": 0
      },
      "text/plain": [
       "  0%|          | 0/282 [00:00<?, ?it/s]"
      ]
     },
     "metadata": {},
     "output_type": "display_data"
    },
    {
     "name": "stdout",
     "output_type": "stream",
     "text": [
      "{'eval_loss': 0.3346981406211853, 'eval_runtime': 39.5183, 'eval_samples_per_second': 113.998, 'eval_steps_per_second': 7.136, 'epoch': 2.22}\n",
      "{'loss': 0.1077, 'learning_rate': 2.576160899142266e-06, 'epoch': 2.23}\n",
      "{'loss': 0.0857, 'learning_rate': 2.546583850931677e-06, 'epoch': 2.24}\n",
      "{'loss': 0.109, 'learning_rate': 2.5170068027210886e-06, 'epoch': 2.24}\n",
      "{'loss': 0.0642, 'learning_rate': 2.4874297545105e-06, 'epoch': 2.25}\n",
      "{'loss': 0.3233, 'learning_rate': 2.4578527062999115e-06, 'epoch': 2.26}\n",
      "{'loss': 0.221, 'learning_rate': 2.428275658089323e-06, 'epoch': 2.27}\n",
      "{'loss': 0.1863, 'learning_rate': 2.3986986098787344e-06, 'epoch': 2.28}\n",
      "{'loss': 0.1721, 'learning_rate': 2.3691215616681456e-06, 'epoch': 2.29}\n",
      "{'loss': 0.1806, 'learning_rate': 2.339544513457557e-06, 'epoch': 2.3}\n",
      "{'loss': 0.1224, 'learning_rate': 2.3099674652469685e-06, 'epoch': 2.31}\n"
     ]
    },
    {
     "data": {
      "application/vnd.jupyter.widget-view+json": {
       "model_id": "dff393c624d34dbcaaa281b23f46f019",
       "version_major": 2,
       "version_minor": 0
      },
      "text/plain": [
       "  0%|          | 0/282 [00:00<?, ?it/s]"
      ]
     },
     "metadata": {},
     "output_type": "display_data"
    },
    {
     "name": "stdout",
     "output_type": "stream",
     "text": [
      "{'eval_loss': 0.3444347381591797, 'eval_runtime': 38.5061, 'eval_samples_per_second': 116.994, 'eval_steps_per_second': 7.324, 'epoch': 2.31}\n",
      "{'loss': 0.092, 'learning_rate': 2.28039041703638e-06, 'epoch': 2.32}\n",
      "{'loss': 0.0958, 'learning_rate': 2.2508133688257914e-06, 'epoch': 2.32}\n",
      "{'loss': 0.1576, 'learning_rate': 2.2212363206152026e-06, 'epoch': 2.33}\n",
      "{'loss': 0.2166, 'learning_rate': 2.1916592724046143e-06, 'epoch': 2.34}\n",
      "{'loss': 0.2602, 'learning_rate': 2.1620822241940255e-06, 'epoch': 2.35}\n",
      "{'loss': 0.1571, 'learning_rate': 2.132505175983437e-06, 'epoch': 2.36}\n",
      "{'loss': 0.1165, 'learning_rate': 2.1029281277728484e-06, 'epoch': 2.37}\n",
      "{'loss': 0.2412, 'learning_rate': 2.07335107956226e-06, 'epoch': 2.38}\n",
      "{'loss': 0.2768, 'learning_rate': 2.0437740313516713e-06, 'epoch': 2.39}\n",
      "{'loss': 0.1687, 'learning_rate': 2.0141969831410825e-06, 'epoch': 2.4}\n"
     ]
    },
    {
     "data": {
      "application/vnd.jupyter.widget-view+json": {
       "model_id": "e0e174ff6fc447d98f95ff549d2584fc",
       "version_major": 2,
       "version_minor": 0
      },
      "text/plain": [
       "  0%|          | 0/282 [00:00<?, ?it/s]"
      ]
     },
     "metadata": {},
     "output_type": "display_data"
    },
    {
     "name": "stdout",
     "output_type": "stream",
     "text": [
      "{'eval_loss': 0.38087865710258484, 'eval_runtime': 38.7824, 'eval_samples_per_second': 116.161, 'eval_steps_per_second': 7.271, 'epoch': 2.4}\n",
      "{'loss': 0.2781, 'learning_rate': 1.984619934930494e-06, 'epoch': 2.4}\n",
      "{'loss': 0.0664, 'learning_rate': 1.9550428867199054e-06, 'epoch': 2.41}\n",
      "{'loss': 0.1685, 'learning_rate': 1.925465838509317e-06, 'epoch': 2.42}\n",
      "{'loss': 0.106, 'learning_rate': 1.8958887902987283e-06, 'epoch': 2.43}\n",
      "{'loss': 0.1191, 'learning_rate': 1.8663117420881396e-06, 'epoch': 2.44}\n",
      "{'loss': 0.1166, 'learning_rate': 1.8367346938775512e-06, 'epoch': 2.45}\n",
      "{'loss': 0.2128, 'learning_rate': 1.8071576456669627e-06, 'epoch': 2.46}\n",
      "{'loss': 0.1608, 'learning_rate': 1.777580597456374e-06, 'epoch': 2.47}\n",
      "{'loss': 0.1075, 'learning_rate': 1.7480035492457853e-06, 'epoch': 2.48}\n",
      "{'loss': 0.2084, 'learning_rate': 1.718426501035197e-06, 'epoch': 2.48}\n"
     ]
    },
    {
     "data": {
      "application/vnd.jupyter.widget-view+json": {
       "model_id": "526bb49f1a724c87922df8fcb5462c14",
       "version_major": 2,
       "version_minor": 0
      },
      "text/plain": [
       "  0%|          | 0/282 [00:00<?, ?it/s]"
      ]
     },
     "metadata": {},
     "output_type": "display_data"
    },
    {
     "name": "stdout",
     "output_type": "stream",
     "text": [
      "{'eval_loss': 0.3689902424812317, 'eval_runtime': 38.8344, 'eval_samples_per_second': 116.006, 'eval_steps_per_second': 7.262, 'epoch': 2.48}\n",
      "{'loss': 0.1132, 'learning_rate': 1.6888494528246082e-06, 'epoch': 2.49}\n",
      "{'loss': 0.153, 'learning_rate': 1.6592724046140197e-06, 'epoch': 2.5}\n",
      "{'loss': 0.0988, 'learning_rate': 1.629695356403431e-06, 'epoch': 2.51}\n",
      "{'loss': 0.1666, 'learning_rate': 1.6001183081928426e-06, 'epoch': 2.52}\n",
      "{'loss': 0.0984, 'learning_rate': 1.570541259982254e-06, 'epoch': 2.53}\n",
      "{'loss': 0.1933, 'learning_rate': 1.5409642117716653e-06, 'epoch': 2.54}\n",
      "{'loss': 0.1711, 'learning_rate': 1.5113871635610767e-06, 'epoch': 2.55}\n",
      "{'loss': 0.2213, 'learning_rate': 1.4818101153504882e-06, 'epoch': 2.56}\n",
      "{'loss': 0.1219, 'learning_rate': 1.4522330671398996e-06, 'epoch': 2.56}\n",
      "{'loss': 0.153, 'learning_rate': 1.4226560189293108e-06, 'epoch': 2.57}\n"
     ]
    },
    {
     "data": {
      "application/vnd.jupyter.widget-view+json": {
       "model_id": "c3a22373389347a686fb1624b901bc2e",
       "version_major": 2,
       "version_minor": 0
      },
      "text/plain": [
       "  0%|          | 0/282 [00:00<?, ?it/s]"
      ]
     },
     "metadata": {},
     "output_type": "display_data"
    },
    {
     "name": "stdout",
     "output_type": "stream",
     "text": [
      "{'eval_loss': 0.3457258641719818, 'eval_runtime': 38.129, 'eval_samples_per_second': 118.152, 'eval_steps_per_second': 7.396, 'epoch': 2.57}\n",
      "{'loss': 0.0866, 'learning_rate': 1.3930789707187223e-06, 'epoch': 2.58}\n",
      "{'loss': 0.0593, 'learning_rate': 1.363501922508134e-06, 'epoch': 2.59}\n",
      "{'loss': 0.1646, 'learning_rate': 1.3339248742975452e-06, 'epoch': 2.6}\n",
      "{'loss': 0.1022, 'learning_rate': 1.3043478260869566e-06, 'epoch': 2.61}\n",
      "{'loss': 0.1936, 'learning_rate': 1.2747707778763679e-06, 'epoch': 2.62}\n",
      "{'loss': 0.1146, 'learning_rate': 1.2451937296657795e-06, 'epoch': 2.63}\n",
      "{'loss': 0.1975, 'learning_rate': 1.215616681455191e-06, 'epoch': 2.64}\n",
      "{'loss': 0.0594, 'learning_rate': 1.1860396332446022e-06, 'epoch': 2.64}\n",
      "{'loss': 0.1484, 'learning_rate': 1.1564625850340136e-06, 'epoch': 2.65}\n",
      "{'loss': 0.2078, 'learning_rate': 1.126885536823425e-06, 'epoch': 2.66}\n"
     ]
    },
    {
     "data": {
      "application/vnd.jupyter.widget-view+json": {
       "model_id": "470f2e61efef471ab9c7b6c9a1efed02",
       "version_major": 2,
       "version_minor": 0
      },
      "text/plain": [
       "  0%|          | 0/282 [00:00<?, ?it/s]"
      ]
     },
     "metadata": {},
     "output_type": "display_data"
    },
    {
     "name": "stdout",
     "output_type": "stream",
     "text": [
      "{'eval_loss': 0.35379868745803833, 'eval_runtime': 38.323, 'eval_samples_per_second': 117.553, 'eval_steps_per_second': 7.359, 'epoch': 2.66}\n",
      "{'loss': 0.2028, 'learning_rate': 1.0973084886128365e-06, 'epoch': 2.67}\n",
      "{'loss': 0.1438, 'learning_rate': 1.067731440402248e-06, 'epoch': 2.68}\n",
      "{'loss': 0.0486, 'learning_rate': 1.0381543921916594e-06, 'epoch': 2.69}\n",
      "{'loss': 0.0629, 'learning_rate': 1.0085773439810707e-06, 'epoch': 2.7}\n",
      "{'loss': 0.1019, 'learning_rate': 9.790002957704823e-07, 'epoch': 2.71}\n",
      "{'loss': 0.1995, 'learning_rate': 9.494232475598936e-07, 'epoch': 2.72}\n",
      "{'loss': 0.1508, 'learning_rate': 9.19846199349305e-07, 'epoch': 2.72}\n",
      "{'loss': 0.1557, 'learning_rate': 8.902691511387164e-07, 'epoch': 2.73}\n",
      "{'loss': 0.1574, 'learning_rate': 8.606921029281279e-07, 'epoch': 2.74}\n",
      "{'loss': 0.2204, 'learning_rate': 8.311150547175392e-07, 'epoch': 2.75}\n"
     ]
    },
    {
     "data": {
      "application/vnd.jupyter.widget-view+json": {
       "model_id": "5e0f47cebaf5465e950d39116971f7c8",
       "version_major": 2,
       "version_minor": 0
      },
      "text/plain": [
       "  0%|          | 0/282 [00:00<?, ?it/s]"
      ]
     },
     "metadata": {},
     "output_type": "display_data"
    },
    {
     "name": "stdout",
     "output_type": "stream",
     "text": [
      "{'eval_loss': 0.38180169463157654, 'eval_runtime': 36.9851, 'eval_samples_per_second': 121.806, 'eval_steps_per_second': 7.625, 'epoch': 2.75}\n",
      "{'loss': 0.1067, 'learning_rate': 8.015380065069507e-07, 'epoch': 2.76}\n",
      "{'loss': 0.1944, 'learning_rate': 7.71960958296362e-07, 'epoch': 2.77}\n",
      "{'loss': 0.1449, 'learning_rate': 7.423839100857736e-07, 'epoch': 2.78}\n",
      "{'loss': 0.1077, 'learning_rate': 7.128068618751849e-07, 'epoch': 2.79}\n",
      "{'loss': 0.1331, 'learning_rate': 6.832298136645964e-07, 'epoch': 2.8}\n",
      "{'loss': 0.1335, 'learning_rate': 6.536527654540077e-07, 'epoch': 2.8}\n",
      "{'loss': 0.1308, 'learning_rate': 6.240757172434192e-07, 'epoch': 2.81}\n",
      "{'loss': 0.1362, 'learning_rate': 5.944986690328305e-07, 'epoch': 2.82}\n",
      "{'loss': 0.0542, 'learning_rate': 5.649216208222419e-07, 'epoch': 2.83}\n",
      "{'loss': 0.1715, 'learning_rate': 5.353445726116534e-07, 'epoch': 2.84}\n"
     ]
    },
    {
     "data": {
      "application/vnd.jupyter.widget-view+json": {
       "model_id": "88d0654ec9ba43a29fac29ae8ec83651",
       "version_major": 2,
       "version_minor": 0
      },
      "text/plain": [
       "  0%|          | 0/282 [00:00<?, ?it/s]"
      ]
     },
     "metadata": {},
     "output_type": "display_data"
    },
    {
     "name": "stdout",
     "output_type": "stream",
     "text": [
      "{'eval_loss': 0.3568941652774811, 'eval_runtime': 37.2566, 'eval_samples_per_second': 120.918, 'eval_steps_per_second': 7.569, 'epoch': 2.84}\n",
      "{'loss': 0.1684, 'learning_rate': 5.057675244010648e-07, 'epoch': 2.85}\n",
      "{'loss': 0.1725, 'learning_rate': 4.7619047619047623e-07, 'epoch': 2.86}\n",
      "{'loss': 0.1867, 'learning_rate': 4.466134279798876e-07, 'epoch': 2.87}\n",
      "{'loss': 0.1669, 'learning_rate': 4.17036379769299e-07, 'epoch': 2.87}\n",
      "{'loss': 0.1589, 'learning_rate': 3.8745933155871046e-07, 'epoch': 2.88}\n",
      "{'loss': 0.113, 'learning_rate': 3.5788228334812185e-07, 'epoch': 2.89}\n",
      "{'loss': 0.1943, 'learning_rate': 3.283052351375333e-07, 'epoch': 2.9}\n",
      "{'loss': 0.255, 'learning_rate': 2.9872818692694475e-07, 'epoch': 2.91}\n",
      "{'loss': 0.1361, 'learning_rate': 2.6915113871635614e-07, 'epoch': 2.92}\n",
      "{'loss': 0.133, 'learning_rate': 2.3957409050576754e-07, 'epoch': 2.93}\n"
     ]
    },
    {
     "data": {
      "application/vnd.jupyter.widget-view+json": {
       "model_id": "7ce7e4ed15394bcd8de533859275af22",
       "version_major": 2,
       "version_minor": 0
      },
      "text/plain": [
       "  0%|          | 0/282 [00:00<?, ?it/s]"
      ]
     },
     "metadata": {},
     "output_type": "display_data"
    },
    {
     "name": "stdout",
     "output_type": "stream",
     "text": [
      "{'eval_loss': 0.37698855996131897, 'eval_runtime': 37.0583, 'eval_samples_per_second': 121.565, 'eval_steps_per_second': 7.61, 'epoch': 2.93}\n",
      "{'loss': 0.0783, 'learning_rate': 2.0999704229517898e-07, 'epoch': 2.94}\n",
      "{'loss': 0.0323, 'learning_rate': 1.8041999408459038e-07, 'epoch': 2.95}\n",
      "{'loss': 0.1434, 'learning_rate': 1.5084294587400177e-07, 'epoch': 2.95}\n",
      "{'loss': 0.185, 'learning_rate': 1.212658976634132e-07, 'epoch': 2.96}\n",
      "{'loss': 0.1754, 'learning_rate': 9.168884945282461e-08, 'epoch': 2.97}\n",
      "{'loss': 0.122, 'learning_rate': 6.211180124223603e-08, 'epoch': 2.98}\n",
      "{'loss': 0.104, 'learning_rate': 3.2534753031647444e-08, 'epoch': 2.99}\n",
      "{'loss': 0.0867, 'learning_rate': 2.9577048210588584e-09, 'epoch': 3.0}\n",
      "{'train_runtime': 3385.7197, 'train_samples_per_second': 15.966, 'train_steps_per_second': 0.999, 'train_loss': 0.24098808689555828, 'epoch': 3.0}\n"
     ]
    },
    {
     "data": {
      "application/vnd.jupyter.widget-view+json": {
       "model_id": "df12e4d5a234484c9252fba116057a13",
       "version_major": 2,
       "version_minor": 0
      },
      "text/plain": [
       "  0%|          | 0/282 [00:00<?, ?it/s]"
      ]
     },
     "metadata": {},
     "output_type": "display_data"
    }
   ],
   "source": [
    "import torch\n",
    "from transformers import RobertaTokenizer, RobertaForSequenceClassification, Trainer, TrainingArguments\n",
    "from sklearn.model_selection import train_test_split\n",
    "\n",
    "# Split the dataset into train and test sets\n",
    "train_texts, test_texts, train_labels, test_labels = train_test_split(df.Tweet.tolist(), df.Sentiment.tolist(), test_size=0.2, random_state=42)\n",
    "\n",
    "# Map string labels to integers\n",
    "label_map = {\"Positive\": 0, \"Negative\": 1, \"Neutral\": 2}\n",
    "train_labels = [label_map[label] for label in train_labels]\n",
    "test_labels = [label_map[label] for label in test_labels]\n",
    "\n",
    "# Tokenize the data\n",
    "train_encoded = tokenizer(train_texts, truncation=True, padding=True, max_length=128, return_tensors=\"pt\", add_special_tokens=True)\n",
    "test_encoded = tokenizer(test_texts, truncation=True, padding=True, max_length=128, return_tensors=\"pt\", add_special_tokens=True)\n",
    "\n",
    "# Prepare the data for Trainer\n",
    "train_dataset = torch.utils.data.TensorDataset(train_encoded['input_ids'], train_encoded['attention_mask'], torch.tensor(train_labels))\n",
    "test_dataset = torch.utils.data.TensorDataset(test_encoded['input_ids'], test_encoded['attention_mask'], torch.tensor(test_labels))\n",
    "\n",
    "# Create a custom collate function\n",
    "def custom_collate_fn(batch):\n",
    "    input_ids = torch.stack([item[0] for item in batch])\n",
    "    attention_mask = torch.stack([item[1] for item in batch])\n",
    "    labels = torch.tensor([item[2] for item in batch])\n",
    "    return {'input_ids': input_ids, 'attention_mask': attention_mask, 'labels': labels}\n",
    "\n",
    "# TrainingArguments and Trainer setup\n",
    "training_args = TrainingArguments(\n",
    "    output_dir='./results',\n",
    "    evaluation_strategy=\"steps\",\n",
    "    eval_steps=100,\n",
    "    save_total_limit=3,\n",
    "    per_device_train_batch_size=16,\n",
    "    per_device_eval_batch_size=16,\n",
    "    learning_rate=1e-5,\n",
    "    num_train_epochs=3,\n",
    "    logging_dir='./logs',\n",
    "    logging_steps=10,\n",
    ")\n",
    "\n",
    "# Trainer with custom collate function\n",
    "trainer = Trainer(\n",
    "    model=model,\n",
    "    args=training_args,\n",
    "    train_dataset=train_dataset,\n",
    "    eval_dataset=test_dataset,\n",
    "    data_collator=custom_collate_fn,\n",
    ")\n",
    "\n",
    "# Fine-tune the model\n",
    "trainer.train()\n",
    "\n",
    "# Evaluate the model\n",
    "results = trainer.evaluate()\n"
   ]
  },
  {
   "cell_type": "code",
   "execution_count": 27,
   "metadata": {},
   "outputs": [
    {
     "name": "stdout",
     "output_type": "stream",
     "text": [
      "{'eval_loss': 0.3675295114517212, 'eval_runtime': 37.8562, 'eval_samples_per_second': 119.003, 'eval_steps_per_second': 7.449, 'epoch': 3.0}\n"
     ]
    }
   ],
   "source": [
    "print(results)"
   ]
  },
  {
   "cell_type": "code",
   "execution_count": 28,
   "metadata": {},
   "outputs": [],
   "source": [
    "# Save the model\n",
    "model.save_pretrained('./fine_tuned_model')"
   ]
  },
  {
   "cell_type": "code",
   "execution_count": 29,
   "metadata": {},
   "outputs": [],
   "source": [
    "# Save the test dataset\n",
    "torch.save(test_dataset, 'test_dataset.pt')"
   ]
  },
  {
   "cell_type": "code",
   "execution_count": 30,
   "metadata": {},
   "outputs": [
    {
     "name": "stdout",
     "output_type": "stream",
     "text": [
      "Input IDs: tensor([    0, 44220, 46676,   472,    71,  2086,   112,    12,   288,   136,\n",
      "         5978,  3422,     4,   849,   597, 28673, 10988,   347,   658,   849,\n",
      "        10988, 21033,  1864, 18416,   844,  2036,   849, 10988,   347,   658,\n",
      "          844,  2036,  1205,   640,    90,     4,   876,    73,   298,   673,\n",
      "         2161, 10127,   306,   506,   771,  1000,     2,     1,     1,     1,\n",
      "            1,     1,     1,     1,     1,     1,     1,     1,     1,     1,\n",
      "            1,     1,     1,     1,     1,     1,     1,     1,     1,     1,\n",
      "            1,     1,     1,     1,     1,     1,     1,     1,     1,     1,\n",
      "            1,     1,     1,     1,     1,     1,     1,     1,     1,     1,\n",
      "            1,     1,     1,     1,     1,     1,     1,     1,     1,     1,\n",
      "            1,     1,     1,     1,     1,     1,     1,     1,     1,     1,\n",
      "            1,     1,     1,     1,     1,     1,     1,     1,     1,     1,\n",
      "            1,     1,     1,     1,     1,     1,     1,     1])\n",
      "Attention Mask: tensor([1, 1, 1, 1, 1, 1, 1, 1, 1, 1, 1, 1, 1, 1, 1, 1, 1, 1, 1, 1, 1, 1, 1, 1,\n",
      "        1, 1, 1, 1, 1, 1, 1, 1, 1, 1, 1, 1, 1, 1, 1, 1, 1, 1, 1, 1, 1, 1, 1, 0,\n",
      "        0, 0, 0, 0, 0, 0, 0, 0, 0, 0, 0, 0, 0, 0, 0, 0, 0, 0, 0, 0, 0, 0, 0, 0,\n",
      "        0, 0, 0, 0, 0, 0, 0, 0, 0, 0, 0, 0, 0, 0, 0, 0, 0, 0, 0, 0, 0, 0, 0, 0,\n",
      "        0, 0, 0, 0, 0, 0, 0, 0, 0, 0, 0, 0, 0, 0, 0, 0, 0, 0, 0, 0, 0, 0, 0, 0,\n",
      "        0, 0, 0, 0, 0, 0, 0, 0])\n",
      "Labels: tensor(2)\n",
      "==============================\n"
     ]
    }
   ],
   "source": [
    "test_dataset = torch.load('test_dataset.pt')\n",
    "\n",
    "# Iterate through the test dataset and print the tensors\n",
    "for item in test_dataset:\n",
    "    input_ids, attention_mask, labels = item\n",
    "    print(\"Input IDs:\", input_ids)\n",
    "    print(\"Attention Mask:\", attention_mask)\n",
    "    print(\"Labels:\", labels)\n",
    "    print(\"=\" * 30)\n",
    "    break # Examine the first tensor"
   ]
  },
  {
   "cell_type": "code",
   "execution_count": 51,
   "metadata": {},
   "outputs": [
    {
     "name": "stdout",
     "output_type": "stream",
     "text": [
      "Accuracy: 91.05%\n"
     ]
    }
   ],
   "source": [
    "from torch.utils.data import DataLoader, TensorDataset\n",
    "from transformers import RobertaForSequenceClassification\n",
    "from sklearn.metrics import accuracy_score\n",
    "\n",
    "# Load the fine-tuned model\n",
    "fine_tuned_model = RobertaForSequenceClassification.from_pretrained('./fine_tuned_model')\n",
    "\n",
    "# Load the test dataset\n",
    "test_input_ids = test_encoded['input_ids']\n",
    "test_attention_mask = test_encoded['attention_mask']\n",
    "test_labels = torch.tensor(test_labels)\n",
    "\n",
    "test_dataset = TensorDataset(test_input_ids, test_attention_mask, test_labels)\n",
    "test_dataloader = DataLoader(test_dataset, batch_size=16)  # Adjust batch size as needed\n",
    "\n",
    "# Initialize lists to store true labels and predicted labels\n",
    "true_labels = []\n",
    "predicted_labels = []\n",
    "\n",
    "# Iterate through the test dataloader\n",
    "for batch in test_dataloader:\n",
    "    input_ids, attention_mask, labels = batch\n",
    "    \n",
    "    # Get model predictions\n",
    "    with torch.no_grad():\n",
    "        logits = fine_tuned_model(input_ids=input_ids, attention_mask=attention_mask).logits\n",
    "    \n",
    "    # Convert logits to predicted labels\n",
    "    predicted_batch_labels = torch.argmax(logits, dim=1).tolist()\n",
    "    \n",
    "    true_labels.extend(labels.tolist())\n",
    "    predicted_labels.extend(predicted_batch_labels)\n",
    "\n",
    "# Calculate accuracy\n",
    "accuracy = accuracy_score(true_labels, predicted_labels)\n",
    "\n",
    "print(\"Accuracy: {:.2f}%\".format(accuracy*100))\n"
   ]
  },
  {
   "cell_type": "code",
   "execution_count": 52,
   "metadata": {},
   "outputs": [
    {
     "name": "stdout",
     "output_type": "stream",
     "text": [
      "Precision: 0.91\n",
      "Recall: 0.91\n",
      "F1-Score: 0.91\n"
     ]
    }
   ],
   "source": [
    "from sklearn.metrics import accuracy_score, precision_recall_fscore_support\n",
    "\n",
    "precision, recall, f1_score, _ = precision_recall_fscore_support(true_labels, predicted_labels, average='weighted')\n",
    "\n",
    "print(\"Precision: {:.2f}\".format(precision))\n",
    "print(\"Recall: {:.2f}\".format(recall))\n",
    "print(\"F1-Score: {:.2f}\".format(f1_score))"
   ]
  },
  {
   "cell_type": "code",
   "execution_count": 53,
   "metadata": {},
   "outputs": [
    {
     "data": {
      "image/png": "[encoded data removed]",
      "text/plain": [
       "<Figure size 1000x800 with 2 Axes>"
      ]
     },
     "metadata": {},
     "output_type": "display_data"
    }
   ],
   "source": [
    "from sklearn.metrics import confusion_matrix\n",
    "\n",
    "# Calculate confusion matrix\n",
    "conf_matrix = confusion_matrix(true_labels, predicted_labels)\n",
    "\n",
    "# Plot confusion matrix\n",
    "plt.figure(figsize=(10, 8))\n",
    "sns.heatmap(conf_matrix, annot=True, cmap='Blues', fmt='g', xticklabels=['Positive', 'Negative', 'Neutral'], yticklabels=['Positive', 'Negative', 'Neutral'])\n",
    "plt.xlabel('Predicted Labels')\n",
    "plt.ylabel('True Labels')\n",
    "plt.title('Confusion Matrix')\n",
    "plt.show()"
   ]
  },
  {
   "cell_type": "markdown",
   "metadata": {},
   "source": [
    "### Fine-Tuned Roberta Model on Entire Dataset"
   ]
  },
  {
   "cell_type": "code",
   "execution_count": 33,
   "metadata": {},
   "outputs": [],
   "source": [
    "### Predict on whole dataset\n",
    "df2 = df.copy()\n",
    "\n",
    "df2_labels =  df2.Sentiment.tolist()\n",
    "\n",
    "# Map string labels to integers\n",
    "label_map = {\"Positive\": 0, \"Negative\": 1, \"Neutral\": 2}\n",
    "df2_labels = [label_map[label] for label in df2_labels]\n",
    "\n",
    "# Tokenize the data\n",
    "df2_encoded = tokenizer(df.Tweet.tolist(), truncation=True, padding=True, max_length=128, return_tensors=\"pt\", add_special_tokens=True)\n",
    "\n",
    "# Prepare the data for Trainer\n",
    "df2_dataset = torch.utils.data.TensorDataset(df2_encoded['input_ids'], df2_encoded['attention_mask'], torch.tensor(df2_labels))"
   ]
  },
  {
   "cell_type": "code",
   "execution_count": 34,
   "metadata": {},
   "outputs": [],
   "source": [
    "# Save the test dataset\n",
    "torch.save(df2_dataset, 'df2.pt')"
   ]
  },
  {
   "cell_type": "code",
   "execution_count": 35,
   "metadata": {},
   "outputs": [
    {
     "name": "stdout",
     "output_type": "stream",
     "text": [
      "Input IDs: tensor([    0,  2264,    32,    52,  4835,   452,   787,   565,  3964,   260,\n",
      "          565, 21700,  1437, 50118,  1039, 21067,   387, 12541,  1215,  1437,\n",
      "        50118,  1039,   462,   330,  3976,  1215,   337,  2977,  1437, 50118,\n",
      "         1039,   337,  1215,  2977,  4057,  1437, 50118, 50118, 10431, 10988,\n",
      "          347,   658,   844,  2036,  1205,   640,    90,     4,   876,    73,\n",
      "          673,  2538,   246,   565,   329,   705,   534,   245,   298,     2,\n",
      "            1,     1,     1,     1,     1,     1,     1,     1,     1,     1,\n",
      "            1,     1,     1,     1,     1,     1,     1,     1,     1,     1,\n",
      "            1,     1,     1,     1,     1,     1,     1,     1,     1,     1,\n",
      "            1,     1,     1,     1,     1,     1,     1,     1,     1,     1,\n",
      "            1,     1,     1,     1,     1,     1,     1,     1,     1,     1,\n",
      "            1,     1,     1,     1,     1,     1,     1,     1,     1,     1,\n",
      "            1,     1,     1,     1,     1,     1,     1,     1])\n",
      "Attention Mask: tensor([1, 1, 1, 1, 1, 1, 1, 1, 1, 1, 1, 1, 1, 1, 1, 1, 1, 1, 1, 1, 1, 1, 1, 1,\n",
      "        1, 1, 1, 1, 1, 1, 1, 1, 1, 1, 1, 1, 1, 1, 1, 1, 1, 1, 1, 1, 1, 1, 1, 1,\n",
      "        1, 1, 1, 1, 1, 1, 1, 1, 1, 1, 1, 1, 0, 0, 0, 0, 0, 0, 0, 0, 0, 0, 0, 0,\n",
      "        0, 0, 0, 0, 0, 0, 0, 0, 0, 0, 0, 0, 0, 0, 0, 0, 0, 0, 0, 0, 0, 0, 0, 0,\n",
      "        0, 0, 0, 0, 0, 0, 0, 0, 0, 0, 0, 0, 0, 0, 0, 0, 0, 0, 0, 0, 0, 0, 0, 0,\n",
      "        0, 0, 0, 0, 0, 0, 0, 0])\n",
      "Labels: tensor(2)\n",
      "==============================\n"
     ]
    }
   ],
   "source": [
    "# Iterate through the test dataset and print the tensors\n",
    "for item in df2_dataset:\n",
    "    input_ids, attention_mask, labels = item\n",
    "    print(\"Input IDs:\", input_ids)\n",
    "    print(\"Attention Mask:\", attention_mask)\n",
    "    print(\"Labels:\", labels)\n",
    "    print(\"=\" * 30)\n",
    "    break # Examine the first tensor"
   ]
  },
  {
   "cell_type": "code",
   "execution_count": 36,
   "metadata": {},
   "outputs": [
    {
     "name": "stdout",
     "output_type": "stream",
     "text": [
      "Accuracy: 96.23%\n"
     ]
    }
   ],
   "source": [
    "from transformers import RobertaForSequenceClassification\n",
    "from sklearn.metrics import accuracy_score\n",
    "\n",
    "# Load the fine-tuned model\n",
    "fine_tuned_model = RobertaForSequenceClassification.from_pretrained('./fine_tuned_model')\n",
    "\n",
    "# Load the df2 dataset\n",
    "df2_dataset = torch.load('df2.pt')\n",
    "\n",
    "df2_input_ids = df2_encoded['input_ids']\n",
    "df2_attention_mask = df2_encoded['attention_mask']\n",
    "df2_labels = torch.tensor(df2_labels)\n",
    "\n",
    "# Initialize lists to store true labels and predicted labels\n",
    "true_labels = []\n",
    "predicted_labels = []\n",
    "\n",
    "# Iterate through the dataset\n",
    "for i in range(len(df2_input_ids)):\n",
    "    input_ids = df2_input_ids[i].unsqueeze(0)\n",
    "    attention_mask = df2_attention_mask[i].unsqueeze(0)\n",
    "    label = df2_labels[i].item()\n",
    "\n",
    "    # Get model predictions\n",
    "    with torch.no_grad():\n",
    "        logits = fine_tuned_model(input_ids=input_ids, attention_mask=attention_mask).logits\n",
    "\n",
    "    # Convert logits to predicted label\n",
    "    predicted_label = torch.argmax(logits, dim=1).item()\n",
    "\n",
    "    true_labels.append(label)\n",
    "    predicted_labels.append(predicted_label)\n",
    "\n",
    "# Calculate accuracy\n",
    "accuracy = accuracy_score(true_labels, predicted_labels)\n",
    "\n",
    "print(\"Accuracy: {:.2f}%\".format(accuracy * 100))\n"
   ]
  },
  {
   "cell_type": "code",
   "execution_count": 48,
   "metadata": {},
   "outputs": [
    {
     "name": "stdout",
     "output_type": "stream",
     "text": [
      "Precision: 0.96\n",
      "Recall: 0.96\n",
      "F1-Score: 0.96\n"
     ]
    }
   ],
   "source": [
    "precision, recall, f1_score, _ = precision_recall_fscore_support(true_labels, predicted_labels, average='weighted')\n",
    "\n",
    "print(\"Precision: {:.2f}\".format(precision))\n",
    "print(\"Recall: {:.2f}\".format(recall))\n",
    "print(\"F1-Score: {:.2f}\".format(f1_score))"
   ]
  },
  {
   "cell_type": "code",
   "execution_count": 49,
   "metadata": {},
   "outputs": [
    {
     "data": {
      "image/png": "[encoded data removed]",
      "text/plain": [
       "<Figure size 1000x800 with 2 Axes>"
      ]
     },
     "metadata": {},
     "output_type": "display_data"
    }
   ],
   "source": [
    "from sklearn.metrics import confusion_matrix\n",
    "\n",
    "# Calculate confusion matrix\n",
    "conf_matrix = confusion_matrix(true_labels, predicted_labels)\n",
    "\n",
    "# Plot confusion matrix\n",
    "plt.figure(figsize=(10, 8))\n",
    "sns.heatmap(conf_matrix, annot=True, cmap='Blues', fmt='g', xticklabels=['Positive', 'Negative', 'Neutral'], yticklabels=['Positive', 'Negative', 'Neutral'])\n",
    "plt.xlabel('Predicted Labels')\n",
    "plt.ylabel('True Labels')\n",
    "plt.title('Confusion Matrix')\n",
    "plt.show()"
   ]
  },
  {
   "cell_type": "markdown",
   "metadata": {},
   "source": [
    "### Deep Learning and Keras\n",
    "\n",
    "#### Single LSTM\n",
    "\n",
    "Long Short-Term Memory (LSTM) is a type of recurrent neural network (RNN) architecture in deep learning designed to overcome the vanishing gradient problem, which hinders the training of traditional RNNs on long sequences.\n",
    "\n",
    "LSTMs have shown remarkable performance in sentiment analysis on tweets due to their ability to capture the contextual information, handle varying input lengths, and model intricate linguistic patterns. They are a powerful tool for extracting sentiment-related insights from short and informal text, enabling better understanding of public opinion and sentiment trends on social media platforms."
   ]
  },
  {
   "cell_type": "code",
   "execution_count": 114,
   "metadata": {},
   "outputs": [
    {
     "data": {
      "text/html": [
       "<div>\n",
       "<style scoped>\n",
       "    .dataframe tbody tr th:only-of-type {\n",
       "        vertical-align: middle;\n",
       "    }\n",
       "\n",
       "    .dataframe tbody tr th {\n",
       "        vertical-align: top;\n",
       "    }\n",
       "\n",
       "    .dataframe thead th {\n",
       "        text-align: right;\n",
       "    }\n",
       "</style>\n",
       "<table border=\"1\" class=\"dataframe\">\n",
       "  <thead>\n",
       "    <tr style=\"text-align: right;\">\n",
       "      <th></th>\n",
       "      <th>Date Created</th>\n",
       "      <th>Number of Likes</th>\n",
       "      <th>Source of Tweet</th>\n",
       "      <th>Tweet</th>\n",
       "      <th>Sentiment</th>\n",
       "      <th>preprocessed_tweet</th>\n",
       "      <th>vader_sentiment</th>\n",
       "      <th>Sentiment_Num</th>\n",
       "    </tr>\n",
       "  </thead>\n",
       "  <tbody>\n",
       "    <tr>\n",
       "      <th>0</th>\n",
       "      <td>2022-11-20 23:59:21+00:00</td>\n",
       "      <td>4</td>\n",
       "      <td>Twitter Web App</td>\n",
       "      <td>What are we drinking today @TucanTribe \\n@MadB...</td>\n",
       "      <td>Neutral</td>\n",
       "      <td>drinking today worldcup</td>\n",
       "      <td>Neutral</td>\n",
       "      <td>1</td>\n",
       "    </tr>\n",
       "    <tr>\n",
       "      <th>1</th>\n",
       "      <td>2022-11-20 23:59:01+00:00</td>\n",
       "      <td>3</td>\n",
       "      <td>Twitter for iPhone</td>\n",
       "      <td>Amazing @CanadaSoccerEN  #WorldCup2022 launch ...</td>\n",
       "      <td>Positive</td>\n",
       "      <td>amazing worldcup launch video show much face c...</td>\n",
       "      <td>Positive</td>\n",
       "      <td>2</td>\n",
       "    </tr>\n",
       "    <tr>\n",
       "      <th>2</th>\n",
       "      <td>2022-11-20 23:58:41+00:00</td>\n",
       "      <td>1</td>\n",
       "      <td>Twitter for iPhone</td>\n",
       "      <td>Worth reading while watching #WorldCup2022 htt...</td>\n",
       "      <td>Positive</td>\n",
       "      <td>worth reading watching worldcup</td>\n",
       "      <td>Positive</td>\n",
       "      <td>2</td>\n",
       "    </tr>\n",
       "    <tr>\n",
       "      <th>3</th>\n",
       "      <td>2022-11-20 23:58:33+00:00</td>\n",
       "      <td>1</td>\n",
       "      <td>Twitter Web App</td>\n",
       "      <td>Golden Maknae shinning bright\\n\\nhttps://t.co/...</td>\n",
       "      <td>Positive</td>\n",
       "      <td>golden maknae shinning bright jeonjungkook jun...</td>\n",
       "      <td>Positive</td>\n",
       "      <td>2</td>\n",
       "    </tr>\n",
       "    <tr>\n",
       "      <th>4</th>\n",
       "      <td>2022-11-20 23:58:28+00:00</td>\n",
       "      <td>0</td>\n",
       "      <td>Twitter for Android</td>\n",
       "      <td>If the BBC cares so much about human rights, h...</td>\n",
       "      <td>Negative</td>\n",
       "      <td>bbc care much human right homosexual right wom...</td>\n",
       "      <td>Positive</td>\n",
       "      <td>0</td>\n",
       "    </tr>\n",
       "  </tbody>\n",
       "</table>\n",
       "</div>"
      ],
      "text/plain": [
       "               Date Created  Number of Likes      Source of Tweet  \\\n",
       "0 2022-11-20 23:59:21+00:00                4      Twitter Web App   \n",
       "1 2022-11-20 23:59:01+00:00                3   Twitter for iPhone   \n",
       "2 2022-11-20 23:58:41+00:00                1   Twitter for iPhone   \n",
       "3 2022-11-20 23:58:33+00:00                1      Twitter Web App   \n",
       "4 2022-11-20 23:58:28+00:00                0  Twitter for Android   \n",
       "\n",
       "                                               Tweet Sentiment  \\\n",
       "0  What are we drinking today @TucanTribe \\n@MadB...   Neutral   \n",
       "1  Amazing @CanadaSoccerEN  #WorldCup2022 launch ...  Positive   \n",
       "2  Worth reading while watching #WorldCup2022 htt...  Positive   \n",
       "3  Golden Maknae shinning bright\\n\\nhttps://t.co/...  Positive   \n",
       "4  If the BBC cares so much about human rights, h...  Negative   \n",
       "\n",
       "                                  preprocessed_tweet vader_sentiment  \\\n",
       "0                            drinking today worldcup         Neutral   \n",
       "1  amazing worldcup launch video show much face c...        Positive   \n",
       "2                    worth reading watching worldcup        Positive   \n",
       "3  golden maknae shinning bright jeonjungkook jun...        Positive   \n",
       "4  bbc care much human right homosexual right wom...        Positive   \n",
       "\n",
       "   Sentiment_Num  \n",
       "0              1  \n",
       "1              2  \n",
       "2              2  \n",
       "3              2  \n",
       "4              0  "
      ]
     },
     "execution_count": 114,
     "metadata": {},
     "output_type": "execute_result"
    }
   ],
   "source": [
    "df.head()"
   ]
  },
  {
   "cell_type": "code",
   "execution_count": 139,
   "metadata": {},
   "outputs": [],
   "source": [
    "from keras.preprocessing.text import Tokenizer\n",
    "from keras.preprocessing.sequence import pad_sequences\n",
    "from keras import regularizers\n",
    "import tensorflow as tf"
   ]
  },
  {
   "cell_type": "code",
   "execution_count": 124,
   "metadata": {},
   "outputs": [],
   "source": [
    "# Label Encoding\n",
    "labels = np.array(df['Sentiment'])\n",
    "y = []\n",
    "for i in range(len(labels)):\n",
    "    if labels[i] == 'Neutral':\n",
    "        y.append(0)\n",
    "    if labels[i] == 'Negative':\n",
    "        y.append(1)\n",
    "    if labels[i] == 'Positive':\n",
    "        y.append(2)\n",
    "y = np.array(y)\n",
    "labels = tf.keras.utils.to_categorical(y, 3, dtype=\"float32\")\n",
    "del y"
   ]
  },
  {
   "cell_type": "code",
   "execution_count": 119,
   "metadata": {},
   "outputs": [
    {
     "name": "stdout",
     "output_type": "stream",
     "text": [
      "[[   0    0    0 ... 1688   18    1]\n",
      " [   0    0    0 ...    4    9  314]\n",
      " [   0    0    0 ... 1769   49    1]\n",
      " ...\n",
      " [   0    0    0 ...  446   27    1]\n",
      " [   0    0    0 ...   85  910    1]\n",
      " [   0    0    0 ... 4204   10    1]]\n"
     ]
    }
   ],
   "source": [
    "data = df.preprocessed_tweet.tolist()\n",
    "\n",
    "max_words = 5000\n",
    "max_len = 200\n",
    "\n",
    "tokenizer = Tokenizer(num_words=max_words)\n",
    "tokenizer.fit_on_texts(data)\n",
    "sequences = tokenizer.texts_to_sequences(data)\n",
    "tweets = pad_sequences(sequences, maxlen=max_len)\n",
    "print(tweets)"
   ]
  },
  {
   "cell_type": "code",
   "execution_count": 125,
   "metadata": {},
   "outputs": [
    {
     "name": "stdout",
     "output_type": "stream",
     "text": [
      "16893 5631 16893 5631\n"
     ]
    }
   ],
   "source": [
    "#Splitting the data\n",
    "X_train, X_test, y_train, y_test = train_test_split(tweets,labels, random_state=0)\n",
    "print (len(X_train),len(X_test),len(y_train),len(y_test))"
   ]
  },
  {
   "cell_type": "code",
   "execution_count": 127,
   "metadata": {},
   "outputs": [
    {
     "name": "stdout",
     "output_type": "stream",
     "text": [
      "WARNING:tensorflow:`period` argument is deprecated. Please use `save_freq` to specify the frequency in number of batches seen.\n",
      "Epoch 1/100\n",
      "527/528 [============================>.] - ETA: 0s - loss: 0.9603 - accuracy: 0.5114\n",
      "Epoch 1: val_accuracy improved from -inf to 0.60167, saving model to best_model1.hdf5\n",
      "528/528 [==============================] - 14s 24ms/step - loss: 0.9600 - accuracy: 0.5118 - val_loss: 0.8283 - val_accuracy: 0.6017\n",
      "Epoch 2/100\n",
      "528/528 [==============================] - ETA: 0s - loss: 0.7668 - accuracy: 0.6442\n",
      "Epoch 2: val_accuracy improved from 0.60167 to 0.66205, saving model to best_model1.hdf5\n",
      "528/528 [==============================] - 13s 24ms/step - loss: 0.7668 - accuracy: 0.6442 - val_loss: 0.7454 - val_accuracy: 0.6620\n",
      "Epoch 3/100\n",
      "526/528 [============================>.] - ETA: 0s - loss: 0.6874 - accuracy: 0.7002\n",
      "Epoch 3: val_accuracy improved from 0.66205 to 0.69188, saving model to best_model1.hdf5\n",
      "528/528 [==============================] - 13s 24ms/step - loss: 0.6874 - accuracy: 0.7003 - val_loss: 0.7038 - val_accuracy: 0.6919\n",
      "Epoch 4/100\n",
      "526/528 [============================>.] - ETA: 0s - loss: 0.6399 - accuracy: 0.7288\n",
      "Epoch 4: val_accuracy improved from 0.69188 to 0.69828, saving model to best_model1.hdf5\n",
      "528/528 [==============================] - 13s 24ms/step - loss: 0.6399 - accuracy: 0.7288 - val_loss: 0.6964 - val_accuracy: 0.6983\n",
      "Epoch 5/100\n",
      "527/528 [============================>.] - ETA: 0s - loss: 0.6101 - accuracy: 0.7413\n",
      "Epoch 5: val_accuracy improved from 0.69828 to 0.70645, saving model to best_model1.hdf5\n",
      "528/528 [==============================] - 13s 24ms/step - loss: 0.6103 - accuracy: 0.7412 - val_loss: 0.6789 - val_accuracy: 0.7064\n",
      "Epoch 6/100\n",
      "527/528 [============================>.] - ETA: 0s - loss: 0.5911 - accuracy: 0.7528\n",
      "Epoch 6: val_accuracy improved from 0.70645 to 0.70769, saving model to best_model1.hdf5\n",
      "528/528 [==============================] - 13s 24ms/step - loss: 0.5914 - accuracy: 0.7528 - val_loss: 0.6736 - val_accuracy: 0.7077\n",
      "Epoch 7/100\n",
      "528/528 [==============================] - ETA: 0s - loss: 0.5807 - accuracy: 0.7575\n",
      "Epoch 7: val_accuracy improved from 0.70769 to 0.70911, saving model to best_model1.hdf5\n",
      "528/528 [==============================] - 12s 24ms/step - loss: 0.5807 - accuracy: 0.7575 - val_loss: 0.6769 - val_accuracy: 0.7091\n",
      "Epoch 8/100\n",
      "526/528 [============================>.] - ETA: 0s - loss: 0.5664 - accuracy: 0.7655\n",
      "Epoch 8: val_accuracy improved from 0.70911 to 0.71337, saving model to best_model1.hdf5\n",
      "528/528 [==============================] - 13s 24ms/step - loss: 0.5663 - accuracy: 0.7656 - val_loss: 0.6702 - val_accuracy: 0.7134\n",
      "Epoch 9/100\n",
      "526/528 [============================>.] - ETA: 0s - loss: 0.5581 - accuracy: 0.7678\n",
      "Epoch 9: val_accuracy improved from 0.71337 to 0.71568, saving model to best_model1.hdf5\n",
      "528/528 [==============================] - 12s 24ms/step - loss: 0.5578 - accuracy: 0.7680 - val_loss: 0.6706 - val_accuracy: 0.7157\n",
      "Epoch 10/100\n",
      "526/528 [============================>.] - ETA: 0s - loss: 0.5472 - accuracy: 0.7739\n",
      "Epoch 10: val_accuracy did not improve from 0.71568\n",
      "528/528 [==============================] - 12s 24ms/step - loss: 0.5470 - accuracy: 0.7739 - val_loss: 0.6655 - val_accuracy: 0.7137\n",
      "Epoch 11/100\n",
      "526/528 [============================>.] - ETA: 0s - loss: 0.5429 - accuracy: 0.7711\n",
      "Epoch 11: val_accuracy did not improve from 0.71568\n",
      "528/528 [==============================] - 13s 24ms/step - loss: 0.5428 - accuracy: 0.7711 - val_loss: 0.6661 - val_accuracy: 0.7155\n",
      "Epoch 12/100\n",
      "528/528 [==============================] - ETA: 0s - loss: 0.5373 - accuracy: 0.7785\n",
      "Epoch 12: val_accuracy improved from 0.71568 to 0.71977, saving model to best_model1.hdf5\n",
      "528/528 [==============================] - 13s 24ms/step - loss: 0.5373 - accuracy: 0.7785 - val_loss: 0.6805 - val_accuracy: 0.7198\n",
      "Epoch 13/100\n",
      "528/528 [==============================] - ETA: 0s - loss: 0.5274 - accuracy: 0.7809\n",
      "Epoch 13: val_accuracy improved from 0.71977 to 0.72030, saving model to best_model1.hdf5\n",
      "528/528 [==============================] - 13s 24ms/step - loss: 0.5274 - accuracy: 0.7809 - val_loss: 0.6634 - val_accuracy: 0.7203\n",
      "Epoch 14/100\n",
      "527/528 [============================>.] - ETA: 0s - loss: 0.5228 - accuracy: 0.7839\n",
      "Epoch 14: val_accuracy did not improve from 0.72030\n",
      "528/528 [==============================] - 13s 24ms/step - loss: 0.5233 - accuracy: 0.7838 - val_loss: 0.6669 - val_accuracy: 0.7139\n",
      "Epoch 15/100\n",
      "528/528 [==============================] - ETA: 0s - loss: 0.5190 - accuracy: 0.7857\n",
      "Epoch 15: val_accuracy did not improve from 0.72030\n",
      "528/528 [==============================] - 12s 24ms/step - loss: 0.5190 - accuracy: 0.7857 - val_loss: 0.6633 - val_accuracy: 0.7176\n",
      "Epoch 16/100\n",
      "526/528 [============================>.] - ETA: 0s - loss: 0.5178 - accuracy: 0.7887\n",
      "Epoch 16: val_accuracy did not improve from 0.72030\n",
      "528/528 [==============================] - 12s 24ms/step - loss: 0.5180 - accuracy: 0.7887 - val_loss: 0.6663 - val_accuracy: 0.7198\n",
      "Epoch 17/100\n",
      "528/528 [==============================] - ETA: 0s - loss: 0.5158 - accuracy: 0.7890\n",
      "Epoch 17: val_accuracy did not improve from 0.72030\n",
      "528/528 [==============================] - 13s 24ms/step - loss: 0.5158 - accuracy: 0.7890 - val_loss: 0.6696 - val_accuracy: 0.7173\n",
      "Epoch 18/100\n",
      "526/528 [============================>.] - ETA: 0s - loss: 0.5101 - accuracy: 0.7914\n",
      "Epoch 18: val_accuracy did not improve from 0.72030\n",
      "528/528 [==============================] - 13s 24ms/step - loss: 0.5101 - accuracy: 0.7915 - val_loss: 0.6618 - val_accuracy: 0.7144\n",
      "Epoch 19/100\n",
      "527/528 [============================>.] - ETA: 0s - loss: 0.5018 - accuracy: 0.7927\n",
      "Epoch 19: val_accuracy did not improve from 0.72030\n",
      "528/528 [==============================] - 13s 24ms/step - loss: 0.5020 - accuracy: 0.7926 - val_loss: 0.6583 - val_accuracy: 0.7203\n",
      "Epoch 20/100\n",
      "526/528 [============================>.] - ETA: 0s - loss: 0.4980 - accuracy: 0.7941\n",
      "Epoch 20: val_accuracy did not improve from 0.72030\n",
      "528/528 [==============================] - 12s 24ms/step - loss: 0.4986 - accuracy: 0.7939 - val_loss: 0.6653 - val_accuracy: 0.7187\n",
      "Epoch 21/100\n",
      "526/528 [============================>.] - ETA: 0s - loss: 0.4977 - accuracy: 0.7966\n",
      "Epoch 21: val_accuracy did not improve from 0.72030\n",
      "528/528 [==============================] - 12s 24ms/step - loss: 0.4974 - accuracy: 0.7970 - val_loss: 0.6747 - val_accuracy: 0.7198\n",
      "Epoch 22/100\n",
      "526/528 [============================>.] - ETA: 0s - loss: 0.4945 - accuracy: 0.7987\n",
      "Epoch 22: val_accuracy did not improve from 0.72030\n",
      "528/528 [==============================] - 12s 24ms/step - loss: 0.4949 - accuracy: 0.7986 - val_loss: 0.6785 - val_accuracy: 0.7173\n",
      "Epoch 23/100\n",
      "527/528 [============================>.] - ETA: 0s - loss: 0.4912 - accuracy: 0.7990\n",
      "Epoch 23: val_accuracy improved from 0.72030 to 0.72136, saving model to best_model1.hdf5\n",
      "528/528 [==============================] - 13s 24ms/step - loss: 0.4910 - accuracy: 0.7990 - val_loss: 0.6708 - val_accuracy: 0.7214\n",
      "Epoch 24/100\n",
      "526/528 [============================>.] - ETA: 0s - loss: 0.4877 - accuracy: 0.8002\n",
      "Epoch 24: val_accuracy did not improve from 0.72136\n",
      "528/528 [==============================] - 12s 24ms/step - loss: 0.4877 - accuracy: 0.8002 - val_loss: 0.6741 - val_accuracy: 0.7205\n",
      "Epoch 25/100\n",
      "528/528 [==============================] - ETA: 0s - loss: 0.4841 - accuracy: 0.8010\n",
      "Epoch 25: val_accuracy did not improve from 0.72136\n",
      "528/528 [==============================] - 13s 24ms/step - loss: 0.4841 - accuracy: 0.8010 - val_loss: 0.6723 - val_accuracy: 0.7207\n",
      "Epoch 26/100\n",
      "528/528 [==============================] - ETA: 0s - loss: 0.4862 - accuracy: 0.8043\n",
      "Epoch 26: val_accuracy did not improve from 0.72136\n",
      "528/528 [==============================] - 12s 24ms/step - loss: 0.4862 - accuracy: 0.8043 - val_loss: 0.6758 - val_accuracy: 0.7185\n",
      "Epoch 27/100\n",
      "527/528 [============================>.] - ETA: 0s - loss: 0.4827 - accuracy: 0.8024\n",
      "Epoch 27: val_accuracy did not improve from 0.72136\n",
      "528/528 [==============================] - 12s 24ms/step - loss: 0.4831 - accuracy: 0.8023 - val_loss: 0.6797 - val_accuracy: 0.7203\n",
      "Epoch 28/100\n",
      "526/528 [============================>.] - ETA: 0s - loss: 0.4810 - accuracy: 0.8054\n",
      "Epoch 28: val_accuracy did not improve from 0.72136\n",
      "528/528 [==============================] - 13s 24ms/step - loss: 0.4804 - accuracy: 0.8057 - val_loss: 0.6748 - val_accuracy: 0.7175\n",
      "Epoch 29/100\n",
      "526/528 [============================>.] - ETA: 0s - loss: 0.4739 - accuracy: 0.8098\n",
      "Epoch 29: val_accuracy did not improve from 0.72136\n",
      "528/528 [==============================] - 12s 24ms/step - loss: 0.4742 - accuracy: 0.8096 - val_loss: 0.6746 - val_accuracy: 0.7203\n",
      "Epoch 30/100\n",
      "528/528 [==============================] - ETA: 0s - loss: 0.4770 - accuracy: 0.8058\n",
      "Epoch 30: val_accuracy did not improve from 0.72136\n",
      "528/528 [==============================] - 13s 24ms/step - loss: 0.4770 - accuracy: 0.8058 - val_loss: 0.6723 - val_accuracy: 0.7201\n",
      "Epoch 31/100\n",
      "526/528 [============================>.] - ETA: 0s - loss: 0.4742 - accuracy: 0.8083\n",
      "Epoch 31: val_accuracy did not improve from 0.72136\n",
      "528/528 [==============================] - 13s 24ms/step - loss: 0.4742 - accuracy: 0.8083 - val_loss: 0.6867 - val_accuracy: 0.7212\n",
      "Epoch 32/100\n",
      "526/528 [============================>.] - ETA: 0s - loss: 0.4697 - accuracy: 0.8087\n",
      "Epoch 32: val_accuracy did not improve from 0.72136\n",
      "528/528 [==============================] - 13s 24ms/step - loss: 0.4700 - accuracy: 0.8087 - val_loss: 0.6916 - val_accuracy: 0.7187\n",
      "Epoch 33/100\n",
      "528/528 [==============================] - ETA: 0s - loss: 0.4658 - accuracy: 0.8105\n",
      "Epoch 33: val_accuracy did not improve from 0.72136\n",
      "528/528 [==============================] - 13s 24ms/step - loss: 0.4658 - accuracy: 0.8105 - val_loss: 0.6781 - val_accuracy: 0.7185\n",
      "Epoch 34/100\n",
      "527/528 [============================>.] - ETA: 0s - loss: 0.4693 - accuracy: 0.8078\n",
      "Epoch 34: val_accuracy did not improve from 0.72136\n",
      "528/528 [==============================] - 13s 24ms/step - loss: 0.4692 - accuracy: 0.8079 - val_loss: 0.6857 - val_accuracy: 0.7180\n",
      "Epoch 35/100\n",
      "526/528 [============================>.] - ETA: 0s - loss: 0.4656 - accuracy: 0.8101\n",
      "Epoch 35: val_accuracy did not improve from 0.72136\n",
      "528/528 [==============================] - 12s 23ms/step - loss: 0.4656 - accuracy: 0.8100 - val_loss: 0.6931 - val_accuracy: 0.7164\n",
      "Epoch 36/100\n",
      "526/528 [============================>.] - ETA: 0s - loss: 0.4659 - accuracy: 0.8127\n",
      "Epoch 36: val_accuracy did not improve from 0.72136\n",
      "528/528 [==============================] - 12s 23ms/step - loss: 0.4659 - accuracy: 0.8128 - val_loss: 0.6839 - val_accuracy: 0.7169\n",
      "Epoch 37/100\n",
      "528/528 [==============================] - ETA: 0s - loss: 0.4625 - accuracy: 0.8136\n",
      "Epoch 37: val_accuracy did not improve from 0.72136\n",
      "528/528 [==============================] - 13s 24ms/step - loss: 0.4625 - accuracy: 0.8136 - val_loss: 0.6930 - val_accuracy: 0.7183\n",
      "Epoch 38/100\n",
      "526/528 [============================>.] - ETA: 0s - loss: 0.4579 - accuracy: 0.8142\n",
      "Epoch 38: val_accuracy did not improve from 0.72136\n",
      "528/528 [==============================] - 13s 24ms/step - loss: 0.4584 - accuracy: 0.8139 - val_loss: 0.6976 - val_accuracy: 0.7182\n",
      "Epoch 39/100\n",
      "528/528 [==============================] - ETA: 0s - loss: 0.4613 - accuracy: 0.8113\n",
      "Epoch 39: val_accuracy did not improve from 0.72136\n",
      "528/528 [==============================] - 12s 23ms/step - loss: 0.4613 - accuracy: 0.8113 - val_loss: 0.6811 - val_accuracy: 0.7212\n",
      "Epoch 40/100\n",
      "528/528 [==============================] - ETA: 0s - loss: 0.4595 - accuracy: 0.8123\n",
      "Epoch 40: val_accuracy did not improve from 0.72136\n",
      "528/528 [==============================] - 12s 23ms/step - loss: 0.4595 - accuracy: 0.8123 - val_loss: 0.6885 - val_accuracy: 0.7205\n",
      "Epoch 41/100\n",
      "526/528 [============================>.] - ETA: 0s - loss: 0.4583 - accuracy: 0.8151\n",
      "Epoch 41: val_accuracy did not improve from 0.72136\n",
      "528/528 [==============================] - 12s 23ms/step - loss: 0.4582 - accuracy: 0.8153 - val_loss: 0.6854 - val_accuracy: 0.7178\n",
      "Epoch 42/100\n",
      "526/528 [============================>.] - ETA: 0s - loss: 0.4541 - accuracy: 0.8135\n",
      "Epoch 42: val_accuracy did not improve from 0.72136\n",
      "528/528 [==============================] - 12s 24ms/step - loss: 0.4542 - accuracy: 0.8137 - val_loss: 0.6845 - val_accuracy: 0.7182\n",
      "Epoch 43/100\n",
      "526/528 [============================>.] - ETA: 0s - loss: 0.4532 - accuracy: 0.8177\n",
      "Epoch 43: val_accuracy did not improve from 0.72136\n",
      "528/528 [==============================] - 12s 23ms/step - loss: 0.4537 - accuracy: 0.8175 - val_loss: 0.6973 - val_accuracy: 0.7178\n",
      "Epoch 44/100\n",
      "527/528 [============================>.] - ETA: 0s - loss: 0.4525 - accuracy: 0.8185\n",
      "Epoch 44: val_accuracy improved from 0.72136 to 0.72261, saving model to best_model1.hdf5\n",
      "528/528 [==============================] - 12s 24ms/step - loss: 0.4526 - accuracy: 0.8184 - val_loss: 0.6894 - val_accuracy: 0.7226\n",
      "Epoch 45/100\n",
      "528/528 [==============================] - ETA: 0s - loss: 0.4528 - accuracy: 0.8151\n",
      "Epoch 45: val_accuracy did not improve from 0.72261\n",
      "528/528 [==============================] - 12s 23ms/step - loss: 0.4528 - accuracy: 0.8151 - val_loss: 0.6939 - val_accuracy: 0.7208\n",
      "Epoch 46/100\n",
      "526/528 [============================>.] - ETA: 0s - loss: 0.4498 - accuracy: 0.8161\n",
      "Epoch 46: val_accuracy did not improve from 0.72261\n",
      "528/528 [==============================] - 12s 23ms/step - loss: 0.4502 - accuracy: 0.8160 - val_loss: 0.6922 - val_accuracy: 0.7192\n",
      "Epoch 47/100\n",
      "528/528 [==============================] - ETA: 0s - loss: 0.4461 - accuracy: 0.8197\n",
      "Epoch 47: val_accuracy did not improve from 0.72261\n",
      "528/528 [==============================] - 13s 24ms/step - loss: 0.4461 - accuracy: 0.8197 - val_loss: 0.6911 - val_accuracy: 0.7203\n",
      "Epoch 48/100\n",
      "527/528 [============================>.] - ETA: 0s - loss: 0.4523 - accuracy: 0.8184\n",
      "Epoch 48: val_accuracy did not improve from 0.72261\n",
      "528/528 [==============================] - 13s 24ms/step - loss: 0.4524 - accuracy: 0.8184 - val_loss: 0.6889 - val_accuracy: 0.7196\n",
      "Epoch 49/100\n",
      "528/528 [==============================] - ETA: 0s - loss: 0.4497 - accuracy: 0.8179\n",
      "Epoch 49: val_accuracy did not improve from 0.72261\n",
      "528/528 [==============================] - 13s 24ms/step - loss: 0.4497 - accuracy: 0.8179 - val_loss: 0.6828 - val_accuracy: 0.7189\n",
      "Epoch 50/100\n",
      "526/528 [============================>.] - ETA: 0s - loss: 0.4452 - accuracy: 0.8202\n",
      "Epoch 50: val_accuracy did not improve from 0.72261\n",
      "528/528 [==============================] - 12s 23ms/step - loss: 0.4451 - accuracy: 0.8205 - val_loss: 0.6963 - val_accuracy: 0.7167\n",
      "Epoch 51/100\n",
      "526/528 [============================>.] - ETA: 0s - loss: 0.4428 - accuracy: 0.8234\n",
      "Epoch 51: val_accuracy did not improve from 0.72261\n",
      "528/528 [==============================] - 12s 23ms/step - loss: 0.4428 - accuracy: 0.8237 - val_loss: 0.7015 - val_accuracy: 0.7208\n",
      "Epoch 52/100\n",
      "526/528 [============================>.] - ETA: 0s - loss: 0.4458 - accuracy: 0.8207\n",
      "Epoch 52: val_accuracy did not improve from 0.72261\n",
      "528/528 [==============================] - 13s 24ms/step - loss: 0.4459 - accuracy: 0.8208 - val_loss: 0.6979 - val_accuracy: 0.7194\n",
      "Epoch 53/100\n",
      "528/528 [==============================] - ETA: 0s - loss: 0.4458 - accuracy: 0.8200\n",
      "Epoch 53: val_accuracy did not improve from 0.72261\n",
      "528/528 [==============================] - 12s 23ms/step - loss: 0.4458 - accuracy: 0.8200 - val_loss: 0.6919 - val_accuracy: 0.7201\n",
      "Epoch 54/100\n",
      "528/528 [==============================] - ETA: 0s - loss: 0.4381 - accuracy: 0.8231\n",
      "Epoch 54: val_accuracy did not improve from 0.72261\n",
      "528/528 [==============================] - 12s 24ms/step - loss: 0.4381 - accuracy: 0.8231 - val_loss: 0.7065 - val_accuracy: 0.7164\n",
      "Epoch 55/100\n",
      "526/528 [============================>.] - ETA: 0s - loss: 0.4403 - accuracy: 0.8239\n",
      "Epoch 55: val_accuracy did not improve from 0.72261\n",
      "528/528 [==============================] - 12s 23ms/step - loss: 0.4405 - accuracy: 0.8237 - val_loss: 0.6936 - val_accuracy: 0.7198\n",
      "Epoch 56/100\n",
      "528/528 [==============================] - ETA: 0s - loss: 0.4415 - accuracy: 0.8221\n",
      "Epoch 56: val_accuracy did not improve from 0.72261\n",
      "528/528 [==============================] - 12s 23ms/step - loss: 0.4415 - accuracy: 0.8221 - val_loss: 0.6986 - val_accuracy: 0.7187\n",
      "Epoch 57/100\n",
      "528/528 [==============================] - ETA: 0s - loss: 0.4369 - accuracy: 0.8222\n",
      "Epoch 57: val_accuracy did not improve from 0.72261\n",
      "528/528 [==============================] - 13s 24ms/step - loss: 0.4369 - accuracy: 0.8222 - val_loss: 0.7053 - val_accuracy: 0.7185\n",
      "Epoch 58/100\n",
      "526/528 [============================>.] - ETA: 0s - loss: 0.4393 - accuracy: 0.8218\n",
      "Epoch 58: val_accuracy did not improve from 0.72261\n",
      "528/528 [==============================] - 12s 23ms/step - loss: 0.4396 - accuracy: 0.8218 - val_loss: 0.7074 - val_accuracy: 0.7194\n",
      "Epoch 59/100\n",
      "526/528 [============================>.] - ETA: 0s - loss: 0.4365 - accuracy: 0.8222\n",
      "Epoch 59: val_accuracy did not improve from 0.72261\n",
      "528/528 [==============================] - 12s 23ms/step - loss: 0.4361 - accuracy: 0.8226 - val_loss: 0.7055 - val_accuracy: 0.7223\n",
      "Epoch 60/100\n",
      "526/528 [============================>.] - ETA: 0s - loss: 0.4359 - accuracy: 0.8241\n",
      "Epoch 60: val_accuracy did not improve from 0.72261\n",
      "528/528 [==============================] - 12s 23ms/step - loss: 0.4357 - accuracy: 0.8244 - val_loss: 0.7006 - val_accuracy: 0.7185\n",
      "Epoch 61/100\n",
      "527/528 [============================>.] - ETA: 0s - loss: 0.4377 - accuracy: 0.8262\n",
      "Epoch 61: val_accuracy did not improve from 0.72261\n",
      "528/528 [==============================] - 12s 24ms/step - loss: 0.4384 - accuracy: 0.8260 - val_loss: 0.7062 - val_accuracy: 0.7196\n",
      "Epoch 62/100\n",
      "528/528 [==============================] - ETA: 0s - loss: 0.4314 - accuracy: 0.8265\n",
      "Epoch 62: val_accuracy did not improve from 0.72261\n",
      "528/528 [==============================] - 13s 24ms/step - loss: 0.4314 - accuracy: 0.8265 - val_loss: 0.7070 - val_accuracy: 0.7221\n",
      "Epoch 63/100\n",
      "527/528 [============================>.] - ETA: 0s - loss: 0.4351 - accuracy: 0.8264\n",
      "Epoch 63: val_accuracy did not improve from 0.72261\n",
      "528/528 [==============================] - 12s 23ms/step - loss: 0.4351 - accuracy: 0.8264 - val_loss: 0.7037 - val_accuracy: 0.7219\n",
      "Epoch 64/100\n",
      "526/528 [============================>.] - ETA: 0s - loss: 0.4326 - accuracy: 0.8279\n",
      "Epoch 64: val_accuracy did not improve from 0.72261\n",
      "528/528 [==============================] - 12s 23ms/step - loss: 0.4325 - accuracy: 0.8279 - val_loss: 0.7174 - val_accuracy: 0.7215\n",
      "Epoch 65/100\n",
      "526/528 [============================>.] - ETA: 0s - loss: 0.4327 - accuracy: 0.8231\n",
      "Epoch 65: val_accuracy did not improve from 0.72261\n",
      "528/528 [==============================] - 12s 23ms/step - loss: 0.4323 - accuracy: 0.8233 - val_loss: 0.7150 - val_accuracy: 0.7171\n",
      "Epoch 66/100\n",
      "526/528 [============================>.] - ETA: 0s - loss: 0.4292 - accuracy: 0.8266\n",
      "Epoch 66: val_accuracy did not improve from 0.72261\n",
      "528/528 [==============================] - 13s 24ms/step - loss: 0.4294 - accuracy: 0.8266 - val_loss: 0.7071 - val_accuracy: 0.7199\n",
      "Epoch 67/100\n",
      "526/528 [============================>.] - ETA: 0s - loss: 0.4291 - accuracy: 0.8281\n",
      "Epoch 67: val_accuracy did not improve from 0.72261\n",
      "528/528 [==============================] - 12s 23ms/step - loss: 0.4294 - accuracy: 0.8280 - val_loss: 0.7047 - val_accuracy: 0.7205\n",
      "Epoch 68/100\n",
      "526/528 [============================>.] - ETA: 0s - loss: 0.4308 - accuracy: 0.8301\n",
      "Epoch 68: val_accuracy did not improve from 0.72261\n",
      "528/528 [==============================] - 12s 23ms/step - loss: 0.4311 - accuracy: 0.8300 - val_loss: 0.7189 - val_accuracy: 0.7178\n",
      "Epoch 69/100\n",
      "528/528 [==============================] - ETA: 0s - loss: 0.4341 - accuracy: 0.8278\n",
      "Epoch 69: val_accuracy did not improve from 0.72261\n",
      "528/528 [==============================] - 12s 23ms/step - loss: 0.4341 - accuracy: 0.8278 - val_loss: 0.7134 - val_accuracy: 0.7183\n",
      "Epoch 70/100\n",
      "526/528 [============================>.] - ETA: 0s - loss: 0.4270 - accuracy: 0.8305\n",
      "Epoch 70: val_accuracy did not improve from 0.72261\n",
      "528/528 [==============================] - 12s 23ms/step - loss: 0.4266 - accuracy: 0.8306 - val_loss: 0.7223 - val_accuracy: 0.7176\n",
      "Epoch 71/100\n",
      "527/528 [============================>.] - ETA: 0s - loss: 0.4291 - accuracy: 0.8295\n",
      "Epoch 71: val_accuracy did not improve from 0.72261\n",
      "528/528 [==============================] - 12s 23ms/step - loss: 0.4292 - accuracy: 0.8293 - val_loss: 0.7145 - val_accuracy: 0.7205\n",
      "Epoch 72/100\n",
      "526/528 [============================>.] - ETA: 0s - loss: 0.4257 - accuracy: 0.8304\n",
      "Epoch 72: val_accuracy did not improve from 0.72261\n",
      "528/528 [==============================] - 12s 23ms/step - loss: 0.4255 - accuracy: 0.8306 - val_loss: 0.7027 - val_accuracy: 0.7162\n",
      "Epoch 73/100\n",
      "526/528 [============================>.] - ETA: 0s - loss: 0.4270 - accuracy: 0.8306\n",
      "Epoch 73: val_accuracy did not improve from 0.72261\n",
      "528/528 [==============================] - 12s 23ms/step - loss: 0.4265 - accuracy: 0.8307 - val_loss: 0.7226 - val_accuracy: 0.7210\n",
      "Epoch 74/100\n",
      "526/528 [============================>.] - ETA: 0s - loss: 0.4292 - accuracy: 0.8262\n",
      "Epoch 74: val_accuracy did not improve from 0.72261\n",
      "528/528 [==============================] - 12s 23ms/step - loss: 0.4291 - accuracy: 0.8261 - val_loss: 0.7273 - val_accuracy: 0.7176\n",
      "Epoch 75/100\n",
      "526/528 [============================>.] - ETA: 0s - loss: 0.4213 - accuracy: 0.8290\n",
      "Epoch 75: val_accuracy did not improve from 0.72261\n",
      "528/528 [==============================] - 12s 23ms/step - loss: 0.4214 - accuracy: 0.8289 - val_loss: 0.7208 - val_accuracy: 0.7221\n",
      "Epoch 76/100\n",
      "527/528 [============================>.] - ETA: 0s - loss: 0.4250 - accuracy: 0.8271\n",
      "Epoch 76: val_accuracy did not improve from 0.72261\n",
      "528/528 [==============================] - 12s 24ms/step - loss: 0.4249 - accuracy: 0.8272 - val_loss: 0.7227 - val_accuracy: 0.7182\n",
      "Epoch 77/100\n",
      "526/528 [============================>.] - ETA: 0s - loss: 0.4191 - accuracy: 0.8351\n",
      "Epoch 77: val_accuracy did not improve from 0.72261\n",
      "528/528 [==============================] - 12s 23ms/step - loss: 0.4192 - accuracy: 0.8350 - val_loss: 0.7303 - val_accuracy: 0.7159\n",
      "Epoch 78/100\n",
      "526/528 [============================>.] - ETA: 0s - loss: 0.4252 - accuracy: 0.8292\n",
      "Epoch 78: val_accuracy did not improve from 0.72261\n",
      "528/528 [==============================] - 12s 23ms/step - loss: 0.4263 - accuracy: 0.8286 - val_loss: 0.7053 - val_accuracy: 0.7196\n",
      "Epoch 79/100\n",
      "526/528 [============================>.] - ETA: 0s - loss: 0.4182 - accuracy: 0.8334\n",
      "Epoch 79: val_accuracy did not improve from 0.72261\n",
      "528/528 [==============================] - 12s 23ms/step - loss: 0.4186 - accuracy: 0.8332 - val_loss: 0.7325 - val_accuracy: 0.7199\n",
      "Epoch 80/100\n",
      "527/528 [============================>.] - ETA: 0s - loss: 0.4219 - accuracy: 0.8324\n",
      "Epoch 80: val_accuracy did not improve from 0.72261\n",
      "528/528 [==============================] - 12s 23ms/step - loss: 0.4218 - accuracy: 0.8325 - val_loss: 0.7153 - val_accuracy: 0.7171\n",
      "Epoch 81/100\n",
      "526/528 [============================>.] - ETA: 0s - loss: 0.4231 - accuracy: 0.8319\n",
      "Epoch 81: val_accuracy did not improve from 0.72261\n",
      "528/528 [==============================] - 13s 24ms/step - loss: 0.4237 - accuracy: 0.8316 - val_loss: 0.7087 - val_accuracy: 0.7210\n",
      "Epoch 82/100\n",
      "528/528 [==============================] - ETA: 0s - loss: 0.4229 - accuracy: 0.8325\n",
      "Epoch 82: val_accuracy did not improve from 0.72261\n",
      "528/528 [==============================] - 12s 23ms/step - loss: 0.4229 - accuracy: 0.8325 - val_loss: 0.7237 - val_accuracy: 0.7182\n",
      "Epoch 83/100\n",
      "528/528 [==============================] - ETA: 0s - loss: 0.4240 - accuracy: 0.8336\n",
      "Epoch 83: val_accuracy did not improve from 0.72261\n",
      "528/528 [==============================] - 12s 23ms/step - loss: 0.4240 - accuracy: 0.8336 - val_loss: 0.7338 - val_accuracy: 0.7180\n",
      "Epoch 84/100\n",
      "526/528 [============================>.] - ETA: 0s - loss: 0.4202 - accuracy: 0.8322\n",
      "Epoch 84: val_accuracy did not improve from 0.72261\n",
      "528/528 [==============================] - 12s 23ms/step - loss: 0.4200 - accuracy: 0.8324 - val_loss: 0.7115 - val_accuracy: 0.7148\n",
      "Epoch 85/100\n",
      "526/528 [============================>.] - ETA: 0s - loss: 0.4244 - accuracy: 0.8316\n",
      "Epoch 85: val_accuracy did not improve from 0.72261\n",
      "528/528 [==============================] - 12s 23ms/step - loss: 0.4241 - accuracy: 0.8320 - val_loss: 0.7217 - val_accuracy: 0.7178\n",
      "Epoch 86/100\n",
      "527/528 [============================>.] - ETA: 0s - loss: 0.4181 - accuracy: 0.8341\n",
      "Epoch 86: val_accuracy did not improve from 0.72261\n",
      "528/528 [==============================] - 13s 24ms/step - loss: 0.4181 - accuracy: 0.8341 - val_loss: 0.7256 - val_accuracy: 0.7162\n",
      "Epoch 87/100\n",
      "527/528 [============================>.] - ETA: 0s - loss: 0.4209 - accuracy: 0.8346\n",
      "Epoch 87: val_accuracy did not improve from 0.72261\n",
      "528/528 [==============================] - 13s 24ms/step - loss: 0.4207 - accuracy: 0.8346 - val_loss: 0.7248 - val_accuracy: 0.7201\n",
      "Epoch 88/100\n",
      "528/528 [==============================] - ETA: 0s - loss: 0.4186 - accuracy: 0.8337\n",
      "Epoch 88: val_accuracy did not improve from 0.72261\n",
      "528/528 [==============================] - 12s 23ms/step - loss: 0.4186 - accuracy: 0.8337 - val_loss: 0.7227 - val_accuracy: 0.7153\n",
      "Epoch 89/100\n",
      "527/528 [============================>.] - ETA: 0s - loss: 0.4175 - accuracy: 0.8331\n",
      "Epoch 89: val_accuracy did not improve from 0.72261\n",
      "528/528 [==============================] - 12s 24ms/step - loss: 0.4175 - accuracy: 0.8331 - val_loss: 0.7265 - val_accuracy: 0.7194\n",
      "Epoch 90/100\n",
      "526/528 [============================>.] - ETA: 0s - loss: 0.4221 - accuracy: 0.8326\n",
      "Epoch 90: val_accuracy did not improve from 0.72261\n",
      "528/528 [==============================] - 12s 23ms/step - loss: 0.4219 - accuracy: 0.8328 - val_loss: 0.7147 - val_accuracy: 0.7187\n",
      "Epoch 91/100\n",
      "526/528 [============================>.] - ETA: 0s - loss: 0.4157 - accuracy: 0.8353\n",
      "Epoch 91: val_accuracy did not improve from 0.72261\n",
      "528/528 [==============================] - 13s 24ms/step - loss: 0.4164 - accuracy: 0.8348 - val_loss: 0.7161 - val_accuracy: 0.7180\n",
      "Epoch 92/100\n",
      "528/528 [==============================] - ETA: 0s - loss: 0.4156 - accuracy: 0.8356\n",
      "Epoch 92: val_accuracy did not improve from 0.72261\n",
      "528/528 [==============================] - 12s 23ms/step - loss: 0.4156 - accuracy: 0.8356 - val_loss: 0.7315 - val_accuracy: 0.7175\n",
      "Epoch 93/100\n",
      "526/528 [============================>.] - ETA: 0s - loss: 0.4182 - accuracy: 0.8345\n",
      "Epoch 93: val_accuracy did not improve from 0.72261\n",
      "528/528 [==============================] - 12s 23ms/step - loss: 0.4184 - accuracy: 0.8344 - val_loss: 0.7180 - val_accuracy: 0.7207\n",
      "Epoch 94/100\n",
      "526/528 [============================>.] - ETA: 0s - loss: 0.4138 - accuracy: 0.8365\n",
      "Epoch 94: val_accuracy did not improve from 0.72261\n",
      "528/528 [==============================] - 12s 23ms/step - loss: 0.4136 - accuracy: 0.8366 - val_loss: 0.7441 - val_accuracy: 0.7166\n",
      "Epoch 95/100\n",
      "528/528 [==============================] - ETA: 0s - loss: 0.4154 - accuracy: 0.8361\n",
      "Epoch 95: val_accuracy did not improve from 0.72261\n",
      "528/528 [==============================] - 12s 23ms/step - loss: 0.4154 - accuracy: 0.8361 - val_loss: 0.7313 - val_accuracy: 0.7150\n",
      "Epoch 96/100\n",
      "526/528 [============================>.] - ETA: 0s - loss: 0.4172 - accuracy: 0.8341\n",
      "Epoch 96: val_accuracy did not improve from 0.72261\n",
      "528/528 [==============================] - 12s 23ms/step - loss: 0.4174 - accuracy: 0.8341 - val_loss: 0.7324 - val_accuracy: 0.7185\n",
      "Epoch 97/100\n",
      "526/528 [============================>.] - ETA: 0s - loss: 0.4142 - accuracy: 0.8323\n",
      "Epoch 97: val_accuracy did not improve from 0.72261\n",
      "528/528 [==============================] - 12s 23ms/step - loss: 0.4140 - accuracy: 0.8325 - val_loss: 0.7359 - val_accuracy: 0.7171\n",
      "Epoch 98/100\n",
      "528/528 [==============================] - ETA: 0s - loss: 0.4111 - accuracy: 0.8345\n",
      "Epoch 98: val_accuracy did not improve from 0.72261\n",
      "528/528 [==============================] - 12s 23ms/step - loss: 0.4111 - accuracy: 0.8345 - val_loss: 0.7260 - val_accuracy: 0.7160\n",
      "Epoch 99/100\n",
      "526/528 [============================>.] - ETA: 0s - loss: 0.4098 - accuracy: 0.8367\n",
      "Epoch 99: val_accuracy did not improve from 0.72261\n",
      "528/528 [==============================] - 12s 23ms/step - loss: 0.4093 - accuracy: 0.8370 - val_loss: 0.7492 - val_accuracy: 0.7162\n",
      "Epoch 100/100\n",
      "528/528 [==============================] - ETA: 0s - loss: 0.4117 - accuracy: 0.8352\n",
      "Epoch 100: val_accuracy did not improve from 0.72261\n",
      "528/528 [==============================] - 12s 24ms/step - loss: 0.4117 - accuracy: 0.8352 - val_loss: 0.7207 - val_accuracy: 0.7120\n"
     ]
    }
   ],
   "source": [
    "from keras.models import Sequential\n",
    "from keras import layers\n",
    "from keras import regularizers\n",
    "from keras import backend as K\n",
    "from keras.callbacks import ModelCheckpoint\n",
    "from keras.layers import Embedding\n",
    "\n",
    "embedding_layer = Embedding(1000, 64)\n",
    "\n",
    "lstm_model = Sequential()\n",
    "lstm_model.add(layers.Embedding(max_words, 20)) #The embedding layer\n",
    "lstm_model.add(layers.LSTM(15,dropout=0.5)) #Our LSTM layer\n",
    "lstm_model.add(layers.Dense(3,activation='softmax'))\n",
    "\n",
    "\n",
    "lstm_model.compile(optimizer='rmsprop',loss='categorical_crossentropy', metrics=['accuracy'])\n",
    "\n",
    "checkpoint1 = ModelCheckpoint(\"best_model1.hdf5\", monitor='val_accuracy', verbose=1,save_best_only=True, mode='auto', period=1,save_weights_only=False)\n",
    "history = lstm_model.fit(X_train, y_train, epochs=100,validation_data=(X_test, y_test),callbacks=[checkpoint1])"
   ]
  },
  {
   "cell_type": "markdown",
   "metadata": {},
   "source": [
    "#### Bidirectional LTSM model\n",
    "\n",
    "Bidirectional Long Short-Term Memory (BiLSTM) is an extension of the traditional LSTM architecture that enhances the ability to capture contextual information in sequential data by processing input sequences in both forward and backward directions. The model has a unique capability to consider both past and future context when making predictions.\n",
    "\n",
    "Bidirectional LSTMs offer significant advantages for sentiment analysis on tweets by considering the complete context of words in both directions. This approach is well-suited for capturing the intricate sentiment patterns present in short and informal text, making it a valuable tool for understanding public sentiment trends and opinions on social media platforms."
   ]
  },
  {
   "cell_type": "code",
   "execution_count": 142,
   "metadata": {},
   "outputs": [
    {
     "name": "stdout",
     "output_type": "stream",
     "text": [
      "WARNING:tensorflow:`period` argument is deprecated. Please use `save_freq` to specify the frequency in number of batches seen.\n",
      "Epoch 1/100\n",
      "528/528 [==============================] - ETA: 0s - loss: 0.9628 - accuracy: 0.5139\n",
      "Epoch 1: val_accuracy improved from -inf to 0.58995, saving model to best_model2.hdf5\n",
      "528/528 [==============================] - 17s 29ms/step - loss: 0.9628 - accuracy: 0.5139 - val_loss: 0.8412 - val_accuracy: 0.5899\n",
      "Epoch 2/100\n",
      "528/528 [==============================] - ETA: 0s - loss: 0.7622 - accuracy: 0.6552\n",
      "Epoch 2: val_accuracy improved from 0.58995 to 0.67608, saving model to best_model2.hdf5\n",
      "528/528 [==============================] - 15s 28ms/step - loss: 0.7622 - accuracy: 0.6552 - val_loss: 0.7377 - val_accuracy: 0.6761\n",
      "Epoch 3/100\n",
      "528/528 [==============================] - ETA: 0s - loss: 0.6858 - accuracy: 0.7024\n",
      "Epoch 3: val_accuracy improved from 0.67608 to 0.69490, saving model to best_model2.hdf5\n",
      "528/528 [==============================] - 15s 28ms/step - loss: 0.6858 - accuracy: 0.7024 - val_loss: 0.7008 - val_accuracy: 0.6949\n",
      "Epoch 4/100\n",
      "527/528 [============================>.] - ETA: 0s - loss: 0.6399 - accuracy: 0.7228\n",
      "Epoch 4: val_accuracy improved from 0.69490 to 0.70130, saving model to best_model2.hdf5\n",
      "528/528 [==============================] - 15s 28ms/step - loss: 0.6402 - accuracy: 0.7225 - val_loss: 0.6872 - val_accuracy: 0.7013\n",
      "Epoch 5/100\n",
      "527/528 [============================>.] - ETA: 0s - loss: 0.6107 - accuracy: 0.7398\n",
      "Epoch 5: val_accuracy improved from 0.70130 to 0.70947, saving model to best_model2.hdf5\n",
      "528/528 [==============================] - 15s 28ms/step - loss: 0.6109 - accuracy: 0.7397 - val_loss: 0.6760 - val_accuracy: 0.7095\n",
      "Epoch 6/100\n",
      "528/528 [==============================] - ETA: 0s - loss: 0.5902 - accuracy: 0.7524\n",
      "Epoch 6: val_accuracy did not improve from 0.70947\n",
      "528/528 [==============================] - 15s 29ms/step - loss: 0.5902 - accuracy: 0.7524 - val_loss: 0.6696 - val_accuracy: 0.7093\n",
      "Epoch 7/100\n",
      "528/528 [==============================] - ETA: 0s - loss: 0.5765 - accuracy: 0.7565\n",
      "Epoch 7: val_accuracy improved from 0.70947 to 0.71000, saving model to best_model2.hdf5\n",
      "528/528 [==============================] - 17s 32ms/step - loss: 0.5765 - accuracy: 0.7565 - val_loss: 0.6694 - val_accuracy: 0.7100\n",
      "Epoch 8/100\n",
      "528/528 [==============================] - ETA: 0s - loss: 0.5652 - accuracy: 0.7616\n",
      "Epoch 8: val_accuracy improved from 0.71000 to 0.71337, saving model to best_model2.hdf5\n",
      "528/528 [==============================] - 19s 36ms/step - loss: 0.5652 - accuracy: 0.7616 - val_loss: 0.6600 - val_accuracy: 0.7134\n",
      "Epoch 9/100\n",
      "528/528 [==============================] - ETA: 0s - loss: 0.5548 - accuracy: 0.7665\n",
      "Epoch 9: val_accuracy did not improve from 0.71337\n",
      "528/528 [==============================] - 15s 29ms/step - loss: 0.5548 - accuracy: 0.7665 - val_loss: 0.6596 - val_accuracy: 0.7128\n",
      "Epoch 10/100\n",
      "528/528 [==============================] - ETA: 0s - loss: 0.5454 - accuracy: 0.7742\n",
      "Epoch 10: val_accuracy did not improve from 0.71337\n",
      "528/528 [==============================] - 15s 29ms/step - loss: 0.5454 - accuracy: 0.7742 - val_loss: 0.6566 - val_accuracy: 0.7121\n",
      "Epoch 11/100\n",
      "527/528 [============================>.] - ETA: 0s - loss: 0.5376 - accuracy: 0.7769\n",
      "Epoch 11: val_accuracy did not improve from 0.71337\n",
      "528/528 [==============================] - 15s 28ms/step - loss: 0.5374 - accuracy: 0.7771 - val_loss: 0.6596 - val_accuracy: 0.7134\n",
      "Epoch 12/100\n",
      "527/528 [============================>.] - ETA: 0s - loss: 0.5309 - accuracy: 0.7799\n",
      "Epoch 12: val_accuracy improved from 0.71337 to 0.71870, saving model to best_model2.hdf5\n",
      "528/528 [==============================] - 16s 30ms/step - loss: 0.5307 - accuracy: 0.7800 - val_loss: 0.6656 - val_accuracy: 0.7187\n",
      "Epoch 13/100\n",
      "527/528 [============================>.] - ETA: 0s - loss: 0.5269 - accuracy: 0.7822\n",
      "Epoch 13: val_accuracy did not improve from 0.71870\n",
      "528/528 [==============================] - 21s 39ms/step - loss: 0.5268 - accuracy: 0.7823 - val_loss: 0.6506 - val_accuracy: 0.7164\n",
      "Epoch 14/100\n",
      "528/528 [==============================] - ETA: 0s - loss: 0.5205 - accuracy: 0.7846\n",
      "Epoch 14: val_accuracy did not improve from 0.71870\n",
      "528/528 [==============================] - 17s 32ms/step - loss: 0.5205 - accuracy: 0.7846 - val_loss: 0.6562 - val_accuracy: 0.7171\n",
      "Epoch 15/100\n",
      "528/528 [==============================] - ETA: 0s - loss: 0.5120 - accuracy: 0.7901\n",
      "Epoch 15: val_accuracy did not improve from 0.71870\n",
      "528/528 [==============================] - 15s 29ms/step - loss: 0.5120 - accuracy: 0.7901 - val_loss: 0.6609 - val_accuracy: 0.7183\n",
      "Epoch 16/100\n",
      "528/528 [==============================] - ETA: 0s - loss: 0.5108 - accuracy: 0.7880\n",
      "Epoch 16: val_accuracy did not improve from 0.71870\n",
      "528/528 [==============================] - 15s 29ms/step - loss: 0.5108 - accuracy: 0.7880 - val_loss: 0.6577 - val_accuracy: 0.7185\n",
      "Epoch 17/100\n",
      "527/528 [============================>.] - ETA: 0s - loss: 0.5073 - accuracy: 0.7893\n",
      "Epoch 17: val_accuracy improved from 0.71870 to 0.71994, saving model to best_model2.hdf5\n",
      "528/528 [==============================] - 16s 30ms/step - loss: 0.5071 - accuracy: 0.7894 - val_loss: 0.6637 - val_accuracy: 0.7199\n",
      "Epoch 18/100\n",
      "528/528 [==============================] - ETA: 0s - loss: 0.5034 - accuracy: 0.7933\n",
      "Epoch 18: val_accuracy did not improve from 0.71994\n",
      "528/528 [==============================] - 16s 29ms/step - loss: 0.5034 - accuracy: 0.7933 - val_loss: 0.6656 - val_accuracy: 0.7171\n",
      "Epoch 19/100\n",
      "528/528 [==============================] - ETA: 0s - loss: 0.5026 - accuracy: 0.7920\n",
      "Epoch 19: val_accuracy improved from 0.71994 to 0.72065, saving model to best_model2.hdf5\n",
      "528/528 [==============================] - 15s 29ms/step - loss: 0.5026 - accuracy: 0.7920 - val_loss: 0.6554 - val_accuracy: 0.7207\n",
      "Epoch 20/100\n",
      "528/528 [==============================] - ETA: 0s - loss: 0.4933 - accuracy: 0.7951\n",
      "Epoch 20: val_accuracy improved from 0.72065 to 0.72261, saving model to best_model2.hdf5\n",
      "528/528 [==============================] - 15s 28ms/step - loss: 0.4933 - accuracy: 0.7951 - val_loss: 0.6635 - val_accuracy: 0.7226\n",
      "Epoch 21/100\n",
      "527/528 [============================>.] - ETA: 0s - loss: 0.4914 - accuracy: 0.7982\n",
      "Epoch 21: val_accuracy did not improve from 0.72261\n",
      "528/528 [==============================] - 15s 29ms/step - loss: 0.4912 - accuracy: 0.7983 - val_loss: 0.6708 - val_accuracy: 0.7191\n",
      "Epoch 22/100\n",
      "528/528 [==============================] - ETA: 0s - loss: 0.4881 - accuracy: 0.8002\n",
      "Epoch 22: val_accuracy did not improve from 0.72261\n",
      "528/528 [==============================] - 15s 29ms/step - loss: 0.4881 - accuracy: 0.8002 - val_loss: 0.6774 - val_accuracy: 0.7223\n",
      "Epoch 23/100\n",
      "528/528 [==============================] - ETA: 0s - loss: 0.4851 - accuracy: 0.8022\n",
      "Epoch 23: val_accuracy did not improve from 0.72261\n",
      "528/528 [==============================] - 15s 29ms/step - loss: 0.4851 - accuracy: 0.8022 - val_loss: 0.6684 - val_accuracy: 0.7221\n",
      "Epoch 24/100\n",
      "528/528 [==============================] - ETA: 0s - loss: 0.4786 - accuracy: 0.8036\n",
      "Epoch 24: val_accuracy did not improve from 0.72261\n",
      "528/528 [==============================] - 15s 28ms/step - loss: 0.4786 - accuracy: 0.8036 - val_loss: 0.6729 - val_accuracy: 0.7194\n",
      "Epoch 25/100\n",
      "527/528 [============================>.] - ETA: 0s - loss: 0.4798 - accuracy: 0.8023\n",
      "Epoch 25: val_accuracy improved from 0.72261 to 0.72332, saving model to best_model2.hdf5\n",
      "528/528 [==============================] - 15s 28ms/step - loss: 0.4794 - accuracy: 0.8025 - val_loss: 0.6700 - val_accuracy: 0.7233\n",
      "Epoch 26/100\n",
      "527/528 [============================>.] - ETA: 0s - loss: 0.4753 - accuracy: 0.8076\n",
      "Epoch 26: val_accuracy did not improve from 0.72332\n",
      "528/528 [==============================] - 16s 30ms/step - loss: 0.4752 - accuracy: 0.8077 - val_loss: 0.6678 - val_accuracy: 0.7196\n",
      "Epoch 27/100\n",
      "528/528 [==============================] - ETA: 0s - loss: 0.4728 - accuracy: 0.8087\n",
      "Epoch 27: val_accuracy did not improve from 0.72332\n",
      "528/528 [==============================] - 15s 28ms/step - loss: 0.4728 - accuracy: 0.8087 - val_loss: 0.6685 - val_accuracy: 0.7217\n",
      "Epoch 28/100\n",
      "528/528 [==============================] - ETA: 0s - loss: 0.4706 - accuracy: 0.8080\n",
      "Epoch 28: val_accuracy improved from 0.72332 to 0.72349, saving model to best_model2.hdf5\n",
      "528/528 [==============================] - 18s 34ms/step - loss: 0.4706 - accuracy: 0.8080 - val_loss: 0.6729 - val_accuracy: 0.7235\n",
      "Epoch 29/100\n",
      "528/528 [==============================] - ETA: 0s - loss: 0.4706 - accuracy: 0.8077\n",
      "Epoch 29: val_accuracy did not improve from 0.72349\n",
      "528/528 [==============================] - 17s 33ms/step - loss: 0.4706 - accuracy: 0.8077 - val_loss: 0.6706 - val_accuracy: 0.7215\n",
      "Epoch 30/100\n",
      "528/528 [==============================] - ETA: 0s - loss: 0.4694 - accuracy: 0.8088\n",
      "Epoch 30: val_accuracy improved from 0.72349 to 0.72385, saving model to best_model2.hdf5\n",
      "528/528 [==============================] - 15s 29ms/step - loss: 0.4694 - accuracy: 0.8088 - val_loss: 0.6761 - val_accuracy: 0.7239\n",
      "Epoch 31/100\n",
      "528/528 [==============================] - ETA: 0s - loss: 0.4642 - accuracy: 0.8145\n",
      "Epoch 31: val_accuracy did not improve from 0.72385\n",
      "528/528 [==============================] - 19s 36ms/step - loss: 0.4642 - accuracy: 0.8145 - val_loss: 0.6799 - val_accuracy: 0.7237\n",
      "Epoch 32/100\n",
      "528/528 [==============================] - ETA: 0s - loss: 0.4616 - accuracy: 0.8083\n",
      "Epoch 32: val_accuracy did not improve from 0.72385\n",
      "528/528 [==============================] - 15s 29ms/step - loss: 0.4616 - accuracy: 0.8083 - val_loss: 0.6810 - val_accuracy: 0.7230\n",
      "Epoch 33/100\n",
      "528/528 [==============================] - ETA: 0s - loss: 0.4616 - accuracy: 0.8118\n",
      "Epoch 33: val_accuracy did not improve from 0.72385\n",
      "528/528 [==============================] - 15s 29ms/step - loss: 0.4616 - accuracy: 0.8118 - val_loss: 0.6701 - val_accuracy: 0.7212\n",
      "Epoch 34/100\n",
      "528/528 [==============================] - ETA: 0s - loss: 0.4601 - accuracy: 0.8131\n",
      "Epoch 34: val_accuracy improved from 0.72385 to 0.72438, saving model to best_model2.hdf5\n",
      "528/528 [==============================] - 16s 31ms/step - loss: 0.4601 - accuracy: 0.8131 - val_loss: 0.6714 - val_accuracy: 0.7244\n",
      "Epoch 35/100\n",
      "528/528 [==============================] - ETA: 0s - loss: 0.4576 - accuracy: 0.8142\n",
      "Epoch 35: val_accuracy did not improve from 0.72438\n",
      "528/528 [==============================] - 15s 28ms/step - loss: 0.4576 - accuracy: 0.8142 - val_loss: 0.6794 - val_accuracy: 0.7210\n",
      "Epoch 36/100\n",
      "528/528 [==============================] - ETA: 0s - loss: 0.4531 - accuracy: 0.8164\n",
      "Epoch 36: val_accuracy improved from 0.72438 to 0.72545, saving model to best_model2.hdf5\n",
      "528/528 [==============================] - 15s 29ms/step - loss: 0.4531 - accuracy: 0.8164 - val_loss: 0.6786 - val_accuracy: 0.7254\n",
      "Epoch 37/100\n",
      "527/528 [============================>.] - ETA: 0s - loss: 0.4531 - accuracy: 0.8174\n",
      "Epoch 37: val_accuracy did not improve from 0.72545\n",
      "528/528 [==============================] - 17s 32ms/step - loss: 0.4536 - accuracy: 0.8172 - val_loss: 0.6871 - val_accuracy: 0.7251\n",
      "Epoch 38/100\n",
      "527/528 [============================>.] - ETA: 0s - loss: 0.4448 - accuracy: 0.8229\n",
      "Epoch 38: val_accuracy did not improve from 0.72545\n",
      "528/528 [==============================] - 15s 29ms/step - loss: 0.4453 - accuracy: 0.8228 - val_loss: 0.6952 - val_accuracy: 0.7244\n",
      "Epoch 39/100\n",
      "528/528 [==============================] - ETA: 0s - loss: 0.4521 - accuracy: 0.8152\n",
      "Epoch 39: val_accuracy did not improve from 0.72545\n",
      "528/528 [==============================] - 15s 29ms/step - loss: 0.4521 - accuracy: 0.8152 - val_loss: 0.6791 - val_accuracy: 0.7242\n",
      "Epoch 40/100\n",
      "527/528 [============================>.] - ETA: 0s - loss: 0.4489 - accuracy: 0.8203\n",
      "Epoch 40: val_accuracy did not improve from 0.72545\n",
      "528/528 [==============================] - 15s 29ms/step - loss: 0.4486 - accuracy: 0.8204 - val_loss: 0.6831 - val_accuracy: 0.7242\n",
      "Epoch 41/100\n",
      "528/528 [==============================] - ETA: 0s - loss: 0.4432 - accuracy: 0.8237\n",
      "Epoch 41: val_accuracy improved from 0.72545 to 0.72740, saving model to best_model2.hdf5\n",
      "528/528 [==============================] - 16s 30ms/step - loss: 0.4432 - accuracy: 0.8237 - val_loss: 0.6793 - val_accuracy: 0.7274\n",
      "Epoch 42/100\n",
      "528/528 [==============================] - ETA: 0s - loss: 0.4432 - accuracy: 0.8227\n",
      "Epoch 42: val_accuracy did not improve from 0.72740\n",
      "528/528 [==============================] - 16s 31ms/step - loss: 0.4432 - accuracy: 0.8227 - val_loss: 0.6749 - val_accuracy: 0.7263\n",
      "Epoch 43/100\n",
      "528/528 [==============================] - ETA: 0s - loss: 0.4429 - accuracy: 0.8222\n",
      "Epoch 43: val_accuracy did not improve from 0.72740\n",
      "528/528 [==============================] - 16s 29ms/step - loss: 0.4429 - accuracy: 0.8222 - val_loss: 0.6922 - val_accuracy: 0.7224\n",
      "Epoch 44/100\n",
      "528/528 [==============================] - ETA: 0s - loss: 0.4382 - accuracy: 0.8224\n",
      "Epoch 44: val_accuracy did not improve from 0.72740\n",
      "528/528 [==============================] - 16s 30ms/step - loss: 0.4382 - accuracy: 0.8224 - val_loss: 0.6947 - val_accuracy: 0.7254\n",
      "Epoch 45/100\n",
      "527/528 [============================>.] - ETA: 0s - loss: 0.4424 - accuracy: 0.8207\n",
      "Epoch 45: val_accuracy did not improve from 0.72740\n",
      "528/528 [==============================] - 17s 32ms/step - loss: 0.4422 - accuracy: 0.8208 - val_loss: 0.6868 - val_accuracy: 0.7249\n",
      "Epoch 46/100\n",
      "528/528 [==============================] - ETA: 0s - loss: 0.4416 - accuracy: 0.8222\n",
      "Epoch 46: val_accuracy did not improve from 0.72740\n",
      "528/528 [==============================] - 15s 29ms/step - loss: 0.4416 - accuracy: 0.8222 - val_loss: 0.6934 - val_accuracy: 0.7239\n",
      "Epoch 47/100\n",
      "527/528 [============================>.] - ETA: 0s - loss: 0.4337 - accuracy: 0.8247\n",
      "Epoch 47: val_accuracy did not improve from 0.72740\n",
      "528/528 [==============================] - 16s 30ms/step - loss: 0.4337 - accuracy: 0.8245 - val_loss: 0.6911 - val_accuracy: 0.7246\n",
      "Epoch 48/100\n",
      "528/528 [==============================] - ETA: 0s - loss: 0.4326 - accuracy: 0.8258\n",
      "Epoch 48: val_accuracy did not improve from 0.72740\n",
      "528/528 [==============================] - 15s 29ms/step - loss: 0.4326 - accuracy: 0.8258 - val_loss: 0.6929 - val_accuracy: 0.7233\n",
      "Epoch 49/100\n",
      "528/528 [==============================] - ETA: 0s - loss: 0.4273 - accuracy: 0.8270\n",
      "Epoch 49: val_accuracy did not improve from 0.72740\n",
      "528/528 [==============================] - 16s 30ms/step - loss: 0.4273 - accuracy: 0.8270 - val_loss: 0.6951 - val_accuracy: 0.7247\n",
      "Epoch 50/100\n",
      "528/528 [==============================] - ETA: 0s - loss: 0.4283 - accuracy: 0.8285\n",
      "Epoch 50: val_accuracy did not improve from 0.72740\n",
      "528/528 [==============================] - 16s 30ms/step - loss: 0.4283 - accuracy: 0.8285 - val_loss: 0.6992 - val_accuracy: 0.7240\n",
      "Epoch 51/100\n",
      "527/528 [============================>.] - ETA: 0s - loss: 0.4287 - accuracy: 0.8305\n",
      "Epoch 51: val_accuracy did not improve from 0.72740\n",
      "528/528 [==============================] - 15s 29ms/step - loss: 0.4289 - accuracy: 0.8303 - val_loss: 0.6929 - val_accuracy: 0.7267\n",
      "Epoch 52/100\n",
      "527/528 [============================>.] - ETA: 0s - loss: 0.4280 - accuracy: 0.8287\n",
      "Epoch 52: val_accuracy did not improve from 0.72740\n",
      "528/528 [==============================] - 15s 28ms/step - loss: 0.4279 - accuracy: 0.8287 - val_loss: 0.6949 - val_accuracy: 0.7253\n",
      "Epoch 53/100\n",
      "527/528 [============================>.] - ETA: 0s - loss: 0.4251 - accuracy: 0.8325\n",
      "Epoch 53: val_accuracy did not improve from 0.72740\n",
      "528/528 [==============================] - 16s 31ms/step - loss: 0.4247 - accuracy: 0.8327 - val_loss: 0.6990 - val_accuracy: 0.7263\n",
      "Epoch 54/100\n",
      "528/528 [==============================] - ETA: 0s - loss: 0.4242 - accuracy: 0.8321\n",
      "Epoch 54: val_accuracy did not improve from 0.72740\n",
      "528/528 [==============================] - 15s 29ms/step - loss: 0.4242 - accuracy: 0.8321 - val_loss: 0.7045 - val_accuracy: 0.7246\n",
      "Epoch 55/100\n",
      "527/528 [============================>.] - ETA: 0s - loss: 0.4190 - accuracy: 0.8323\n",
      "Epoch 55: val_accuracy did not improve from 0.72740\n",
      "528/528 [==============================] - 16s 30ms/step - loss: 0.4191 - accuracy: 0.8322 - val_loss: 0.7062 - val_accuracy: 0.7240\n",
      "Epoch 56/100\n",
      "528/528 [==============================] - ETA: 0s - loss: 0.4189 - accuracy: 0.8341\n",
      "Epoch 56: val_accuracy did not improve from 0.72740\n",
      "528/528 [==============================] - 15s 29ms/step - loss: 0.4189 - accuracy: 0.8341 - val_loss: 0.7040 - val_accuracy: 0.7247\n",
      "Epoch 57/100\n",
      "528/528 [==============================] - ETA: 0s - loss: 0.4247 - accuracy: 0.8316\n",
      "Epoch 57: val_accuracy did not improve from 0.72740\n",
      "528/528 [==============================] - 16s 30ms/step - loss: 0.4247 - accuracy: 0.8316 - val_loss: 0.7009 - val_accuracy: 0.7269\n",
      "Epoch 58/100\n",
      "528/528 [==============================] - ETA: 0s - loss: 0.4195 - accuracy: 0.8312\n",
      "Epoch 58: val_accuracy did not improve from 0.72740\n",
      "528/528 [==============================] - 15s 29ms/step - loss: 0.4195 - accuracy: 0.8312 - val_loss: 0.7158 - val_accuracy: 0.7251\n",
      "Epoch 59/100\n",
      "527/528 [============================>.] - ETA: 0s - loss: 0.4167 - accuracy: 0.8331\n",
      "Epoch 59: val_accuracy did not improve from 0.72740\n",
      "528/528 [==============================] - 15s 29ms/step - loss: 0.4164 - accuracy: 0.8333 - val_loss: 0.7081 - val_accuracy: 0.7249\n",
      "Epoch 60/100\n",
      "527/528 [============================>.] - ETA: 0s - loss: 0.4161 - accuracy: 0.8357\n",
      "Epoch 60: val_accuracy did not improve from 0.72740\n",
      "528/528 [==============================] - 15s 29ms/step - loss: 0.4160 - accuracy: 0.8358 - val_loss: 0.7072 - val_accuracy: 0.7265\n",
      "Epoch 61/100\n",
      "527/528 [============================>.] - ETA: 0s - loss: 0.4162 - accuracy: 0.8337\n",
      "Epoch 61: val_accuracy did not improve from 0.72740\n",
      "528/528 [==============================] - 17s 32ms/step - loss: 0.4167 - accuracy: 0.8338 - val_loss: 0.7014 - val_accuracy: 0.7240\n",
      "Epoch 62/100\n",
      "528/528 [==============================] - ETA: 0s - loss: 0.4183 - accuracy: 0.8336\n",
      "Epoch 62: val_accuracy did not improve from 0.72740\n",
      "528/528 [==============================] - 15s 29ms/step - loss: 0.4183 - accuracy: 0.8336 - val_loss: 0.7052 - val_accuracy: 0.7221\n",
      "Epoch 63/100\n",
      "527/528 [============================>.] - ETA: 0s - loss: 0.4122 - accuracy: 0.8343\n",
      "Epoch 63: val_accuracy did not improve from 0.72740\n",
      "528/528 [==============================] - 16s 30ms/step - loss: 0.4122 - accuracy: 0.8343 - val_loss: 0.7107 - val_accuracy: 0.7244\n",
      "Epoch 64/100\n",
      "527/528 [============================>.] - ETA: 0s - loss: 0.4162 - accuracy: 0.8334\n",
      "Epoch 64: val_accuracy did not improve from 0.72740\n",
      "528/528 [==============================] - 16s 30ms/step - loss: 0.4161 - accuracy: 0.8334 - val_loss: 0.7116 - val_accuracy: 0.7256\n",
      "Epoch 65/100\n",
      "528/528 [==============================] - ETA: 0s - loss: 0.4096 - accuracy: 0.8386\n",
      "Epoch 65: val_accuracy did not improve from 0.72740\n",
      "528/528 [==============================] - 15s 29ms/step - loss: 0.4096 - accuracy: 0.8386 - val_loss: 0.7154 - val_accuracy: 0.7230\n",
      "Epoch 66/100\n",
      "528/528 [==============================] - ETA: 0s - loss: 0.4078 - accuracy: 0.8382\n",
      "Epoch 66: val_accuracy did not improve from 0.72740\n",
      "528/528 [==============================] - 15s 29ms/step - loss: 0.4078 - accuracy: 0.8382 - val_loss: 0.7217 - val_accuracy: 0.7230\n",
      "Epoch 67/100\n",
      "528/528 [==============================] - ETA: 0s - loss: 0.4156 - accuracy: 0.8356\n",
      "Epoch 67: val_accuracy did not improve from 0.72740\n",
      "528/528 [==============================] - 15s 28ms/step - loss: 0.4156 - accuracy: 0.8356 - val_loss: 0.7090 - val_accuracy: 0.7253\n",
      "Epoch 68/100\n",
      "528/528 [==============================] - ETA: 0s - loss: 0.4156 - accuracy: 0.8360\n",
      "Epoch 68: val_accuracy did not improve from 0.72740\n",
      "528/528 [==============================] - 16s 30ms/step - loss: 0.4156 - accuracy: 0.8360 - val_loss: 0.7219 - val_accuracy: 0.7208\n",
      "Epoch 69/100\n",
      "528/528 [==============================] - ETA: 0s - loss: 0.4033 - accuracy: 0.8419\n",
      "Epoch 69: val_accuracy did not improve from 0.72740\n",
      "528/528 [==============================] - 16s 30ms/step - loss: 0.4033 - accuracy: 0.8419 - val_loss: 0.7251 - val_accuracy: 0.7253\n",
      "Epoch 70/100\n",
      "528/528 [==============================] - ETA: 0s - loss: 0.4084 - accuracy: 0.8385\n",
      "Epoch 70: val_accuracy did not improve from 0.72740\n",
      "528/528 [==============================] - 15s 29ms/step - loss: 0.4084 - accuracy: 0.8385 - val_loss: 0.7207 - val_accuracy: 0.7244\n",
      "Epoch 71/100\n",
      "528/528 [==============================] - ETA: 0s - loss: 0.4037 - accuracy: 0.8393\n",
      "Epoch 71: val_accuracy did not improve from 0.72740\n",
      "528/528 [==============================] - 16s 30ms/step - loss: 0.4037 - accuracy: 0.8393 - val_loss: 0.7174 - val_accuracy: 0.7233\n",
      "Epoch 72/100\n",
      "528/528 [==============================] - ETA: 0s - loss: 0.4040 - accuracy: 0.8380\n",
      "Epoch 72: val_accuracy did not improve from 0.72740\n",
      "528/528 [==============================] - 17s 32ms/step - loss: 0.4040 - accuracy: 0.8380 - val_loss: 0.7110 - val_accuracy: 0.7223\n",
      "Epoch 73/100\n",
      "528/528 [==============================] - ETA: 0s - loss: 0.4023 - accuracy: 0.8425\n",
      "Epoch 73: val_accuracy did not improve from 0.72740\n",
      "528/528 [==============================] - 15s 29ms/step - loss: 0.4023 - accuracy: 0.8425 - val_loss: 0.7322 - val_accuracy: 0.7215\n",
      "Epoch 74/100\n",
      "527/528 [============================>.] - ETA: 0s - loss: 0.4032 - accuracy: 0.8437\n",
      "Epoch 74: val_accuracy did not improve from 0.72740\n",
      "528/528 [==============================] - 16s 30ms/step - loss: 0.4034 - accuracy: 0.8436 - val_loss: 0.7262 - val_accuracy: 0.7208\n",
      "Epoch 75/100\n",
      "528/528 [==============================] - ETA: 0s - loss: 0.4030 - accuracy: 0.8396\n",
      "Epoch 75: val_accuracy did not improve from 0.72740\n",
      "528/528 [==============================] - 16s 30ms/step - loss: 0.4030 - accuracy: 0.8396 - val_loss: 0.7312 - val_accuracy: 0.7231\n",
      "Epoch 76/100\n",
      "527/528 [============================>.] - ETA: 0s - loss: 0.4030 - accuracy: 0.8394\n",
      "Epoch 76: val_accuracy did not improve from 0.72740\n",
      "528/528 [==============================] - 16s 30ms/step - loss: 0.4032 - accuracy: 0.8394 - val_loss: 0.7232 - val_accuracy: 0.7230\n",
      "Epoch 77/100\n",
      "527/528 [============================>.] - ETA: 0s - loss: 0.4015 - accuracy: 0.8416\n",
      "Epoch 77: val_accuracy did not improve from 0.72740\n",
      "528/528 [==============================] - 16s 31ms/step - loss: 0.4013 - accuracy: 0.8417 - val_loss: 0.7274 - val_accuracy: 0.7210\n",
      "Epoch 78/100\n",
      "527/528 [============================>.] - ETA: 0s - loss: 0.4002 - accuracy: 0.8413\n",
      "Epoch 78: val_accuracy did not improve from 0.72740\n",
      "528/528 [==============================] - 16s 30ms/step - loss: 0.4014 - accuracy: 0.8408 - val_loss: 0.7131 - val_accuracy: 0.7215\n",
      "Epoch 79/100\n",
      "527/528 [============================>.] - ETA: 0s - loss: 0.4029 - accuracy: 0.8420\n",
      "Epoch 79: val_accuracy did not improve from 0.72740\n",
      "528/528 [==============================] - 16s 30ms/step - loss: 0.4030 - accuracy: 0.8419 - val_loss: 0.7230 - val_accuracy: 0.7253\n",
      "Epoch 80/100\n",
      "528/528 [==============================] - ETA: 0s - loss: 0.3971 - accuracy: 0.8421\n",
      "Epoch 80: val_accuracy did not improve from 0.72740\n",
      "528/528 [==============================] - 16s 30ms/step - loss: 0.3971 - accuracy: 0.8421 - val_loss: 0.7248 - val_accuracy: 0.7254\n",
      "Epoch 81/100\n",
      "528/528 [==============================] - ETA: 0s - loss: 0.3926 - accuracy: 0.8452\n",
      "Epoch 81: val_accuracy did not improve from 0.72740\n",
      "528/528 [==============================] - 15s 29ms/step - loss: 0.3926 - accuracy: 0.8452 - val_loss: 0.7282 - val_accuracy: 0.7263\n",
      "Epoch 82/100\n",
      "528/528 [==============================] - ETA: 0s - loss: 0.4007 - accuracy: 0.8411\n",
      "Epoch 82: val_accuracy did not improve from 0.72740\n",
      "528/528 [==============================] - 15s 29ms/step - loss: 0.4007 - accuracy: 0.8411 - val_loss: 0.7254 - val_accuracy: 0.7256\n",
      "Epoch 83/100\n",
      "527/528 [============================>.] - ETA: 0s - loss: 0.3992 - accuracy: 0.8428\n",
      "Epoch 83: val_accuracy did not improve from 0.72740\n",
      "528/528 [==============================] - 16s 31ms/step - loss: 0.3989 - accuracy: 0.8430 - val_loss: 0.7297 - val_accuracy: 0.7217\n",
      "Epoch 84/100\n",
      "528/528 [==============================] - ETA: 0s - loss: 0.3974 - accuracy: 0.8432\n",
      "Epoch 84: val_accuracy did not improve from 0.72740\n",
      "528/528 [==============================] - 16s 30ms/step - loss: 0.3974 - accuracy: 0.8432 - val_loss: 0.7267 - val_accuracy: 0.7253\n",
      "Epoch 85/100\n",
      "527/528 [============================>.] - ETA: 0s - loss: 0.3903 - accuracy: 0.8475\n",
      "Epoch 85: val_accuracy did not improve from 0.72740\n",
      "528/528 [==============================] - 15s 29ms/step - loss: 0.3902 - accuracy: 0.8476 - val_loss: 0.7343 - val_accuracy: 0.7233\n",
      "Epoch 86/100\n",
      "528/528 [==============================] - ETA: 0s - loss: 0.3959 - accuracy: 0.8435\n",
      "Epoch 86: val_accuracy did not improve from 0.72740\n",
      "528/528 [==============================] - 16s 30ms/step - loss: 0.3959 - accuracy: 0.8435 - val_loss: 0.7375 - val_accuracy: 0.7194\n",
      "Epoch 87/100\n",
      "528/528 [==============================] - ETA: 0s - loss: 0.3965 - accuracy: 0.8440\n",
      "Epoch 87: val_accuracy did not improve from 0.72740\n",
      "528/528 [==============================] - 17s 32ms/step - loss: 0.3965 - accuracy: 0.8440 - val_loss: 0.7316 - val_accuracy: 0.7251\n",
      "Epoch 88/100\n",
      "528/528 [==============================] - ETA: 0s - loss: 0.3864 - accuracy: 0.8464\n",
      "Epoch 88: val_accuracy did not improve from 0.72740\n",
      "528/528 [==============================] - 15s 29ms/step - loss: 0.3864 - accuracy: 0.8464 - val_loss: 0.7277 - val_accuracy: 0.7212\n",
      "Epoch 89/100\n",
      "527/528 [============================>.] - ETA: 0s - loss: 0.3968 - accuracy: 0.8436\n",
      "Epoch 89: val_accuracy did not improve from 0.72740\n",
      "528/528 [==============================] - 15s 29ms/step - loss: 0.3968 - accuracy: 0.8436 - val_loss: 0.7276 - val_accuracy: 0.7215\n",
      "Epoch 90/100\n",
      "528/528 [==============================] - ETA: 0s - loss: 0.3913 - accuracy: 0.8459\n",
      "Epoch 90: val_accuracy did not improve from 0.72740\n",
      "528/528 [==============================] - 15s 29ms/step - loss: 0.3913 - accuracy: 0.8459 - val_loss: 0.7337 - val_accuracy: 0.7199\n",
      "Epoch 91/100\n",
      "527/528 [============================>.] - ETA: 0s - loss: 0.3919 - accuracy: 0.8459\n",
      "Epoch 91: val_accuracy did not improve from 0.72740\n",
      "528/528 [==============================] - 16s 31ms/step - loss: 0.3922 - accuracy: 0.8456 - val_loss: 0.7313 - val_accuracy: 0.7194\n",
      "Epoch 92/100\n",
      "528/528 [==============================] - ETA: 0s - loss: 0.3874 - accuracy: 0.8483\n",
      "Epoch 92: val_accuracy did not improve from 0.72740\n",
      "528/528 [==============================] - 16s 30ms/step - loss: 0.3874 - accuracy: 0.8483 - val_loss: 0.7414 - val_accuracy: 0.7191\n",
      "Epoch 93/100\n",
      "528/528 [==============================] - ETA: 0s - loss: 0.3941 - accuracy: 0.8425\n",
      "Epoch 93: val_accuracy did not improve from 0.72740\n",
      "528/528 [==============================] - 16s 30ms/step - loss: 0.3941 - accuracy: 0.8425 - val_loss: 0.7317 - val_accuracy: 0.7219\n",
      "Epoch 94/100\n",
      "528/528 [==============================] - ETA: 0s - loss: 0.3875 - accuracy: 0.8486\n",
      "Epoch 94: val_accuracy did not improve from 0.72740\n",
      "528/528 [==============================] - 16s 31ms/step - loss: 0.3875 - accuracy: 0.8486 - val_loss: 0.7484 - val_accuracy: 0.7239\n",
      "Epoch 95/100\n",
      "527/528 [============================>.] - ETA: 0s - loss: 0.3869 - accuracy: 0.8484\n",
      "Epoch 95: val_accuracy did not improve from 0.72740\n",
      "528/528 [==============================] - 16s 30ms/step - loss: 0.3869 - accuracy: 0.8486 - val_loss: 0.7402 - val_accuracy: 0.7253\n",
      "Epoch 96/100\n",
      "527/528 [============================>.] - ETA: 0s - loss: 0.3876 - accuracy: 0.8452\n",
      "Epoch 96: val_accuracy did not improve from 0.72740\n",
      "528/528 [==============================] - 20s 38ms/step - loss: 0.3875 - accuracy: 0.8454 - val_loss: 0.7398 - val_accuracy: 0.7210\n",
      "Epoch 97/100\n",
      "528/528 [==============================] - ETA: 0s - loss: 0.3887 - accuracy: 0.8472\n",
      "Epoch 97: val_accuracy did not improve from 0.72740\n",
      "528/528 [==============================] - 15s 28ms/step - loss: 0.3887 - accuracy: 0.8472 - val_loss: 0.7418 - val_accuracy: 0.7176\n",
      "Epoch 98/100\n",
      "528/528 [==============================] - ETA: 0s - loss: 0.3870 - accuracy: 0.8476\n",
      "Epoch 98: val_accuracy did not improve from 0.72740\n",
      "528/528 [==============================] - 16s 31ms/step - loss: 0.3870 - accuracy: 0.8476 - val_loss: 0.7342 - val_accuracy: 0.7233\n",
      "Epoch 99/100\n",
      "528/528 [==============================] - ETA: 0s - loss: 0.3841 - accuracy: 0.8486\n",
      "Epoch 99: val_accuracy did not improve from 0.72740\n",
      "528/528 [==============================] - 16s 31ms/step - loss: 0.3841 - accuracy: 0.8486 - val_loss: 0.7508 - val_accuracy: 0.7235\n",
      "Epoch 100/100\n",
      "528/528 [==============================] - ETA: 0s - loss: 0.3850 - accuracy: 0.8485\n",
      "Epoch 100: val_accuracy did not improve from 0.72740\n",
      "528/528 [==============================] - 15s 28ms/step - loss: 0.3850 - accuracy: 0.8485 - val_loss: 0.7333 - val_accuracy: 0.7191\n"
     ]
    }
   ],
   "source": [
    "model2 = Sequential()\n",
    "model2.add(layers.Embedding(max_words, 40, input_length=max_len))\n",
    "model2.add(layers.Bidirectional(layers.LSTM(20,dropout=0.6)))\n",
    "model2.add(layers.Dense(3,activation='softmax'))\n",
    "model2.compile(optimizer='rmsprop',loss='categorical_crossentropy', metrics=['accuracy'])\n",
    "checkpoint2 = ModelCheckpoint(\"best_model2.hdf5\", monitor='val_accuracy', verbose=1,save_best_only=True, mode='auto', period=1,save_weights_only=False)\n",
    "history = model2.fit(X_train, y_train, epochs=100,validation_data=(X_test, y_test),callbacks=[checkpoint2])"
   ]
  },
  {
   "cell_type": "markdown",
   "metadata": {},
   "source": [
    "#### 1D Convolutional Neural Networks"
   ]
  },
  {
   "cell_type": "code",
   "execution_count": 145,
   "metadata": {},
   "outputs": [
    {
     "name": "stdout",
     "output_type": "stream",
     "text": [
      "Epoch 1/100\n",
      "528/528 [==============================] - 2s 3ms/step - loss: 1.1745 - acc: 0.3772 - val_loss: 1.0912 - val_acc: 0.3710\n",
      "Epoch 2/100\n",
      "528/528 [==============================] - 2s 3ms/step - loss: 1.0927 - acc: 0.3762 - val_loss: 1.0912 - val_acc: 0.3710\n",
      "Epoch 3/100\n",
      "528/528 [==============================] - 2s 3ms/step - loss: 1.0928 - acc: 0.3770 - val_loss: 1.0912 - val_acc: 0.3710\n",
      "Epoch 4/100\n",
      "528/528 [==============================] - 2s 3ms/step - loss: 1.0927 - acc: 0.3765 - val_loss: 1.0922 - val_acc: 0.3710\n",
      "Epoch 5/100\n",
      "528/528 [==============================] - 2s 4ms/step - loss: 1.0927 - acc: 0.3790 - val_loss: 1.0915 - val_acc: 0.3710\n",
      "Epoch 6/100\n",
      "528/528 [==============================] - 2s 3ms/step - loss: 1.0927 - acc: 0.3784 - val_loss: 1.0908 - val_acc: 0.3710\n",
      "Epoch 7/100\n",
      "528/528 [==============================] - 2s 3ms/step - loss: 1.0926 - acc: 0.3754 - val_loss: 1.0916 - val_acc: 0.3710\n",
      "Epoch 8/100\n",
      "528/528 [==============================] - 3s 5ms/step - loss: 1.0927 - acc: 0.3738 - val_loss: 1.0910 - val_acc: 0.3710\n",
      "Epoch 9/100\n",
      "528/528 [==============================] - 2s 4ms/step - loss: 1.0927 - acc: 0.3789 - val_loss: 1.0909 - val_acc: 0.3710\n",
      "Epoch 10/100\n",
      "528/528 [==============================] - 2s 3ms/step - loss: 1.0927 - acc: 0.3763 - val_loss: 1.0914 - val_acc: 0.3710\n",
      "Epoch 11/100\n",
      "528/528 [==============================] - 2s 3ms/step - loss: 1.0927 - acc: 0.3763 - val_loss: 1.0921 - val_acc: 0.3710\n",
      "Epoch 12/100\n",
      "528/528 [==============================] - 2s 3ms/step - loss: 1.0927 - acc: 0.3784 - val_loss: 1.0910 - val_acc: 0.3710\n",
      "Epoch 13/100\n",
      "528/528 [==============================] - 2s 3ms/step - loss: 1.0927 - acc: 0.3775 - val_loss: 1.0908 - val_acc: 0.3710\n",
      "Epoch 14/100\n",
      "528/528 [==============================] - 2s 3ms/step - loss: 1.0925 - acc: 0.3777 - val_loss: 1.0914 - val_acc: 0.3710\n",
      "Epoch 15/100\n",
      "528/528 [==============================] - 2s 3ms/step - loss: 1.0927 - acc: 0.3773 - val_loss: 1.0907 - val_acc: 0.3710\n",
      "Epoch 16/100\n",
      "528/528 [==============================] - 2s 3ms/step - loss: 1.0926 - acc: 0.3779 - val_loss: 1.0907 - val_acc: 0.3761\n",
      "Epoch 17/100\n",
      "528/528 [==============================] - 2s 3ms/step - loss: 1.0927 - acc: 0.3781 - val_loss: 1.0910 - val_acc: 0.3710\n",
      "Epoch 18/100\n",
      "528/528 [==============================] - 2s 3ms/step - loss: 1.0926 - acc: 0.3783 - val_loss: 1.0910 - val_acc: 0.3710\n",
      "Epoch 19/100\n",
      "528/528 [==============================] - 2s 3ms/step - loss: 1.0926 - acc: 0.3771 - val_loss: 1.0917 - val_acc: 0.3710\n",
      "Epoch 20/100\n",
      "528/528 [==============================] - 2s 3ms/step - loss: 1.0926 - acc: 0.3782 - val_loss: 1.0910 - val_acc: 0.3710\n",
      "Epoch 21/100\n",
      "528/528 [==============================] - 2s 3ms/step - loss: 1.0926 - acc: 0.3789 - val_loss: 1.0911 - val_acc: 0.3710\n",
      "Epoch 22/100\n",
      "528/528 [==============================] - 2s 3ms/step - loss: 1.0927 - acc: 0.3789 - val_loss: 1.0913 - val_acc: 0.3710\n",
      "Epoch 23/100\n",
      "528/528 [==============================] - 2s 4ms/step - loss: 1.0925 - acc: 0.3773 - val_loss: 1.0911 - val_acc: 0.3710\n",
      "Epoch 24/100\n",
      "528/528 [==============================] - 2s 3ms/step - loss: 1.0926 - acc: 0.3778 - val_loss: 1.0913 - val_acc: 0.3710\n",
      "Epoch 25/100\n",
      "528/528 [==============================] - 2s 3ms/step - loss: 1.0925 - acc: 0.3789 - val_loss: 1.0908 - val_acc: 0.3710\n",
      "Epoch 26/100\n",
      "528/528 [==============================] - 2s 3ms/step - loss: 1.0926 - acc: 0.3783 - val_loss: 1.0908 - val_acc: 0.3761\n",
      "Epoch 27/100\n",
      "528/528 [==============================] - 2s 4ms/step - loss: 1.0926 - acc: 0.3740 - val_loss: 1.0912 - val_acc: 0.3710\n",
      "Epoch 28/100\n",
      "528/528 [==============================] - 2s 3ms/step - loss: 1.0926 - acc: 0.3789 - val_loss: 1.0909 - val_acc: 0.3710\n",
      "Epoch 29/100\n",
      "528/528 [==============================] - 2s 3ms/step - loss: 1.0926 - acc: 0.3786 - val_loss: 1.0910 - val_acc: 0.3710\n",
      "Epoch 30/100\n",
      "528/528 [==============================] - 2s 3ms/step - loss: 1.0926 - acc: 0.3780 - val_loss: 1.0907 - val_acc: 0.3710\n",
      "Epoch 31/100\n",
      "528/528 [==============================] - 2s 4ms/step - loss: 1.0926 - acc: 0.3785 - val_loss: 1.0911 - val_acc: 0.3710\n",
      "Epoch 32/100\n",
      "528/528 [==============================] - 2s 4ms/step - loss: 1.0926 - acc: 0.3789 - val_loss: 1.0912 - val_acc: 0.3710\n",
      "Epoch 33/100\n",
      "528/528 [==============================] - 2s 3ms/step - loss: 1.0925 - acc: 0.3784 - val_loss: 1.0905 - val_acc: 0.3761\n",
      "Epoch 34/100\n",
      "528/528 [==============================] - 2s 3ms/step - loss: 1.0926 - acc: 0.3746 - val_loss: 1.0909 - val_acc: 0.3710\n",
      "Epoch 35/100\n",
      "528/528 [==============================] - 2s 3ms/step - loss: 1.0925 - acc: 0.3789 - val_loss: 1.0913 - val_acc: 0.3710\n",
      "Epoch 36/100\n",
      "528/528 [==============================] - 2s 3ms/step - loss: 1.0926 - acc: 0.3789 - val_loss: 1.0909 - val_acc: 0.3710\n",
      "Epoch 37/100\n",
      "528/528 [==============================] - 2s 3ms/step - loss: 1.0926 - acc: 0.3783 - val_loss: 1.0910 - val_acc: 0.3710\n",
      "Epoch 38/100\n",
      "528/528 [==============================] - 2s 3ms/step - loss: 1.0924 - acc: 0.3785 - val_loss: 1.0914 - val_acc: 0.3710\n",
      "Epoch 39/100\n",
      "528/528 [==============================] - 2s 4ms/step - loss: 1.0925 - acc: 0.3789 - val_loss: 1.0907 - val_acc: 0.3710\n",
      "Epoch 40/100\n",
      "528/528 [==============================] - 2s 4ms/step - loss: 1.0925 - acc: 0.3778 - val_loss: 1.0910 - val_acc: 0.3710\n",
      "Epoch 41/100\n",
      "528/528 [==============================] - 3s 5ms/step - loss: 1.0926 - acc: 0.3789 - val_loss: 1.0910 - val_acc: 0.3710\n",
      "Epoch 42/100\n",
      "528/528 [==============================] - 2s 4ms/step - loss: 1.0925 - acc: 0.3784 - val_loss: 1.0906 - val_acc: 0.3710\n",
      "Epoch 43/100\n",
      "528/528 [==============================] - 2s 4ms/step - loss: 1.0926 - acc: 0.3775 - val_loss: 1.0909 - val_acc: 0.3710\n",
      "Epoch 44/100\n",
      "528/528 [==============================] - 2s 3ms/step - loss: 1.0925 - acc: 0.3789 - val_loss: 1.0906 - val_acc: 0.3710\n",
      "Epoch 45/100\n",
      "528/528 [==============================] - 2s 3ms/step - loss: 1.0924 - acc: 0.3786 - val_loss: 1.0910 - val_acc: 0.3710\n",
      "Epoch 46/100\n",
      "528/528 [==============================] - 2s 4ms/step - loss: 1.0926 - acc: 0.3789 - val_loss: 1.0915 - val_acc: 0.3710\n",
      "Epoch 47/100\n",
      "528/528 [==============================] - 2s 3ms/step - loss: 1.0926 - acc: 0.3783 - val_loss: 1.0907 - val_acc: 0.3710\n",
      "Epoch 48/100\n",
      "528/528 [==============================] - 2s 3ms/step - loss: 1.0926 - acc: 0.3789 - val_loss: 1.0911 - val_acc: 0.3710\n",
      "Epoch 49/100\n",
      "528/528 [==============================] - 2s 3ms/step - loss: 1.0925 - acc: 0.3789 - val_loss: 1.0911 - val_acc: 0.3710\n",
      "Epoch 50/100\n",
      "528/528 [==============================] - 2s 3ms/step - loss: 1.0925 - acc: 0.3789 - val_loss: 1.0909 - val_acc: 0.3710\n",
      "Epoch 51/100\n",
      "528/528 [==============================] - 2s 3ms/step - loss: 1.0926 - acc: 0.3789 - val_loss: 1.0909 - val_acc: 0.3710\n",
      "Epoch 52/100\n",
      "528/528 [==============================] - 2s 3ms/step - loss: 1.0926 - acc: 0.3789 - val_loss: 1.0909 - val_acc: 0.3710\n",
      "Epoch 53/100\n",
      "528/528 [==============================] - 2s 3ms/step - loss: 1.0925 - acc: 0.3789 - val_loss: 1.0908 - val_acc: 0.3710\n",
      "Epoch 54/100\n",
      "528/528 [==============================] - 2s 3ms/step - loss: 1.0926 - acc: 0.3789 - val_loss: 1.0909 - val_acc: 0.3710\n",
      "Epoch 55/100\n",
      "528/528 [==============================] - 2s 3ms/step - loss: 1.0925 - acc: 0.3789 - val_loss: 1.0909 - val_acc: 0.3710\n",
      "Epoch 56/100\n",
      "528/528 [==============================] - 2s 3ms/step - loss: 1.0925 - acc: 0.3789 - val_loss: 1.0908 - val_acc: 0.3710\n",
      "Epoch 57/100\n",
      "528/528 [==============================] - 2s 3ms/step - loss: 1.0926 - acc: 0.3789 - val_loss: 1.0909 - val_acc: 0.3710\n",
      "Epoch 58/100\n",
      "528/528 [==============================] - 2s 3ms/step - loss: 1.0925 - acc: 0.3789 - val_loss: 1.0910 - val_acc: 0.3710\n",
      "Epoch 59/100\n",
      "528/528 [==============================] - 2s 3ms/step - loss: 1.0925 - acc: 0.3789 - val_loss: 1.0910 - val_acc: 0.3710\n",
      "Epoch 60/100\n",
      "528/528 [==============================] - 2s 3ms/step - loss: 1.0925 - acc: 0.3789 - val_loss: 1.0908 - val_acc: 0.3710\n",
      "Epoch 61/100\n",
      "528/528 [==============================] - 2s 3ms/step - loss: 1.0925 - acc: 0.3789 - val_loss: 1.0909 - val_acc: 0.3710\n",
      "Epoch 62/100\n",
      "528/528 [==============================] - 2s 3ms/step - loss: 1.0925 - acc: 0.3789 - val_loss: 1.0908 - val_acc: 0.3710\n",
      "Epoch 63/100\n",
      "528/528 [==============================] - 2s 3ms/step - loss: 1.0925 - acc: 0.3777 - val_loss: 1.0914 - val_acc: 0.3710\n",
      "Epoch 64/100\n",
      "528/528 [==============================] - 2s 3ms/step - loss: 1.0926 - acc: 0.3789 - val_loss: 1.0910 - val_acc: 0.3710\n",
      "Epoch 65/100\n",
      "528/528 [==============================] - 2s 3ms/step - loss: 1.0925 - acc: 0.3789 - val_loss: 1.0910 - val_acc: 0.3710\n",
      "Epoch 66/100\n",
      "528/528 [==============================] - 2s 3ms/step - loss: 1.0925 - acc: 0.3789 - val_loss: 1.0907 - val_acc: 0.3710\n",
      "Epoch 67/100\n",
      "528/528 [==============================] - 2s 3ms/step - loss: 1.0925 - acc: 0.3789 - val_loss: 1.0908 - val_acc: 0.3710\n",
      "Epoch 68/100\n",
      "528/528 [==============================] - 2s 3ms/step - loss: 1.0925 - acc: 0.3789 - val_loss: 1.0908 - val_acc: 0.3710\n",
      "Epoch 69/100\n",
      "528/528 [==============================] - 2s 3ms/step - loss: 1.0925 - acc: 0.3776 - val_loss: 1.0912 - val_acc: 0.3710\n",
      "Epoch 70/100\n",
      "528/528 [==============================] - 2s 3ms/step - loss: 1.0925 - acc: 0.3789 - val_loss: 1.0908 - val_acc: 0.3710\n",
      "Epoch 71/100\n",
      "528/528 [==============================] - 2s 3ms/step - loss: 1.0925 - acc: 0.3789 - val_loss: 1.0908 - val_acc: 0.3710\n",
      "Epoch 72/100\n",
      "528/528 [==============================] - 2s 3ms/step - loss: 1.0925 - acc: 0.3789 - val_loss: 1.0910 - val_acc: 0.3710\n",
      "Epoch 73/100\n",
      "528/528 [==============================] - 2s 3ms/step - loss: 1.0926 - acc: 0.3789 - val_loss: 1.0909 - val_acc: 0.3710\n",
      "Epoch 74/100\n",
      "528/528 [==============================] - 2s 4ms/step - loss: 1.0924 - acc: 0.3789 - val_loss: 1.0907 - val_acc: 0.3710\n",
      "Epoch 75/100\n",
      "528/528 [==============================] - 4s 7ms/step - loss: 1.0925 - acc: 0.3789 - val_loss: 1.0907 - val_acc: 0.3710\n",
      "Epoch 76/100\n",
      "528/528 [==============================] - 2s 3ms/step - loss: 1.0925 - acc: 0.3776 - val_loss: 1.0909 - val_acc: 0.3710\n",
      "Epoch 77/100\n",
      "528/528 [==============================] - 2s 4ms/step - loss: 1.0925 - acc: 0.3789 - val_loss: 1.0909 - val_acc: 0.3710\n",
      "Epoch 78/100\n",
      "528/528 [==============================] - 2s 3ms/step - loss: 1.0925 - acc: 0.3789 - val_loss: 1.0911 - val_acc: 0.3710\n",
      "Epoch 79/100\n",
      "528/528 [==============================] - 2s 4ms/step - loss: 1.0925 - acc: 0.3789 - val_loss: 1.0909 - val_acc: 0.3710\n",
      "Epoch 80/100\n",
      "528/528 [==============================] - 2s 3ms/step - loss: 1.0925 - acc: 0.3789 - val_loss: 1.0908 - val_acc: 0.3710\n",
      "Epoch 81/100\n",
      "528/528 [==============================] - 2s 3ms/step - loss: 1.0925 - acc: 0.3789 - val_loss: 1.0907 - val_acc: 0.3710\n",
      "Epoch 82/100\n",
      "528/528 [==============================] - 2s 3ms/step - loss: 1.0924 - acc: 0.3794 - val_loss: 1.0912 - val_acc: 0.3710\n",
      "Epoch 83/100\n",
      "528/528 [==============================] - 2s 3ms/step - loss: 1.0925 - acc: 0.3789 - val_loss: 1.0907 - val_acc: 0.3710\n",
      "Epoch 84/100\n",
      "528/528 [==============================] - 2s 3ms/step - loss: 1.0924 - acc: 0.3789 - val_loss: 1.0912 - val_acc: 0.3710\n",
      "Epoch 85/100\n",
      "528/528 [==============================] - 2s 3ms/step - loss: 1.0925 - acc: 0.3789 - val_loss: 1.0908 - val_acc: 0.3710\n",
      "Epoch 86/100\n",
      "528/528 [==============================] - 2s 3ms/step - loss: 1.0925 - acc: 0.3789 - val_loss: 1.0909 - val_acc: 0.3710\n",
      "Epoch 87/100\n",
      "528/528 [==============================] - 2s 3ms/step - loss: 1.0925 - acc: 0.3789 - val_loss: 1.0911 - val_acc: 0.3710\n",
      "Epoch 88/100\n",
      "528/528 [==============================] - 2s 3ms/step - loss: 1.0925 - acc: 0.3789 - val_loss: 1.0909 - val_acc: 0.3710\n",
      "Epoch 89/100\n",
      "528/528 [==============================] - 2s 3ms/step - loss: 1.0924 - acc: 0.3789 - val_loss: 1.0908 - val_acc: 0.3710\n",
      "Epoch 90/100\n",
      "528/528 [==============================] - 2s 3ms/step - loss: 1.0925 - acc: 0.3789 - val_loss: 1.0913 - val_acc: 0.3710\n",
      "Epoch 91/100\n",
      "528/528 [==============================] - 2s 3ms/step - loss: 1.0925 - acc: 0.3789 - val_loss: 1.0908 - val_acc: 0.3710\n",
      "Epoch 92/100\n",
      "528/528 [==============================] - 2s 3ms/step - loss: 1.0925 - acc: 0.3789 - val_loss: 1.0907 - val_acc: 0.3710\n",
      "Epoch 93/100\n",
      "528/528 [==============================] - 2s 3ms/step - loss: 1.0925 - acc: 0.3768 - val_loss: 1.0912 - val_acc: 0.3710\n",
      "Epoch 94/100\n",
      "528/528 [==============================] - 2s 3ms/step - loss: 1.0925 - acc: 0.3789 - val_loss: 1.0907 - val_acc: 0.3710\n",
      "Epoch 95/100\n",
      "528/528 [==============================] - 2s 3ms/step - loss: 1.0925 - acc: 0.3789 - val_loss: 1.0907 - val_acc: 0.3710\n",
      "Epoch 96/100\n",
      "528/528 [==============================] - 2s 3ms/step - loss: 1.0925 - acc: 0.3773 - val_loss: 1.0910 - val_acc: 0.3710\n",
      "Epoch 97/100\n",
      "528/528 [==============================] - 2s 3ms/step - loss: 1.0925 - acc: 0.3777 - val_loss: 1.0915 - val_acc: 0.3710\n",
      "Epoch 98/100\n",
      "528/528 [==============================] - 2s 3ms/step - loss: 1.0925 - acc: 0.3783 - val_loss: 1.0907 - val_acc: 0.3710\n",
      "Epoch 99/100\n",
      "528/528 [==============================] - 2s 3ms/step - loss: 1.0925 - acc: 0.3789 - val_loss: 1.0910 - val_acc: 0.3710\n",
      "Epoch 100/100\n",
      "528/528 [==============================] - 2s 3ms/step - loss: 1.0925 - acc: 0.3789 - val_loss: 1.0907 - val_acc: 0.3710\n"
     ]
    }
   ],
   "source": [
    "model3 = Sequential()\n",
    "model3.add(layers.Embedding(max_words, 40, input_length=max_len))\n",
    "model3.add(layers.Conv1D(20, 6, activation='relu',kernel_regularizer=regularizers.l1_l2(l1=2e-3, l2=2e-3),\n",
    "                         bias_regularizer=regularizers.l2(2e-3)))\n",
    "model3.add(layers.MaxPooling1D(5))\n",
    "model3.add(layers.Conv1D(20, 6, activation='relu',kernel_regularizer=regularizers.l1_l2(l1=2e-3, l2=2e-3),\n",
    "                         bias_regularizer=regularizers.l2(2e-3)))\n",
    "model3.add(layers.GlobalMaxPooling1D())\n",
    "model3.add(layers.Dense(3,activation='softmax'))\n",
    "model3.compile(optimizer='rmsprop',loss='categorical_crossentropy',metrics=['acc'])\n",
    "history = model3.fit(X_train, y_train, epochs=100,validation_data=(X_test, y_test))"
   ]
  },
  {
   "cell_type": "markdown",
   "metadata": {},
   "source": [
    "### Best LTSM model validation"
   ]
  },
  {
   "cell_type": "code",
   "execution_count": 147,
   "metadata": {},
   "outputs": [],
   "source": [
    "import keras\n",
    "best_model = keras.models.load_model(\"best_model2.hdf5\")"
   ]
  },
  {
   "cell_type": "code",
   "execution_count": 148,
   "metadata": {},
   "outputs": [
    {
     "name": "stdout",
     "output_type": "stream",
     "text": [
      "176/176 - 2s - loss: 0.6793 - accuracy: 0.7274 - 2s/epoch - 9ms/step\n",
      "Model accuracy:  0.7274019122123718\n"
     ]
    }
   ],
   "source": [
    "test_loss, test_acc = best_model.evaluate(X_test, y_test, verbose=2)\n",
    "print('Model accuracy: ',test_acc)"
   ]
  },
  {
   "cell_type": "code",
   "execution_count": 150,
   "metadata": {},
   "outputs": [
    {
     "name": "stdout",
     "output_type": "stream",
     "text": [
      "176/176 [==============================] - 1s 6ms/step\n"
     ]
    },
    {
     "data": {
      "text/plain": [
       "array([[0.11727185, 0.86271244, 0.02001567],\n",
       "       [0.20059192, 0.00178094, 0.79762715],\n",
       "       [0.7676636 , 0.03574836, 0.19658808],\n",
       "       ...,\n",
       "       [0.00956155, 0.00127574, 0.9891627 ],\n",
       "       [0.83444643, 0.15601608, 0.0095375 ],\n",
       "       [0.29233518, 0.6660109 , 0.04165387]], dtype=float32)"
      ]
     },
     "execution_count": 150,
     "metadata": {},
     "output_type": "execute_result"
    }
   ],
   "source": [
    "predictions = best_model.predict(X_test)\n",
    "predictions"
   ]
  },
  {
   "cell_type": "code",
   "execution_count": 155,
   "metadata": {},
   "outputs": [
    {
     "data": {
      "image/png": "[encoded data removed]",
      "text/plain": [
       "<Figure size 1000x800 with 2 Axes>"
      ]
     },
     "metadata": {},
     "output_type": "display_data"
    }
   ],
   "source": [
    "matrix = confusion_matrix(y_test.argmax(axis=1), np.around(predictions, decimals=0).argmax(axis=1))\n",
    "\n",
    "conf_matrix = pd.DataFrame(matrix, index=['Neutral', 'Negative', 'Positive'], columns=['Neutral', 'Negative', 'Positive'])\n",
    "\n",
    "plt.figure(figsize=(10, 8))\n",
    "sns.heatmap(conf_matrix, annot=True, fmt='d', annot_kws={\"size\": 15}, cmap = \"Blues\")\n",
    "plt.title(\"LTSM Confusion Matrix\") \n",
    "plt.show()  # Display the heatmap"
   ]
  },
  {
   "cell_type": "markdown",
   "metadata": {},
   "source": [
    "## Conclusion\n",
    "\n",
    "**Business Outcomes:**\n",
    "\n",
    "- **Real-time Monitoring:** Stakeholders can monitor sentiment in real-time to address negative sentiment promptly and capitalize on positive sentiment.\n",
    "\n",
    "- **Audience Engagement:** Marketing teams can tailor their campaigns based on the sentiment analysis results to resonate better with the audience.\n",
    "\n",
    "- **Brand Perception:** Sponsors can evaluate their brand's perception among fans and adjust strategies accordingly.\n",
    "\n",
    "- **Fan Experience Enhancement:** Event organizers can leverage sentiment analysis to identify areas of improvement and subsequently enhance the overall fan experience, ensuring maximum satisfaction.\n",
    "\n",
    "- **Crisis Management:** Detect potential controversies or negative incidents quickly and take corrective actions to mitigate their impact.\n",
    "\n",
    "- **Post-Event Analysis:** \n",
    "\n",
    "After the World Cup, conduct a comprehensive sentiment analysis to gain insights into the event's success, fan experience, and areas for improvement in future editions.\n",
    "\n",
    "In summary, conducting sentiment analysis on tweets from the FIFA World Cup 2022 can provide valuable insights that impact decision-making, engagement strategies, and overall event experience. It empowers stakeholders to understand public sentiment and use it to optimize their actions and strategies in real-time.\n",
    "\n",
    "**Results:**\n",
    "As seen from our steps above, the fine-tuned Roberta Model is the best model with the highest score across all of the metrics. Therefore, we will be using that as our final model. \n",
    "\n",
    "Here are the metrics(training-test split data):\n",
    "\n",
    "- Accuracy: 0.91\n",
    "- Precision: 0.91\n",
    "- Recall: 0.91\n",
    "- F1-Score: 0.91\n",
    "\n",
    "**Next step:**\n",
    "\n",
    "While I have come to the conclusion that the Neural Network model shows some potential. If I finetune it, I believe that I can make the model better with a higher accuracy than the RoBERTa model."
   ]
  },
  {
   "cell_type": "markdown",
   "metadata": {},
   "source": []
  },
  {
   "cell_type": "code",
   "execution_count": null,
   "metadata": {},
   "outputs": [],
   "source": []
  }
 ],
 "metadata": {
  "kernelspec": {
   "display_name": "Python 3",
   "language": "python",
   "name": "python3"
  },
  "language_info": {
   "codemirror_mode": {
    "name": "ipython",
    "version": 3
   },
   "file_extension": ".py",
   "mimetype": "text/x-python",
   "name": "python",
   "nbconvert_exporter": "python",
   "pygments_lexer": "ipython3",
   "version": "3.11.4"
  },
  "orig_nbformat": 4
 },
 "nbformat": 4,
 "nbformat_minor": 2
}
